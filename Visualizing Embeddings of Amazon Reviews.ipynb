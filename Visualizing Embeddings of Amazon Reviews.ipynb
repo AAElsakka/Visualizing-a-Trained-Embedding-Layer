{
 "cells": [
  {
   "cell_type": "code",
   "execution_count": 1,
   "id": "cd1a0930",
   "metadata": {},
   "outputs": [],
   "source": [
    "import warnings\n",
    "warnings.filterwarnings('ignore')"
   ]
  },
  {
   "cell_type": "code",
   "execution_count": 2,
   "id": "02a22fa6",
   "metadata": {},
   "outputs": [],
   "source": [
    "import numpy as np\n",
    "import pandas as pd\n",
    "\n",
    "import matplotlib.pyplot as plt\n",
    "%matplotlib inline"
   ]
  },
  {
   "cell_type": "code",
   "execution_count": 3,
   "id": "076a9798",
   "metadata": {},
   "outputs": [],
   "source": [
    "sentences = ['if your love was fake',\n",
    "             'then abandoning you is a piece of cake',\n",
    "             'hit it farghaly',\n",
    "             'she is in the past',\n",
    "             'and the past is not my concern',\n",
    "             'now we play the offense',\n",
    "             'you blew up my pub',\n",
    "             'in the bleak midwinter']\n",
    "\n",
    "VOCAB_SIZE = 40"
   ]
  },
  {
   "cell_type": "code",
   "execution_count": 4,
   "id": "c8ac2134",
   "metadata": {},
   "outputs": [
    {
     "name": "stderr",
     "output_type": "stream",
     "text": [
      "Using TensorFlow backend.\n"
     ]
    },
    {
     "name": "stdout",
     "output_type": "stream",
     "text": [
      "Words:Token\n",
      " {'<OOV>': 1, 'the': 2, 'is': 3, 'you': 4, 'in': 5, 'past': 6, 'my': 7, 'if': 8, 'your': 9, 'love': 10, 'was': 11, 'fake': 12, 'then': 13, 'abandoning': 14, 'a': 15, 'piece': 16, 'of': 17, 'cake': 18, 'hit': 19, 'it': 20, 'farghaly': 21, 'she': 22, 'and': 23, 'not': 24, 'concern': 25, 'now': 26, 'we': 27, 'play': 28, 'offense': 29, 'blew': 30, 'up': 31, 'pub': 32, 'bleak': 33, 'midwinter': 34}\n",
      "\n",
      "Tokenized Sentences\n",
      "[[8, 9, 10, 11, 12], [13, 14, 4, 3, 15, 16, 17, 18], [19, 20, 21], [22, 3, 5, 2, 6], [23, 2, 6, 3, 24, 7, 25], [26, 27, 28, 2, 29], [4, 30, 31, 7, 32], [5, 2, 33, 34]]\n",
      "\n",
      "OOV Sentence\n",
      "[[1, 17, 4, 1, 1, 5, 1]]\n"
     ]
    }
   ],
   "source": [
    "import keras \n",
    "from keras.preprocessing.text import Tokenizer\n",
    "\n",
    "tokenizer = Tokenizer(num_words=VOCAB_SIZE, oov_token='<OOV>')\n",
    "tokenizer.fit_on_texts(sentences)\n",
    "\n",
    "word_dict = tokenizer.word_index\n",
    "print('Words:Token\\n', word_dict)\n",
    "\n",
    "sequences = tokenizer.texts_to_sequences(sentences)\n",
    "print('\\nTokenized Sentences')\n",
    "print(sequences)\n",
    "\n",
    "print('\\nOOV Sentence')\n",
    "oov_text=['any of you boys faught in france?']\n",
    "print(tokenizer.texts_to_sequences(oov_text))"
   ]
  },
  {
   "cell_type": "code",
   "execution_count": 5,
   "id": "2cd40536",
   "metadata": {},
   "outputs": [
    {
     "name": "stdout",
     "output_type": "stream",
     "text": [
      "Padded Sequence\n",
      " [[ 0  0  0  0  0  8  9 10 11 12]\n",
      " [ 0  0 13 14  4  3 15 16 17 18]\n",
      " [ 0  0  0  0  0  0  0 19 20 21]\n",
      " [ 0  0  0  0  0 22  3  5  2  6]\n",
      " [ 0  0  0 23  2  6  3 24  7 25]\n",
      " [ 0  0  0  0  0 26 27 28  2 29]\n",
      " [ 0  0  0  0  0  4 30 31  7 32]\n",
      " [ 0  0  0  0  0  0  5  2 33 34]]\n"
     ]
    }
   ],
   "source": [
    "from keras.preprocessing.sequence import pad_sequences\n",
    "\n",
    "padded = pad_sequences(sequences, maxlen=10)\n",
    "print('Padded Sequence\\n', padded)"
   ]
  },
  {
   "cell_type": "markdown",
   "id": "af6e85ad",
   "metadata": {},
   "source": [
    "## Sentiment Real Data (AMAZON REVIEWS)"
   ]
  },
  {
   "cell_type": "code",
   "execution_count": 6,
   "id": "d8bf7995",
   "metadata": {},
   "outputs": [
    {
     "data": {
      "text/html": [
       "<div>\n",
       "<style scoped>\n",
       "    .dataframe tbody tr th:only-of-type {\n",
       "        vertical-align: middle;\n",
       "    }\n",
       "\n",
       "    .dataframe tbody tr th {\n",
       "        vertical-align: top;\n",
       "    }\n",
       "\n",
       "    .dataframe thead th {\n",
       "        text-align: right;\n",
       "    }\n",
       "</style>\n",
       "<table border=\"1\" class=\"dataframe\">\n",
       "  <thead>\n",
       "    <tr style=\"text-align: right;\">\n",
       "      <th></th>\n",
       "      <th>text</th>\n",
       "      <th>sentiment</th>\n",
       "    </tr>\n",
       "  </thead>\n",
       "  <tbody>\n",
       "    <tr>\n",
       "      <th>0</th>\n",
       "      <td>So there is no way for me to plug it in here i...</td>\n",
       "      <td>0</td>\n",
       "    </tr>\n",
       "    <tr>\n",
       "      <th>1</th>\n",
       "      <td>Good case Excellent value.</td>\n",
       "      <td>1</td>\n",
       "    </tr>\n",
       "  </tbody>\n",
       "</table>\n",
       "</div>"
      ],
      "text/plain": [
       "                                                text  sentiment\n",
       "0  So there is no way for me to plug it in here i...          0\n",
       "1                         Good case Excellent value.          1"
      ]
     },
     "metadata": {},
     "output_type": "display_data"
    }
   ],
   "source": [
    "dataset = pd.read_csv('./Amazon Reviews/combined_data.csv', index_col=0)\n",
    "display(dataset.head(2))\n",
    "\n",
    "\n",
    "sentences = dataset['text'].tolist()\n",
    "labels = dataset['sentiment'].tolist()\n",
    "\n",
    "\n",
    "training_size = int(len(sentences) * 0.8)\n",
    "\n",
    "training_sentences = sentences[0:training_size]\n",
    "testing_sentences = sentences[training_size:]\n",
    "training_labels = labels[0:training_size]\n",
    "testing_labels = labels[training_size:]\n",
    "\n",
    "\n",
    "training_labels_final = np.array(training_labels)\n",
    "testing_labels_final = np.array(testing_labels)"
   ]
  },
  {
   "cell_type": "code",
   "execution_count": 7,
   "id": "c3c3850d",
   "metadata": {},
   "outputs": [],
   "source": [
    "VOCAB_SIZE = 500\n",
    "EMBEDDING_DIM = 32\n",
    "MAX_LENGTH = 50\n",
    "OOV_TOK = \"<OOV>\"\n",
    "\n",
    "tokenizer = Tokenizer(num_words=VOCAB_SIZE ,oov_token=OOV_TOK)\n",
    "tokenizer.fit_on_texts(training_sentences)\n",
    "sequences = tokenizer.texts_to_sequences(training_sentences)\n",
    "padded = pad_sequences(sequences, maxlen=MAX_LENGTH)\n",
    "\n",
    "test_sequences = tokenizer.texts_to_sequences(testing_sentences)\n",
    "test_padded = pad_sequences(test_sequences, maxlen=MAX_LENGTH)"
   ]
  },
  {
   "cell_type": "code",
   "execution_count": 8,
   "id": "621b05fa",
   "metadata": {},
   "outputs": [
    {
     "name": "stdout",
     "output_type": "stream",
     "text": [
      "decoded:\n",
      " ? ? ? ? ? ? ? ? ? ? ? ? ? ? ? ? ? ? ? ? ? ? ? ? ? ? ? ? ? ? ? ? ? ? ? ? ? ? ? ? ? ? ? ? ? ? good case excellent value\n",
      "\n",
      "original:\n",
      " Good case Excellent value.\n"
     ]
    }
   ],
   "source": [
    "def decode_sequence(text, index_word):\n",
    "    return ' '.join([index_word.get(word, '?') for word in text])\n",
    "\n",
    "print('decoded:\\n',decode_sequence(padded[1], tokenizer.index_word))\n",
    "print('\\noriginal:\\n',training_sentences[1])"
   ]
  },
  {
   "cell_type": "code",
   "execution_count": 49,
   "id": "26e38bdc",
   "metadata": {
    "scrolled": true
   },
   "outputs": [
    {
     "name": "stdout",
     "output_type": "stream",
     "text": [
      "Train on 1593 samples, validate on 399 samples\n",
      "Epoch 1/50\n",
      "1593/1593 [==============================] - 3s 2ms/step - loss: 0.6927 - accuracy: 0.5223 - val_loss: 0.7005 - val_accuracy: 0.4110\n",
      "Epoch 2/50\n",
      "1593/1593 [==============================] - 2s 1ms/step - loss: 0.6111 - accuracy: 0.6416 - val_loss: 0.5462 - val_accuracy: 0.7318\n",
      "Epoch 3/50\n",
      "1593/1593 [==============================] - 2s 1ms/step - loss: 0.4033 - accuracy: 0.8412 - val_loss: 0.6608 - val_accuracy: 0.7218\n",
      "Epoch 4/50\n",
      "1593/1593 [==============================] - 2s 1ms/step - loss: 0.3182 - accuracy: 0.8751 - val_loss: 0.5114 - val_accuracy: 0.7820\n",
      "Epoch 5/50\n",
      "1593/1593 [==============================] - 2s 1ms/step - loss: 0.2963 - accuracy: 0.8858 - val_loss: 0.7663 - val_accuracy: 0.7293\n",
      "Epoch 6/50\n",
      "1593/1593 [==============================] - 2s 1ms/step - loss: 0.2720 - accuracy: 0.8908 - val_loss: 0.5248 - val_accuracy: 0.7920\n",
      "Epoch 7/50\n",
      "1593/1593 [==============================] - 2s 1ms/step - loss: 0.2378 - accuracy: 0.9102 - val_loss: 0.7150 - val_accuracy: 0.7444\n",
      "Epoch 8/50\n",
      "1593/1593 [==============================] - 2s 1ms/step - loss: 0.2412 - accuracy: 0.9021 - val_loss: 0.9108 - val_accuracy: 0.7093\n",
      "Epoch 9/50\n",
      "1593/1593 [==============================] - 3s 2ms/step - loss: 0.2159 - accuracy: 0.9247 - val_loss: 0.5186 - val_accuracy: 0.7769\n",
      "Epoch 10/50\n",
      "1593/1593 [==============================] - 3s 2ms/step - loss: 0.2267 - accuracy: 0.9203 - val_loss: 0.8350 - val_accuracy: 0.7469\n",
      "Epoch 11/50\n",
      "1593/1593 [==============================] - 3s 2ms/step - loss: 0.2075 - accuracy: 0.9309 - val_loss: 0.7016 - val_accuracy: 0.7368\n",
      "Epoch 12/50\n",
      "1593/1593 [==============================] - 2s 2ms/step - loss: 0.1833 - accuracy: 0.9360 - val_loss: 0.7183 - val_accuracy: 0.7343\n",
      "Epoch 13/50\n",
      "1593/1593 [==============================] - 2s 2ms/step - loss: 0.1837 - accuracy: 0.9385 - val_loss: 0.8493 - val_accuracy: 0.7519\n",
      "Epoch 14/50\n",
      "1593/1593 [==============================] - 2s 2ms/step - loss: 0.1713 - accuracy: 0.9454 - val_loss: 0.7195 - val_accuracy: 0.7519\n",
      "Epoch 15/50\n",
      "1593/1593 [==============================] - 3s 2ms/step - loss: 0.1757 - accuracy: 0.9429 - val_loss: 0.7634 - val_accuracy: 0.7393\n",
      "Epoch 16/50\n",
      "1593/1593 [==============================] - 3s 2ms/step - loss: 0.1594 - accuracy: 0.9441 - val_loss: 0.8420 - val_accuracy: 0.7368\n",
      "Epoch 17/50\n",
      "1593/1593 [==============================] - 2s 2ms/step - loss: 0.1656 - accuracy: 0.9416 - val_loss: 0.7943 - val_accuracy: 0.7368\n",
      "Epoch 18/50\n",
      "1593/1593 [==============================] - 3s 2ms/step - loss: 0.1592 - accuracy: 0.9404 - val_loss: 1.2780 - val_accuracy: 0.6992\n",
      "Epoch 19/50\n",
      "1593/1593 [==============================] - 2s 2ms/step - loss: 0.1566 - accuracy: 0.9466 - val_loss: 0.8527 - val_accuracy: 0.7343\n",
      "Epoch 20/50\n",
      "1593/1593 [==============================] - 2s 1ms/step - loss: 0.1513 - accuracy: 0.9523 - val_loss: 0.9656 - val_accuracy: 0.7444\n",
      "Epoch 21/50\n",
      "1593/1593 [==============================] - 3s 2ms/step - loss: 0.1475 - accuracy: 0.9460 - val_loss: 0.9755 - val_accuracy: 0.7419\n",
      "Epoch 22/50\n",
      "1593/1593 [==============================] - 2s 1ms/step - loss: 0.1298 - accuracy: 0.9567 - val_loss: 0.8809 - val_accuracy: 0.7143\n",
      "Epoch 23/50\n",
      "1593/1593 [==============================] - 2s 2ms/step - loss: 0.1343 - accuracy: 0.9554 - val_loss: 0.8102 - val_accuracy: 0.7494\n",
      "Epoch 24/50\n",
      "1593/1593 [==============================] - 2s 2ms/step - loss: 0.1355 - accuracy: 0.9542 - val_loss: 0.9730 - val_accuracy: 0.7544\n",
      "Epoch 25/50\n",
      "1593/1593 [==============================] - 2s 2ms/step - loss: 0.1260 - accuracy: 0.9548 - val_loss: 1.0993 - val_accuracy: 0.7193\n",
      "Epoch 26/50\n",
      "1593/1593 [==============================] - 3s 2ms/step - loss: 0.1071 - accuracy: 0.9617 - val_loss: 1.2630 - val_accuracy: 0.7018\n",
      "Epoch 27/50\n",
      "1593/1593 [==============================] - 3s 2ms/step - loss: 0.1199 - accuracy: 0.9573 - val_loss: 1.0972 - val_accuracy: 0.7393\n",
      "Epoch 28/50\n",
      "1593/1593 [==============================] - 3s 2ms/step - loss: 0.0893 - accuracy: 0.9655 - val_loss: 1.0849 - val_accuracy: 0.7168\n",
      "Epoch 29/50\n",
      "1593/1593 [==============================] - 3s 2ms/step - loss: 0.0929 - accuracy: 0.9692 - val_loss: 1.1760 - val_accuracy: 0.7193\n",
      "Epoch 30/50\n",
      "1593/1593 [==============================] - 2s 2ms/step - loss: 0.1084 - accuracy: 0.9592 - val_loss: 0.9289 - val_accuracy: 0.7318\n",
      "Epoch 31/50\n",
      "1593/1593 [==============================] - 3s 2ms/step - loss: 0.0923 - accuracy: 0.9686 - val_loss: 1.3519 - val_accuracy: 0.7018\n",
      "Epoch 32/50\n",
      "1593/1593 [==============================] - 3s 2ms/step - loss: 0.0887 - accuracy: 0.9661 - val_loss: 1.1088 - val_accuracy: 0.6967\n",
      "Epoch 33/50\n",
      "1593/1593 [==============================] - 2s 2ms/step - loss: 0.0969 - accuracy: 0.9655 - val_loss: 1.1570 - val_accuracy: 0.7268\n",
      "Epoch 34/50\n",
      "1593/1593 [==============================] - 2s 2ms/step - loss: 0.1004 - accuracy: 0.9655 - val_loss: 0.9854 - val_accuracy: 0.7368\n",
      "Epoch 35/50\n",
      "1593/1593 [==============================] - 2s 2ms/step - loss: 0.0694 - accuracy: 0.9761 - val_loss: 1.3786 - val_accuracy: 0.7193\n",
      "Epoch 36/50\n",
      "1593/1593 [==============================] - 3s 2ms/step - loss: 0.0693 - accuracy: 0.9780 - val_loss: 1.4526 - val_accuracy: 0.6842\n",
      "Epoch 37/50\n",
      "1593/1593 [==============================] - 3s 2ms/step - loss: 0.0891 - accuracy: 0.9680 - val_loss: 1.2873 - val_accuracy: 0.7168\n",
      "Epoch 38/50\n",
      "1593/1593 [==============================] - 3s 2ms/step - loss: 0.1083 - accuracy: 0.9605 - val_loss: 1.1428 - val_accuracy: 0.7218\n",
      "Epoch 39/50\n",
      "1593/1593 [==============================] - 3s 2ms/step - loss: 0.0895 - accuracy: 0.9692 - val_loss: 1.0127 - val_accuracy: 0.7293\n",
      "Epoch 40/50\n",
      "1593/1593 [==============================] - 2s 2ms/step - loss: 0.0654 - accuracy: 0.9780 - val_loss: 1.2821 - val_accuracy: 0.7243\n",
      "Epoch 41/50\n",
      "1593/1593 [==============================] - 3s 2ms/step - loss: 0.0660 - accuracy: 0.9705 - val_loss: 1.2282 - val_accuracy: 0.6892\n",
      "Epoch 42/50\n",
      "1593/1593 [==============================] - 3s 2ms/step - loss: 0.1217 - accuracy: 0.9529 - val_loss: 0.9638 - val_accuracy: 0.6942\n",
      "Epoch 43/50\n",
      "1593/1593 [==============================] - 3s 2ms/step - loss: 0.0879 - accuracy: 0.9686 - val_loss: 1.0205 - val_accuracy: 0.7343\n",
      "Epoch 44/50\n",
      "1593/1593 [==============================] - 3s 2ms/step - loss: 0.0978 - accuracy: 0.9736 - val_loss: 1.0901 - val_accuracy: 0.7193\n",
      "Epoch 45/50\n",
      "1593/1593 [==============================] - 3s 2ms/step - loss: 0.0623 - accuracy: 0.9824 - val_loss: 1.3459 - val_accuracy: 0.7018\n",
      "Epoch 46/50\n",
      "1593/1593 [==============================] - 3s 2ms/step - loss: 0.0570 - accuracy: 0.9805 - val_loss: 1.3322 - val_accuracy: 0.6817\n",
      "Epoch 47/50\n",
      "1593/1593 [==============================] - 2s 2ms/step - loss: 0.0568 - accuracy: 0.9799 - val_loss: 1.3526 - val_accuracy: 0.7068\n",
      "Epoch 48/50\n",
      "1593/1593 [==============================] - 2s 2ms/step - loss: 0.0480 - accuracy: 0.9843 - val_loss: 1.4529 - val_accuracy: 0.6992\n",
      "Epoch 49/50\n",
      "1593/1593 [==============================] - 2s 1ms/step - loss: 0.0497 - accuracy: 0.9843 - val_loss: 1.3630 - val_accuracy: 0.6942\n",
      "Epoch 50/50\n",
      "1593/1593 [==============================] - 2s 1ms/step - loss: 0.0464 - accuracy: 0.9812 - val_loss: 1.4061 - val_accuracy: 0.6867\n"
     ]
    }
   ],
   "source": [
    "from keras.models import Sequential\n",
    "from keras.layers import Embedding, Flatten, Dense, GlobalAveragePooling1D\n",
    "from keras.layers import Bidirectional, LSTM\n",
    "\n",
    "model = Sequential(\n",
    "    [\n",
    "        Embedding(input_dim=VOCAB_SIZE, output_dim=EMBEDDING_DIM,\n",
    "                 input_shape=([MAX_LENGTH])),\n",
    "        Bidirectional(LSTM(EMBEDDING_DIM, return_sequences=True)),\n",
    "        Bidirectional(LSTM(EMBEDDING_DIM, return_sequences=True)),\n",
    "        #Flatten(),\n",
    "        GlobalAveragePooling1D(),\n",
    "        Dense(128, activation='relu'),\n",
    "        Dense(64, activation='relu'),\n",
    "        Dense(1, activation='sigmoid')\n",
    "    ]\n",
    ")\n",
    "\n",
    "model.compile(loss=keras.losses.BinaryCrossentropy(),\n",
    "              optimizer='adam',\n",
    "              metrics=['accuracy'])\n",
    "history=model.fit(padded, training_labels_final, epochs=50, \n",
    "                  validation_data=(test_padded, testing_labels_final))"
   ]
  },
  {
   "cell_type": "code",
   "execution_count": 50,
   "id": "ddc28eaa",
   "metadata": {
    "scrolled": true
   },
   "outputs": [
    {
     "name": "stdout",
     "output_type": "stream",
     "text": [
      "Model: \"sequential_4\"\n",
      "_________________________________________________________________\n",
      "Layer (type)                 Output Shape              Param #   \n",
      "=================================================================\n",
      "embedding_4 (Embedding)      (None, 50, 32)            16000     \n",
      "_________________________________________________________________\n",
      "bidirectional_7 (Bidirection (None, 50, 64)            16640     \n",
      "_________________________________________________________________\n",
      "bidirectional_8 (Bidirection (None, 50, 64)            24832     \n",
      "_________________________________________________________________\n",
      "global_average_pooling1d_4 ( (None, 64)                0         \n",
      "_________________________________________________________________\n",
      "dense_8 (Dense)              (None, 128)               8320      \n",
      "_________________________________________________________________\n",
      "dense_9 (Dense)              (None, 64)                8256      \n",
      "_________________________________________________________________\n",
      "dense_10 (Dense)             (None, 1)                 65        \n",
      "=================================================================\n",
      "Total params: 74,113\n",
      "Trainable params: 74,113\n",
      "Non-trainable params: 0\n",
      "_________________________________________________________________\n"
     ]
    }
   ],
   "source": [
    "model.summary()"
   ]
  },
  {
   "cell_type": "markdown",
   "id": "fce4fb44",
   "metadata": {},
   "source": [
    "### Visualizing Embeddings"
   ]
  },
  {
   "cell_type": "code",
   "execution_count": 51,
   "id": "d6e17561",
   "metadata": {},
   "outputs": [
    {
     "name": "stdout",
     "output_type": "stream",
     "text": [
      "Embedding Matrix's Shape (500, 32)\n"
     ]
    }
   ],
   "source": [
    "embeddings_weights = model.layers[0].get_weights()[0]\n",
    "print(\"Embedding Matrix's Shape\", embeddings_weights.shape)"
   ]
  },
  {
   "cell_type": "markdown",
   "id": "8dde3397",
   "metadata": {},
   "source": [
    "### PCA"
   ]
  },
  {
   "cell_type": "code",
   "execution_count": 52,
   "id": "b329e804",
   "metadata": {},
   "outputs": [
    {
     "name": "stdout",
     "output_type": "stream",
     "text": [
      "Data Decomposed Shape (500, 3)\n"
     ]
    }
   ],
   "source": [
    "from sklearn.decomposition import PCA\n",
    "\n",
    "pca = PCA(n_components=3)\n",
    "three_d = pca.fit_transform(embeddings_weights)\n",
    "print('Data Decomposed Shape', three_d.shape)"
   ]
  },
  {
   "cell_type": "markdown",
   "id": "210fc15e",
   "metadata": {},
   "source": [
    "### Embedded DataFrame"
   ]
  },
  {
   "cell_type": "code",
   "execution_count": 53,
   "id": "094c0adb",
   "metadata": {},
   "outputs": [
    {
     "data": {
      "text/html": [
       "<div>\n",
       "<style scoped>\n",
       "    .dataframe tbody tr th:only-of-type {\n",
       "        vertical-align: middle;\n",
       "    }\n",
       "\n",
       "    .dataframe tbody tr th {\n",
       "        vertical-align: top;\n",
       "    }\n",
       "\n",
       "    .dataframe thead th {\n",
       "        text-align: right;\n",
       "    }\n",
       "</style>\n",
       "<table border=\"1\" class=\"dataframe\">\n",
       "  <thead>\n",
       "    <tr style=\"text-align: right;\">\n",
       "      <th></th>\n",
       "      <th>word</th>\n",
       "      <th>embedding</th>\n",
       "    </tr>\n",
       "  </thead>\n",
       "  <tbody>\n",
       "    <tr>\n",
       "      <th>0</th>\n",
       "      <td>&lt;OOV&gt;</td>\n",
       "      <td>NaN</td>\n",
       "    </tr>\n",
       "  </tbody>\n",
       "</table>\n",
       "</div>"
      ],
      "text/plain": [
       "    word embedding\n",
       "0  <OOV>       NaN"
      ]
     },
     "execution_count": 53,
     "metadata": {},
     "output_type": "execute_result"
    }
   ],
   "source": [
    "word_emb_df = pd.DataFrame(columns=['word', 'embedding'])\n",
    "word_emb_df['word'] = np.array(list(tokenizer.word_index.keys()))[:VOCAB_SIZE-1]\n",
    "word_emb_df.head(1)"
   ]
  },
  {
   "cell_type": "code",
   "execution_count": 54,
   "id": "336eaaba",
   "metadata": {},
   "outputs": [],
   "source": [
    "embeddings = []\n",
    "for word_num in range(0, VOCAB_SIZE-1):\n",
    "    embeddings.append(three_d[word_num])"
   ]
  },
  {
   "cell_type": "code",
   "execution_count": 55,
   "id": "d5680d71",
   "metadata": {},
   "outputs": [
    {
     "data": {
      "text/html": [
       "<div>\n",
       "<style scoped>\n",
       "    .dataframe tbody tr th:only-of-type {\n",
       "        vertical-align: middle;\n",
       "    }\n",
       "\n",
       "    .dataframe tbody tr th {\n",
       "        vertical-align: top;\n",
       "    }\n",
       "\n",
       "    .dataframe thead th {\n",
       "        text-align: right;\n",
       "    }\n",
       "</style>\n",
       "<table border=\"1\" class=\"dataframe\">\n",
       "  <thead>\n",
       "    <tr style=\"text-align: right;\">\n",
       "      <th></th>\n",
       "      <th>word</th>\n",
       "      <th>embedding</th>\n",
       "    </tr>\n",
       "  </thead>\n",
       "  <tbody>\n",
       "    <tr>\n",
       "      <th>497</th>\n",
       "      <td>chicken</td>\n",
       "      <td>[0.377891, -0.021889165, -0.018992584]</td>\n",
       "    </tr>\n",
       "    <tr>\n",
       "      <th>498</th>\n",
       "      <td>town</td>\n",
       "      <td>[0.1776778, -0.12323314, -0.023003444]</td>\n",
       "    </tr>\n",
       "  </tbody>\n",
       "</table>\n",
       "</div>"
      ],
      "text/plain": [
       "        word                               embedding\n",
       "497  chicken  [0.377891, -0.021889165, -0.018992584]\n",
       "498     town  [0.1776778, -0.12323314, -0.023003444]"
      ]
     },
     "execution_count": 55,
     "metadata": {},
     "output_type": "execute_result"
    }
   ],
   "source": [
    "word_emb_df['embedding'] = embeddings\n",
    "word_emb_df.tail(2)"
   ]
  },
  {
   "cell_type": "markdown",
   "id": "a3f8f089",
   "metadata": {},
   "source": [
    "### Embedding Dimesions"
   ]
  },
  {
   "cell_type": "code",
   "execution_count": 56,
   "id": "db3596db",
   "metadata": {},
   "outputs": [
    {
     "data": {
      "application/vnd.plotly.v1+json": {
       "config": {
        "plotlyServerURL": "https://plot.ly"
       },
       "data": [
        {
         "customdata": [
          [
           "<OOV>"
          ],
          [
           "the"
          ],
          [
           "and"
          ],
          [
           "i"
          ],
          [
           "it"
          ],
          [
           "a"
          ],
          [
           "is"
          ],
          [
           "to"
          ],
          [
           "this"
          ],
          [
           "was"
          ],
          [
           "of"
          ],
          [
           "my"
          ],
          [
           "for"
          ],
          [
           "not"
          ],
          [
           "phone"
          ],
          [
           "in"
          ],
          [
           "very"
          ],
          [
           "with"
          ],
          [
           "great"
          ],
          [
           "good"
          ],
          [
           "on"
          ],
          [
           "that"
          ],
          [
           "have"
          ],
          [
           "you"
          ],
          [
           "had"
          ],
          [
           "so"
          ],
          [
           "but"
          ],
          [
           "are"
          ],
          [
           "food"
          ],
          [
           "service"
          ],
          [
           "be"
          ],
          [
           "as"
          ],
          [
           "place"
          ],
          [
           "all"
          ],
          [
           "like"
          ],
          [
           "quality"
          ],
          [
           "time"
          ],
          [
           "product"
          ],
          [
           "one"
          ],
          [
           "at"
          ],
          [
           "we"
          ],
          [
           "well"
          ],
          [
           "they"
          ],
          [
           "would"
          ],
          [
           "back"
          ],
          [
           "if"
          ],
          [
           "headset"
          ],
          [
           "works"
          ],
          [
           "battery"
          ],
          [
           "really"
          ],
          [
           "don't"
          ],
          [
           "sound"
          ],
          [
           "your"
          ],
          [
           "use"
          ],
          [
           "best"
          ],
          [
           "up"
          ],
          [
           "from"
          ],
          [
           "has"
          ],
          [
           "just"
          ],
          [
           "an"
          ],
          [
           "i've"
          ],
          [
           "will"
          ],
          [
           "no"
          ],
          [
           "were"
          ],
          [
           "only"
          ],
          [
           "also"
          ],
          [
           "me"
          ],
          [
           "there"
          ],
          [
           "ever"
          ],
          [
           "than"
          ],
          [
           "it's"
          ],
          [
           "out"
          ],
          [
           "nice"
          ],
          [
           "ear"
          ],
          [
           "go"
          ],
          [
           "excellent"
          ],
          [
           "when"
          ],
          [
           "first"
          ],
          [
           "work"
          ],
          [
           "recommend"
          ],
          [
           "2"
          ],
          [
           "here"
          ],
          [
           "after"
          ],
          [
           "i'm"
          ],
          [
           "or"
          ],
          [
           "never"
          ],
          [
           "too"
          ],
          [
           "love"
          ],
          [
           "price"
          ],
          [
           "case"
          ],
          [
           "get"
          ],
          [
           "can"
          ],
          [
           "been"
          ],
          [
           "more"
          ],
          [
           "what"
          ],
          [
           "any"
          ],
          [
           "could"
          ],
          [
           "again"
          ],
          [
           "even"
          ],
          [
           "because"
          ],
          [
           "better"
          ],
          [
           "did"
          ],
          [
           "does"
          ],
          [
           "about"
          ],
          [
           "do"
          ],
          [
           "made"
          ],
          [
           "which"
          ],
          [
           "our"
          ],
          [
           "by"
          ],
          [
           "now"
          ],
          [
           "their"
          ],
          [
           "bad"
          ],
          [
           "other"
          ],
          [
           "am"
          ],
          [
           "worst"
          ],
          [
           "them"
          ],
          [
           "much"
          ],
          [
           "got"
          ],
          [
           "money"
          ],
          [
           "new"
          ],
          [
           "disappointed"
          ],
          [
           "enough"
          ],
          [
           "these"
          ],
          [
           "delicious"
          ],
          [
           "then"
          ],
          [
           "think"
          ],
          [
           "still"
          ],
          [
           "happy"
          ],
          [
           "off"
          ],
          [
           "minutes"
          ],
          [
           "right"
          ],
          [
           "car"
          ],
          [
           "pretty"
          ],
          [
           "item"
          ],
          [
           "worked"
          ],
          [
           "friendly"
          ],
          [
           "charger"
          ],
          [
           "buy"
          ],
          [
           "while"
          ],
          [
           "vegas"
          ],
          [
           "waste"
          ],
          [
           "comfortable"
          ],
          [
           "far"
          ],
          [
           "poor"
          ],
          [
           "bluetooth"
          ],
          [
           "easy"
          ],
          [
           "some"
          ],
          [
           "he"
          ],
          [
           "two"
          ],
          [
           "bought"
          ],
          [
           "everything"
          ],
          [
           "few"
          ],
          [
           "definitely"
          ],
          [
           "reception"
          ],
          [
           "used"
          ],
          [
           "restaurant"
          ],
          [
           "going"
          ],
          [
           "how"
          ],
          [
           "went"
          ],
          [
           "people"
          ],
          [
           "doesn't"
          ],
          [
           "fine"
          ],
          [
           "thing"
          ],
          [
           "1"
          ],
          [
           "its"
          ],
          [
           "being"
          ],
          [
           "didn't"
          ],
          [
           "make"
          ],
          [
           "piece"
          ],
          [
           "over"
          ],
          [
           "came"
          ],
          [
           "always"
          ],
          [
           "way"
          ],
          [
           "say"
          ],
          [
           "long"
          ],
          [
           "charge"
          ],
          [
           "little"
          ],
          [
           "life"
          ],
          [
           "purchase"
          ],
          [
           "down"
          ],
          [
           "cell"
          ],
          [
           "terrible"
          ],
          [
           "times"
          ],
          [
           "take"
          ],
          [
           "amazing"
          ],
          [
           "5"
          ],
          [
           "problem"
          ],
          [
           "3"
          ],
          [
           "camera"
          ],
          [
           "want"
          ],
          [
           "calls"
          ],
          [
           "device"
          ],
          [
           "know"
          ],
          [
           "same"
          ],
          [
           "another"
          ],
          [
           "come"
          ],
          [
           "us"
          ],
          [
           "problems"
          ],
          [
           "volume"
          ],
          [
           "into"
          ],
          [
           "last"
          ],
          [
           "hear"
          ],
          [
           "clear"
          ],
          [
           "lot"
          ],
          [
           "working"
          ],
          [
           "found"
          ],
          [
           "using"
          ],
          [
           "motorola"
          ],
          [
           "fit"
          ],
          [
           "small"
          ],
          [
           "fantastic"
          ],
          [
           "every"
          ],
          [
           "before"
          ],
          [
           "horrible"
          ],
          [
           "worth"
          ],
          [
           "many"
          ],
          [
           "quite"
          ],
          [
           "plug"
          ],
          [
           "impressed"
          ],
          [
           "design"
          ],
          [
           "highly"
          ],
          [
           "makes"
          ],
          [
           "years"
          ],
          [
           "sure"
          ],
          [
           "order"
          ],
          [
           "both"
          ],
          [
           "couldn't"
          ],
          [
           "fits"
          ],
          [
           "look"
          ],
          [
           "experience"
          ],
          [
           "ordered"
          ],
          [
           "customer"
          ],
          [
           "try"
          ],
          [
           "nothing"
          ],
          [
           "can't"
          ],
          [
           "taste"
          ],
          [
           "staff"
          ],
          [
           "several"
          ],
          [
           "loved"
          ],
          [
           "without"
          ],
          [
           "months"
          ],
          [
           "left"
          ],
          [
           "phones"
          ],
          [
           "real"
          ],
          [
           "since"
          ],
          [
           "looks"
          ],
          [
           "cool"
          ],
          [
           "tried"
          ],
          [
           "call"
          ],
          [
           "around"
          ],
          [
           "screen"
          ],
          [
           "cheap"
          ],
          [
           "side"
          ],
          [
           "where"
          ],
          [
           "overall"
          ],
          [
           "i'd"
          ],
          [
           "year"
          ],
          [
           "stars"
          ],
          [
           "however"
          ],
          [
           "deal"
          ],
          [
           "give"
          ],
          [
           "wasn't"
          ],
          [
           "won't"
          ],
          [
           "fresh"
          ],
          [
           "salad"
          ],
          [
           "steak"
          ],
          [
           "waited"
          ],
          [
           "days"
          ],
          [
           "she"
          ],
          [
           "talk"
          ],
          [
           "find"
          ],
          [
           "wear"
          ],
          [
           "kind"
          ],
          [
           "perfectly"
          ],
          [
           "10"
          ],
          [
           "night"
          ],
          [
           "company"
          ],
          [
           "either"
          ],
          [
           "old"
          ],
          [
           "low"
          ],
          [
           "amazon"
          ],
          [
           "hard"
          ],
          [
           "said"
          ],
          [
           "day"
          ],
          [
           "next"
          ],
          [
           "menu"
          ],
          [
           "burger"
          ],
          [
           "pizza"
          ],
          [
           "who"
          ],
          [
           "absolutely"
          ],
          [
           "most"
          ],
          [
           "need"
          ],
          [
           "priced"
          ],
          [
           "verizon"
          ],
          [
           "dropped"
          ],
          [
           "buttons"
          ],
          [
           "seriously"
          ],
          [
           "big"
          ],
          [
           "broke"
          ],
          [
           "black"
          ],
          [
           "light"
          ],
          [
           "completely"
          ],
          [
           "jabra"
          ],
          [
           "voice"
          ],
          [
           "area"
          ],
          [
           "slow"
          ],
          [
           "probably"
          ],
          [
           "return"
          ],
          [
           "junk"
          ],
          [
           "looking"
          ],
          [
           "i'll"
          ],
          [
           "unit"
          ],
          [
           "away"
          ],
          [
           "anyone"
          ],
          [
           "took"
          ],
          [
           "none"
          ],
          [
           "tasty"
          ],
          [
           "selection"
          ],
          [
           "eat"
          ],
          [
           "breakfast"
          ],
          [
           "flavor"
          ],
          [
           "must"
          ],
          [
           "everyone"
          ],
          [
           "helpful"
          ],
          [
           "kept"
          ],
          [
           "picture"
          ],
          [
           "audio"
          ],
          [
           "loud"
          ],
          [
           "end"
          ],
          [
           "different"
          ],
          [
           "feels"
          ],
          [
           "headsets"
          ],
          [
           "gets"
          ],
          [
           "home"
          ],
          [
           "arrived"
          ],
          [
           "quickly"
          ],
          [
           "received"
          ],
          [
           "pleased"
          ],
          [
           "job"
          ],
          [
           "getting"
          ],
          [
           "software"
          ],
          [
           "hours"
          ],
          [
           "internet"
          ],
          [
           "less"
          ],
          [
           "stay"
          ],
          [
           "extremely"
          ],
          [
           "useless"
          ],
          [
           "felt"
          ],
          [
           "hands"
          ],
          [
           "family"
          ],
          [
           "nokia"
          ],
          [
           "sucks"
          ],
          [
           "couple"
          ],
          [
           "disappointing"
          ],
          [
           "bland"
          ],
          [
           "those"
          ],
          [
           "wrong"
          ],
          [
           "things"
          ],
          [
           "feel"
          ],
          [
           "coming"
          ],
          [
           "waitress"
          ],
          [
           "sushi"
          ],
          [
           "unless"
          ],
          [
           "value"
          ],
          [
           "each"
          ],
          [
           "original"
          ],
          [
           "though"
          ],
          [
           "bars"
          ],
          [
           "three"
          ],
          [
           "simple"
          ],
          [
           "ears"
          ],
          [
           "hate"
          ],
          [
           "turn"
          ],
          [
           "headphones"
          ],
          [
           "week"
          ],
          [
           "later"
          ],
          [
           "within"
          ],
          [
           "expect"
          ],
          [
           "free"
          ],
          [
           "huge"
          ],
          [
           "high"
          ],
          [
           "fast"
          ],
          [
           "full"
          ],
          [
           "may"
          ],
          [
           "signal"
          ],
          [
           "avoid"
          ],
          [
           "glad"
          ],
          [
           "put"
          ],
          [
           "awesome"
          ],
          [
           "incredible"
          ],
          [
           "check"
          ],
          [
           "color"
          ],
          [
           "part"
          ],
          [
           "expected"
          ],
          [
           "tell"
          ],
          [
           "authentic"
          ],
          [
           "disappointment"
          ],
          [
           "cable"
          ],
          [
           "care"
          ],
          [
           "ago"
          ],
          [
           "having"
          ],
          [
           "crap"
          ],
          [
           "especially"
          ],
          [
           "rather"
          ],
          [
           "difficult"
          ],
          [
           "cannot"
          ],
          [
           "zero"
          ],
          [
           "samsung"
          ],
          [
           "extra"
          ],
          [
           "soon"
          ],
          [
           "inside"
          ],
          [
           "prices"
          ],
          [
           "cooked"
          ],
          [
           "wonderful"
          ],
          [
           "sauce"
          ],
          [
           "dish"
          ],
          [
           "buffet"
          ],
          [
           "eating"
          ],
          [
           "dining"
          ],
          [
           "atmosphere"
          ],
          [
           "clean"
          ],
          [
           "line"
          ],
          [
           "decent"
          ],
          [
           "razr"
          ],
          [
           "started"
          ],
          [
           "yet"
          ],
          [
           "charging"
          ],
          [
           "mobile"
          ],
          [
           "hold"
          ],
          [
           "least"
          ],
          [
           "seems"
          ],
          [
           "should"
          ],
          [
           "actually"
          ],
          [
           "sturdy"
          ],
          [
           "large"
          ],
          [
           "front"
          ],
          [
           "beautiful"
          ],
          [
           "bargain"
          ],
          [
           "super"
          ],
          [
           "shipping"
          ],
          [
           "between"
          ],
          [
           "pictures"
          ],
          [
           "wife"
          ],
          [
           "strong"
          ],
          [
           "done"
          ],
          [
           "set"
          ],
          [
           "weeks"
          ],
          [
           "during"
          ],
          [
           "charm"
          ],
          [
           "hit"
          ],
          [
           "thought"
          ],
          [
           "reasonably"
          ],
          [
           "range"
          ],
          [
           "bit"
          ],
          [
           "mistake"
          ],
          [
           "important"
          ],
          [
           "feature"
          ],
          [
           "buying"
          ],
          [
           "lacking"
          ],
          [
           "anything"
          ],
          [
           "belt"
          ],
          [
           "data"
          ],
          [
           "sides"
          ],
          [
           "others"
          ],
          [
           "trying"
          ],
          [
           "today"
          ],
          [
           "satisfied"
          ],
          [
           "keep"
          ],
          [
           "plastic"
          ],
          [
           "oh"
          ],
          [
           "clarity"
          ],
          [
           "20"
          ],
          [
           "unfortunately"
          ],
          [
           "given"
          ],
          [
           "star"
          ],
          [
           "replace"
          ],
          [
           "quick"
          ],
          [
           "plus"
          ],
          [
           "cases"
          ],
          [
           "pay"
          ],
          [
           "connection"
          ],
          [
           "told"
          ],
          [
           "hour"
          ],
          [
           "4"
          ],
          [
           "management"
          ],
          [
           "easily"
          ],
          [
           "see"
          ],
          [
           "wow"
          ],
          [
           "pho"
          ],
          [
           "fries"
          ],
          [
           "beer"
          ],
          [
           "waiter"
          ],
          [
           "table"
          ],
          [
           "tender"
          ],
          [
           "server"
          ],
          [
           "potato"
          ],
          [
           "lunch"
          ],
          [
           "chicken"
          ],
          [
           "town"
          ]
         ],
         "hovertemplate": "x=%{x}<br>y=%{y}<br>z=%{z}<br>word=%{customdata[0]}<extra></extra>",
         "legendgroup": "",
         "marker": {
          "color": "#636efa",
          "symbol": "circle"
         },
         "mode": "markers",
         "name": "",
         "scene": "scene",
         "showlegend": false,
         "type": "scatter3d",
         "x": [
          -0.05733378231525421,
          -0.06834805011749268,
          -0.043582674115896225,
          -0.20899218320846558,
          -0.14614805579185486,
          0.026065347716212273,
          0.08967962861061096,
          -0.19750487804412842,
          -0.04637046903371811,
          0.0620349645614624,
          -0.09583975374698639,
          -0.20702937245368958,
          -0.19493229687213898,
          -0.1082567423582077,
          0.7776061296463013,
          -0.09266278892755508,
          -0.15773296356201172,
          -0.09712903946638107,
          -0.3024957478046417,
          -0.9106541275978088,
          -0.8945059180259705,
          -0.06323295831680298,
          0.06436952948570251,
          -0.1390131711959839,
          -0.3122609257698059,
          -0.12192308902740479,
          0.02366374433040619,
          -0.059436626732349396,
          -0.10894135385751724,
          -0.08166670799255371,
          -0.0943751335144043,
          0.02745451219379902,
          -0.04135056957602501,
          -0.30338913202285767,
          -0.16156946122646332,
          -0.2213122397661209,
          -0.22018171846866608,
          -0.3131024241447449,
          0.07040512561798096,
          -0.07755439728498459,
          0.4176151156425476,
          -0.1986055076122284,
          -0.5018198490142822,
          -0.14809639751911163,
          -0.07121756672859192,
          0.13381361961364746,
          0.08858868479728699,
          0.1846698671579361,
          -1.200575590133667,
          0.275201678276062,
          0.032090023159980774,
          0.4294549822807312,
          -0.25616008043289185,
          -0.11868564784526825,
          0.25830888748168945,
          -0.7311994433403015,
          -0.07547760754823685,
          -0.05985986441373825,
          0.017227597534656525,
          -0.058527857065200806,
          0.20743407309055328,
          -0.22265616059303284,
          -0.1304079294204712,
          -0.09580790996551514,
          0.4437938332557678,
          0.1642863154411316,
          -0.09318714588880539,
          0.18225029110908508,
          0.3285275995731354,
          0.01834416203200817,
          -0.546488344669342,
          0.022571144625544548,
          -0.2273014783859253,
          -0.7549893856048584,
          0.13034392893314362,
          -0.02173576131463051,
          -0.33226442337036133,
          0.11289475113153458,
          -0.12241841852664948,
          0.49094387888908386,
          -0.38019269704818726,
          -0.29890692234039307,
          0.029279028996825218,
          0.10577119886875153,
          0.05489534139633179,
          -0.269925981760025,
          0.7120324373245239,
          0.18183958530426025,
          -1.0454466342926025,
          -0.2450384646654129,
          -0.09054601192474365,
          0.1795179545879364,
          0.1462334841489792,
          -0.18777382373809814,
          0.23773039877414703,
          -0.3485342562198639,
          -0.3414301574230194,
          -0.005464434623718262,
          -0.4260585606098175,
          -0.4178951680660248,
          -0.13974758982658386,
          0.0258902870118618,
          -0.4552784264087677,
          -0.05459439754486084,
          -0.1932736337184906,
          0.5304407477378845,
          0.12319823354482651,
          0.4167458415031433,
          0.06997039914131165,
          -0.06943584233522415,
          -0.12281669676303864,
          -0.23819582164287567,
          1.2160807847976685,
          0.2945176362991333,
          0.10367454588413239,
          0.9415537714958191,
          0.29770541191101074,
          -0.03615274280309677,
          -0.3691973388195038,
          0.5464751720428467,
          -0.2403291016817093,
          0.4113193154335022,
          0.14098623394966125,
          -0.22309523820877075,
          -0.9887951612472534,
          0.8614757657051086,
          0.37709927558898926,
          0.057278767228126526,
          -0.4003158211708069,
          0.41238415241241455,
          0.41811221837997437,
          0.3569146990776062,
          -0.24351930618286133,
          -0.04394504055380821,
          -0.13406077027320862,
          0.1078624576330185,
          -0.18401242792606354,
          -0.09488619118928909,
          0.021281220018863678,
          -0.5048092007637024,
          0.07271461188793182,
          1.4120063781738281,
          -0.6759199500083923,
          -0.5479172468185425,
          0.9386086463928223,
          -0.3433224856853485,
          -0.6468287706375122,
          0.14016687870025635,
          -0.31894487142562866,
          -0.25807103514671326,
          0.2968504726886749,
          0.04172220826148987,
          0.016199259087443352,
          -0.7225155234336853,
          -0.09612596780061722,
          0.2351096272468567,
          -0.5271125435829163,
          -0.10455939918756485,
          0.1640923172235489,
          -0.15775460004806519,
          -0.39431509375572205,
          0.7695781588554382,
          -0.20304879546165466,
          0.2491484433412552,
          0.5153360366821289,
          -0.33562132716178894,
          0.2991599142551422,
          0.5350721478462219,
          -0.7512760162353516,
          0.08002302050590515,
          0.12359613180160522,
          -0.22695566713809967,
          -0.4660303592681885,
          0.41903650760650635,
          0.16597621142864227,
          -0.18037116527557373,
          0.12058793753385544,
          -0.10275929421186447,
          -0.09249787777662277,
          0.1119072437286377,
          0.3256632387638092,
          -0.25177210569381714,
          1.0249437093734741,
          0.04187221825122833,
          0.5214191675186157,
          -1.2421756982803345,
          -0.012127834372222424,
          0.15895375609397888,
          0.9664297103881836,
          -0.16335803270339966,
          -0.1823939085006714,
          0.4567168354988098,
          0.02335328795015812,
          -0.5572739243507385,
          0.43098029494285583,
          0.19976000487804413,
          -0.15391412377357483,
          -0.41493070125579834,
          -0.0734226331114769,
          0.3018069565296173,
          0.3328033983707428,
          0.6317831873893738,
          0.27646657824516296,
          -0.30431807041168213,
          -0.3981609046459198,
          -0.18044361472129822,
          -0.3655744194984436,
          -0.3890370726585388,
          -0.5463594198226929,
          0.01591910980641842,
          -0.115018330514431,
          -0.6037347912788391,
          -0.2919747829437256,
          0.05151912569999695,
          0.9092684984207153,
          -0.43836963176727295,
          0.45519259572029114,
          -0.3251769244670868,
          0.6694852113723755,
          -0.4047848880290985,
          0.2975146770477295,
          -0.21271298825740814,
          -0.08684578537940979,
          -0.5180107355117798,
          0.16637210547924042,
          -0.15444284677505493,
          -0.1457681506872177,
          0.028261175379157066,
          -0.2805859446525574,
          0.35345757007598877,
          0.4811173975467682,
          0.38895413279533386,
          0.05777038261294365,
          -0.009933583438396454,
          0.27444881200790405,
          -0.11532235145568848,
          0.5826455354690552,
          -0.4615691304206848,
          -0.1958843171596527,
          -0.7295843958854675,
          -0.5914438366889954,
          0.11615461111068726,
          0.2547784745693207,
          -0.16050569713115692,
          0.08330079913139343,
          0.1045701652765274,
          0.20299212634563446,
          -0.41880449652671814,
          -0.3698875904083252,
          0.35687679052352905,
          -0.17173829674720764,
          0.388641893863678,
          -0.06772343814373016,
          0.5140029191970825,
          -0.11234944313764572,
          -0.0525222048163414,
          0.3615674674510956,
          0.3901631534099579,
          -0.5381186604499817,
          0.6265385150909424,
          0.21933847665786743,
          0.26565343141555786,
          1.0027246475219727,
          -0.05824171379208565,
          -0.3669928014278412,
          0.682435154914856,
          -0.2516113221645355,
          0.35087907314300537,
          0.20484589040279388,
          -0.19300168752670288,
          0.5529298186302185,
          0.41460204124450684,
          -0.2613133192062378,
          0.8026795387268066,
          -0.864847719669342,
          -0.37779170274734497,
          -0.5544206500053406,
          0.3050532639026642,
          0.45467594265937805,
          0.46217280626296997,
          0.547426164150238,
          -0.26544108986854553,
          0.19541968405246735,
          -0.4221394658088684,
          -0.12291692197322845,
          -0.18091197311878204,
          -0.6923204660415649,
          0.17172951996326447,
          -0.21901166439056396,
          0.20965878665447235,
          -0.1109660267829895,
          0.12933628261089325,
          -0.8344542980194092,
          -0.3151057958602905,
          -0.8378635048866272,
          0.9128785133361816,
          0.24787090718746185,
          -0.28415676951408386,
          0.06968998908996582,
          1.100932002067566,
          -0.27185487747192383,
          -0.38171103596687317,
          1.0024802684783936,
          -0.16451656818389893,
          -0.5875101685523987,
          0.20040328800678253,
          1.129814624786377,
          0.2087092250585556,
          0.18026895821094513,
          0.8961790204048157,
          0.4725566506385803,
          0.12013112753629684,
          1.4296202659606934,
          -0.645128071308136,
          0.3566303253173828,
          0.3279520869255066,
          0.9861948490142822,
          -0.5991349220275879,
          0.15271665155887604,
          -0.04364771023392677,
          -0.2627022862434387,
          0.35564032196998596,
          -0.3109813630580902,
          -0.4531659781932831,
          -0.11635581403970718,
          -0.2709543704986572,
          0.7372545003890991,
          0.1492164582014084,
          -0.01981034316122532,
          -0.2399042248725891,
          0.25892671942710876,
          -0.49786511063575745,
          0.1803424060344696,
          -0.40548425912857056,
          -0.03049597330391407,
          0.478941947221756,
          -0.6006414890289307,
          0.8494780659675598,
          -0.8022892475128174,
          -0.5751668810844421,
          -0.1420084536075592,
          -0.13115140795707703,
          0.30967977643013,
          0.12246890366077423,
          -0.18242046236991882,
          1.348756194114685,
          0.42093509435653687,
          0.7844305634498596,
          0.45525848865509033,
          -0.10926367342472076,
          -0.6117997765541077,
          0.5909329056739807,
          0.9915741682052612,
          -0.7737895250320435,
          0.7257142663002014,
          0.7387391328811646,
          -0.16083309054374695,
          0.1827498972415924,
          0.3897828161716461,
          0.3324624300003052,
          -0.31696590781211853,
          -0.33991754055023193,
          0.01963593252003193,
          0.911683201789856,
          0.32285231351852417,
          -0.25045421719551086,
          -0.9156769514083862,
          -0.0019323255401104689,
          0.06268409639596939,
          0.28103142976760864,
          -0.09439684450626373,
          -0.6976396441459656,
          0.7381548881530762,
          0.1244601383805275,
          0.6507391929626465,
          1.0938640832901,
          0.6072883605957031,
          0.6750455498695374,
          -0.2848857045173645,
          -0.8029595613479614,
          -0.3449120819568634,
          -0.6690077185630798,
          -0.5793393850326538,
          -0.4756157398223877,
          -0.14952023327350616,
          0.2504766285419464,
          0.713807225227356,
          -1.0984652042388916,
          -0.2770252227783203,
          -0.8993777632713318,
          -0.9408282041549683,
          -1.22160005569458,
          0.5622987747192383,
          -0.04658585414290428,
          0.1573910266160965,
          0.42047303915023804,
          0.10778765380382538,
          0.5902323126792908,
          0.10206649452447891,
          0.09886528551578522,
          -0.35134056210517883,
          0.9945883750915527,
          1.2672821283340454,
          -0.3746878504753113,
          0.49591386318206787,
          0.8804882764816284,
          0.711875855922699,
          0.9803367853164673,
          -0.266528457403183,
          -0.34938377141952515,
          -0.672489583492279,
          -0.46212682127952576,
          -1.0313645601272583,
          -0.6792033910751343,
          -0.6400780081748962,
          0.11825954914093018,
          -0.8566643595695496,
          -0.7814905047416687,
          -0.26435595750808716,
          -0.13195322453975677,
          0.158850759267807,
          -0.7024660110473633,
          0.0860934630036354,
          -0.7172363996505737,
          0.12627287209033966,
          -0.0038258861750364304,
          -0.10328204929828644,
          -0.21688246726989746,
          0.14344002306461334,
          -0.3022221624851227,
          0.02641955390572548,
          -0.31160590052604675,
          -0.5404924750328064,
          -0.8637332320213318,
          -0.9143083691596985,
          0.12772776186466217,
          0.5498182773590088,
          -0.7746126055717468,
          -0.443888783454895,
          -0.2367941290140152,
          -0.26424363255500793,
          0.4493105113506317,
          0.012729689478874207,
          -0.1970406323671341,
          0.12893080711364746,
          0.11509263515472412,
          -0.5389280915260315,
          -0.21606549620628357,
          -0.06699914485216141,
          -0.6745295524597168,
          0.12255359441041946,
          -0.7020329236984253,
          -0.6348287463188171,
          -0.533519446849823,
          0.936444103717804,
          0.9389325380325317,
          0.26637670397758484,
          0.05346788093447685,
          0.9532885551452637,
          0.37856176495552063,
          0.7717395424842834,
          0.17454102635383606,
          -0.2591019868850708,
          -0.5074107050895691,
          -0.11003002524375916,
          0.8023648262023926,
          0.2886859178543091,
          -0.7327097654342651,
          0.13609451055526733,
          0.4953162372112274,
          -0.4587484896183014,
          -0.24590958654880524,
          0.14084342122077942,
          1.189022183418274,
          -0.24904510378837585,
          0.6975103616714478,
          0.3077992796897888,
          0.15279598534107208,
          -0.6558753848075867,
          -0.876971960067749,
          0.9852692484855652,
          0.03261543810367584,
          0.4174994230270386,
          0.17651759088039398,
          0.2902829051017761,
          0.32126355171203613,
          0.893067479133606,
          0.3631829619407654,
          -0.8924365639686584,
          0.577723503112793,
          -0.08671150356531143,
          -0.5849723815917969,
          0.3221862018108368,
          -0.14634349942207336,
          -0.5388639569282532,
          -0.6937823295593262,
          0.5166056752204895,
          0.37789100408554077,
          0.17767779529094696
         ],
         "y": [
          0.041911255568265915,
          0.18181008100509644,
          -0.03335068002343178,
          0.10550572723150253,
          0.1254987269639969,
          0.32401493191719055,
          0.5108065009117126,
          0.3037250339984894,
          0.22736452519893646,
          0.0017264998750761151,
          0.17157939076423645,
          0.30940425395965576,
          0.08642961084842682,
          0.08416271954774857,
          0.5640725493431091,
          -0.09931189566850662,
          0.17080867290496826,
          0.1296774446964264,
          0.1943356692790985,
          0.040781620889902115,
          0.24517108500003815,
          0.2960931360721588,
          0.4673928916454315,
          -0.293925404548645,
          0.38096892833709717,
          -0.10334092378616333,
          -0.05109167844057083,
          0.02928009256720543,
          0.16771358251571655,
          -0.05850058048963547,
          0.09146638959646225,
          0.28610438108444214,
          0.5988892316818237,
          -0.1229180097579956,
          -0.4186701774597168,
          0.4308338463306427,
          0.2710109353065491,
          0.07915879786014557,
          0.161296084523201,
          0.30294182896614075,
          0.33468398451805115,
          0.13833479583263397,
          -0.012469775043427944,
          -0.03802063316106796,
          0.13126426935195923,
          0.25196975469589233,
          0.22341388463974,
          -0.037583205848932266,
          -0.3525392711162567,
          0.11812939494848251,
          0.1803845912218094,
          0.8604305386543274,
          0.1018114760518074,
          0.4605746567249298,
          0.3759496212005615,
          0.07039311528205872,
          0.4132390320301056,
          0.07255895435810089,
          -0.11137540638446808,
          0.22497893869876862,
          -0.23447774350643158,
          0.15058475732803345,
          0.12029746174812317,
          0.43325063586235046,
          -0.013960639014840126,
          -0.08389980345964432,
          -0.27770814299583435,
          0.3326357305049896,
          0.4971521496772766,
          0.3274581730365753,
          0.0768405869603157,
          0.1475408673286438,
          0.4024735391139984,
          -0.017874352633953094,
          -0.03277210518717766,
          -0.1454254388809204,
          0.11212629079818726,
          0.20505541563034058,
          0.4069999158382416,
          0.3619747757911682,
          0.07900635898113251,
          -0.04921962320804596,
          0.03186061233282089,
          0.2077595740556717,
          -0.058963190764188766,
          0.2523561716079712,
          -0.0590667761862278,
          0.1407652497291565,
          -0.08531888574361801,
          0.3352203965187073,
          0.1679076999425888,
          0.3030451834201813,
          0.25777122378349304,
          -0.056529700756073,
          0.042428720742464066,
          -0.008275079540908337,
          0.2866296172142029,
          0.39322203397750854,
          -0.10129887610673904,
          -0.2412845492362976,
          -0.0721941888332367,
          0.188766211271286,
          -0.043367110192775726,
          0.050637874752283096,
          0.03553048148751259,
          -0.10410090535879135,
          0.13186688721179962,
          -0.15944814682006836,
          0.18431416153907776,
          0.20592905580997467,
          -0.16396239399909973,
          -0.05949992686510086,
          -0.20278936624526978,
          0.17202907800674438,
          -0.10563218593597412,
          -0.13400399684906006,
          0.14644980430603027,
          0.13561207056045532,
          -0.3425174355506897,
          0.3375798761844635,
          0.18238966166973114,
          0.6668232083320618,
          0.007472711615264416,
          0.10023212432861328,
          -0.2608802318572998,
          -0.3160964846611023,
          0.3100826144218445,
          -0.2194666564464569,
          0.06950431317090988,
          0.04024511203169823,
          0.4599827826023102,
          0.14631418883800507,
          0.08664952963590622,
          -0.06113307923078537,
          0.09931603819131851,
          -0.18440908193588257,
          0.2509925365447998,
          0.2024456113576889,
          -0.08198807388544083,
          0.132224902510643,
          -0.06453260779380798,
          -0.5597040057182312,
          0.33144235610961914,
          0.020072851330041885,
          -0.037674542516469955,
          -0.09446477890014648,
          0.08231951296329498,
          -0.24468427896499634,
          0.09838572889566422,
          0.08395124226808548,
          0.36997196078300476,
          -0.03070547990500927,
          -0.031017102301120758,
          -0.3618219494819641,
          -0.24993778765201569,
          0.060236670076847076,
          0.25488486886024475,
          0.031362686306238174,
          0.2605515122413635,
          0.13741348683834076,
          0.5805954933166504,
          0.37311673164367676,
          -0.12483631074428558,
          0.058811865746974945,
          -0.2778266668319702,
          0.5394022464752197,
          -0.19217169284820557,
          -0.4316388964653015,
          0.22795040905475616,
          0.3150230646133423,
          0.1014752984046936,
          0.18419867753982544,
          0.17937873303890228,
          0.09973709285259247,
          -0.1591351330280304,
          0.05320680886507034,
          -0.12968498468399048,
          0.042220257222652435,
          0.10615838319063187,
          -0.0857829675078392,
          0.3146349787712097,
          0.13490916788578033,
          -0.02459477074444294,
          -0.4140002727508545,
          -0.11376946419477463,
          -0.4318925142288208,
          -0.19149743020534515,
          0.18967410922050476,
          -0.33293426036834717,
          -0.29057854413986206,
          0.2657337784767151,
          -0.1456316113471985,
          -0.1305115669965744,
          0.186065211892128,
          -0.08995753526687622,
          -0.1612478792667389,
          0.07039851695299149,
          0.11549874395132065,
          -0.13546627759933472,
          -0.2639411985874176,
          0.07272806018590927,
          -0.27517572045326233,
          0.07617739588022232,
          0.3521311283111572,
          0.04584730044007301,
          -0.11495190858840942,
          0.2149055153131485,
          -0.12003765255212784,
          -0.12831798195838928,
          -0.028771495446562767,
          -0.23308537900447845,
          -0.14468413591384888,
          0.301222562789917,
          -0.38405585289001465,
          -0.3732406497001648,
          0.3026700019836426,
          -0.058449819684028625,
          -0.22668954730033875,
          0.301530659198761,
          0.04041309654712677,
          -0.37834686040878296,
          0.1860346645116806,
          -0.18149247765541077,
          -0.2081805318593979,
          0.215903639793396,
          -0.03612174093723297,
          -0.22821871936321259,
          0.09933404624462128,
          -0.10764311254024506,
          0.07740581780672073,
          0.14231158792972565,
          -0.15810245275497437,
          0.2244311273097992,
          -0.20320859551429749,
          0.3008979558944702,
          0.003776024794206023,
          -0.23501555621623993,
          -0.21218279004096985,
          -0.2047400325536728,
          -0.19290189445018768,
          -0.12391137331724167,
          -0.15106774866580963,
          0.12675350904464722,
          -0.005780011881142855,
          0.21171917021274567,
          0.109653040766716,
          0.09644263237714767,
          -0.03735959529876709,
          0.061482787132263184,
          0.35011976957321167,
          0.24503347277641296,
          0.06393221020698547,
          -0.03915409371256828,
          -0.2586853802204132,
          0.3371286988258362,
          -0.261614590883255,
          -0.053862329572439194,
          -0.01200862880796194,
          -0.05763723701238632,
          0.4796917736530304,
          -0.3471214771270752,
          0.09392763674259186,
          0.43597713112831116,
          0.4930040240287781,
          -0.0009551799739710987,
          -0.28682929277420044,
          0.18535059690475464,
          -0.16804243624210358,
          0.027518384158611298,
          -0.16092877089977264,
          0.12185487151145935,
          0.1289300173521042,
          0.44033485651016235,
          -0.17352186143398285,
          -0.3291000425815582,
          -0.14122748374938965,
          0.17979498207569122,
          0.11326152086257935,
          -0.3571154773235321,
          0.2238295078277588,
          0.3059220016002655,
          0.1476350873708725,
          0.41350647807121277,
          -0.2052513062953949,
          -0.14694532752037048,
          -0.01513717696070671,
          -0.1456546187400818,
          0.3742178678512573,
          0.06903716176748276,
          0.020559491589665413,
          0.7138053178787231,
          0.3028218150138855,
          -0.41673538088798523,
          0.0746307447552681,
          -0.3392123281955719,
          -0.3161497414112091,
          0.23502229154109955,
          -0.15616151690483093,
          0.18335042893886566,
          -0.4300977885723114,
          0.16133350133895874,
          0.06331849098205566,
          -0.23598231375217438,
          -0.28035855293273926,
          -0.06512010097503662,
          0.16810254752635956,
          -0.2912520170211792,
          0.3192962408065796,
          -0.13975895941257477,
          -0.30095577239990234,
          0.0676959827542305,
          0.11185502260923386,
          -0.4341695308685303,
          -0.2763144075870514,
          0.26906323432922363,
          0.37263721227645874,
          -0.30695295333862305,
          -0.14777939021587372,
          -0.029847195371985435,
          0.26437535881996155,
          -0.16312794387340546,
          0.09700534492731094,
          -0.04926272854208946,
          -0.09269826114177704,
          0.16163741052150726,
          -0.3148763179779053,
          -0.1380886733531952,
          -0.35501787066459656,
          -0.38277846574783325,
          0.11768635362386703,
          -0.14096976816654205,
          -0.2559106647968292,
          -0.16873349249362946,
          -0.12000983208417892,
          0.11356770247220993,
          -0.14231878519058228,
          -0.027827439829707146,
          -0.37512266635894775,
          -0.24620482325553894,
          -0.18246018886566162,
          0.05856667459011078,
          -0.17545704543590546,
          -0.23018032312393188,
          0.022784819826483727,
          0.20915552973747253,
          -0.27353137731552124,
          -0.11170043051242828,
          -0.2962118089199066,
          -0.13579708337783813,
          -0.27736836671829224,
          -0.2108003944158554,
          -0.02637944556772709,
          -0.2663286030292511,
          0.15188075602054596,
          -0.06891234964132309,
          0.07355225831270218,
          -0.2979840338230133,
          -0.031054209917783737,
          -0.1101616621017456,
          0.20783425867557526,
          0.042997222393751144,
          -0.44856512546539307,
          -0.4783969521522522,
          -0.3910660147666931,
          0.19971875846385956,
          -0.1676105111837387,
          -0.2044580578804016,
          0.11093003302812576,
          -0.18736670911312103,
          -0.09798537939786911,
          0.32755476236343384,
          0.023767996579408646,
          -0.09552714228630066,
          -0.1595940887928009,
          0.1453324854373932,
          -0.4878546893596649,
          -0.18345659971237183,
          -0.04827291518449783,
          -0.0816197618842125,
          -0.35260245203971863,
          -0.14341391623020172,
          -0.21561838686466217,
          -0.09957493096590042,
          0.25692346692085266,
          -0.21458131074905396,
          -0.017132757231593132,
          -0.26178404688835144,
          -0.3109842836856842,
          -0.13573044538497925,
          -0.18344371020793915,
          -0.17757803201675415,
          -0.532459557056427,
          0.1782107949256897,
          -0.2160692811012268,
          0.4468238651752472,
          0.5069579482078552,
          0.17074206471443176,
          -0.08294802159070969,
          0.0349561907351017,
          -0.016724461689591408,
          0.026889264583587646,
          -0.15761610865592957,
          -0.19761770963668823,
          0.2644539475440979,
          -0.1356811821460724,
          -0.12656721472740173,
          0.13100610673427582,
          -0.18914982676506042,
          0.0600648857653141,
          0.2556364834308624,
          -0.00140239461325109,
          -0.31619352102279663,
          -0.29773977398872375,
          -0.1297745555639267,
          -0.3430982828140259,
          -0.15844179689884186,
          0.01349550299346447,
          0.09802024066448212,
          -0.24797917902469635,
          -0.22691592574119568,
          -0.06108826398849487,
          -0.4136609733104706,
          -0.3552096486091614,
          -0.28971388936042786,
          -0.16594384610652924,
          0.2869604229927063,
          -0.21938005089759827,
          -0.16909299790859222,
          -0.08886296302080154,
          -0.2535640299320221,
          0.4032890200614929,
          -0.21731366217136383,
          -0.18755990266799927,
          0.39583495259284973,
          -0.39785027503967285,
          0.3930133581161499,
          -0.38722652196884155,
          -0.07957787811756134,
          0.09979771077632904,
          -0.12025277316570282,
          -0.10378438979387283,
          -0.3651129901409149,
          0.08335394412279129,
          0.25686338543891907,
          -0.5189350843429565,
          0.10948425531387329,
          0.35522571206092834,
          0.17520427703857422,
          -0.03018883615732193,
          -0.19133314490318298,
          -0.047851428389549255,
          -0.17228104174137115,
          -0.2266712486743927,
          -0.018993273377418518,
          -0.45217421650886536,
          -0.23137377202510834,
          0.12877026200294495,
          -0.047579117119312286,
          -0.0009393927757628262,
          0.610547661781311,
          -0.16298910975456238,
          -0.224495530128479,
          0.06915183365345001,
          -0.26877540349960327,
          0.16434164345264435,
          -0.2866494953632355,
          -0.04115905240178108,
          -0.4225117564201355,
          -0.2199040800333023,
          -0.014832739718258381,
          -0.14674615859985352,
          -0.007791354786604643,
          -0.12923677265644073,
          -0.08839180320501328,
          0.11057088524103165,
          -0.10822587460279465,
          -0.10359816253185272,
          -0.484506219625473,
          -0.18289732933044434,
          -0.1574850231409073,
          -0.22636833786964417,
          0.38162699341773987,
          0.06239178031682968,
          0.3472381830215454,
          0.3923446536064148,
          0.021429073065519333,
          -0.30791375041007996,
          -0.01505670603364706,
          -0.2644317150115967,
          -0.01834736205637455,
          -0.16994144022464752,
          -0.3440001606941223,
          0.2772597074508667,
          0.0005083838477730751,
          -0.26301029324531555,
          -0.47731906175613403,
          -0.36276453733444214,
          -0.02188916504383087,
          -0.1232331395149231
         ],
         "z": [
          -0.12192316353321075,
          -0.022088009864091873,
          -0.04106339067220688,
          -0.01971231773495674,
          0.02664690650999546,
          0.09363661706447601,
          -0.011734867468476295,
          -0.10562653839588165,
          -0.0922951027750969,
          -0.19909371435642242,
          0.04470393434166908,
          0.10794822871685028,
          -0.13491462171077728,
          0.044593583792448044,
          0.046739909797906876,
          0.13782799243927002,
          0.05667050555348396,
          -0.134797602891922,
          -0.049483560025691986,
          0.11826593428850174,
          0.2110612988471985,
          -0.11418985575437546,
          0.20870241522789001,
          -0.050655610859394073,
          0.0085741663351655,
          -0.04242395982146263,
          -0.03654000908136368,
          -0.07540784031152725,
          -0.16884490847587585,
          -0.18045899271965027,
          0.007949517108500004,
          -0.08574686199426651,
          0.0353364460170269,
          -0.06362821906805038,
          0.06512975692749023,
          -0.07537735998630524,
          -0.02100573666393757,
          -0.05815547704696655,
          -0.19204846024513245,
          -0.032526955008506775,
          0.02733108028769493,
          -0.0480305515229702,
          0.02141815610229969,
          -0.14055949449539185,
          0.0762285441160202,
          -0.08782649040222168,
          0.027213383466005325,
          -0.23549216985702515,
          0.12654787302017212,
          -0.0611172579228878,
          -0.12412850558757782,
          0.24995742738246918,
          0.04233170300722122,
          -0.02318612113595009,
          -0.10923168808221817,
          0.044296301901340485,
          -0.07332071661949158,
          0.07264929264783859,
          -0.09175075590610504,
          -0.08349215239286423,
          0.04411756992340088,
          0.04640794172883034,
          0.011718682944774628,
          -0.042817745357751846,
          -0.03356624022126198,
          0.05134551599621773,
          -0.0032172526698559523,
          -0.007520902901887894,
          0.18617743253707886,
          0.07359200716018677,
          0.03364916518330574,
          -0.09572989493608475,
          0.016460616141557693,
          0.01977679878473282,
          -0.08808473497629166,
          -0.06039873883128166,
          -0.23064249753952026,
          -0.022533917799592018,
          -0.04210907220840454,
          0.129127636551857,
          0.06472890824079514,
          0.021695856004953384,
          -0.010988832451403141,
          -0.0554456003010273,
          0.009144505485892296,
          -0.01531727984547615,
          0.049969226121902466,
          0.038477737456560135,
          0.09151555597782135,
          -0.03740678355097771,
          -0.028844472020864487,
          0.15970095992088318,
          -0.11965982615947723,
          -0.00885612890124321,
          0.014154140837490559,
          0.0993397980928421,
          -0.04674763232469559,
          -0.039741672575473785,
          0.09741578251123428,
          -0.1552412360906601,
          0.09201984107494354,
          -0.05314061418175697,
          -0.0454893559217453,
          -0.014381637796759605,
          -0.04593667387962341,
          0.05907266587018967,
          0.041103433817625046,
          -0.008951246738433838,
          -0.06287050992250443,
          0.09036695212125778,
          -0.005145550239831209,
          0.07114516943693161,
          0.059773024171590805,
          0.034883469343185425,
          0.04816517233848572,
          0.033086180686950684,
          0.01145006250590086,
          0.038940686732530594,
          -0.0182217825204134,
          0.04708044230937958,
          -0.05594031140208244,
          -0.011370563879609108,
          -0.018918870016932487,
          -0.06111781671643257,
          0.09844060987234116,
          0.0033932216465473175,
          0.02186460979282856,
          -0.026493627578020096,
          0.01710164174437523,
          -0.06543317437171936,
          0.11539167165756226,
          -0.01306154578924179,
          -0.02923097461462021,
          -0.08964668214321136,
          0.05259658023715019,
          -0.0429568849503994,
          0.05253284424543381,
          -0.059615202248096466,
          0.17533543705940247,
          -0.08738887310028076,
          -0.09316267818212509,
          -0.020139489322900772,
          0.09734091907739639,
          0.07769621908664703,
          -0.010765927843749523,
          -0.025816941633820534,
          0.06220954284071922,
          0.004322374239563942,
          -0.11666350811719894,
          -0.05808461084961891,
          -0.0011680200695991516,
          -0.06488282978534698,
          0.1065792441368103,
          -0.14549756050109863,
          0.13851723074913025,
          -0.04852551221847534,
          0.07433599978685379,
          0.10327331721782684,
          0.11277197301387787,
          0.021169859915971756,
          0.21004652976989746,
          -0.11445318907499313,
          -0.07864270359277725,
          -0.017650220543146133,
          0.10320498049259186,
          -0.029107239097356796,
          0.08069004118442535,
          0.09376388788223267,
          0.08507322520017624,
          -0.09768297523260117,
          -0.021458469331264496,
          -0.01672876626253128,
          0.026313234120607376,
          -0.035005729645490646,
          0.006834204774349928,
          0.023781200870871544,
          -0.015671666711568832,
          -0.03653108328580856,
          -0.07495316118001938,
          0.08737677335739136,
          -0.06100492551922798,
          0.04758033528923988,
          0.1537235528230667,
          -0.05279920995235443,
          0.07165148109197617,
          0.15425929427146912,
          0.07326886802911758,
          -0.1109856516122818,
          0.1580783724784851,
          -0.06386326253414154,
          0.027299238368868828,
          -0.026410577818751335,
          -0.07090489566326141,
          0.14106875658035278,
          -0.030940555036067963,
          0.03737756609916687,
          0.008944066241383553,
          -0.05552875995635986,
          0.02626180090010166,
          0.005595727823674679,
          -0.019369862973690033,
          -0.07949177920818329,
          -0.05998672544956207,
          0.15695519745349884,
          0.026579255238175392,
          -0.08633808046579361,
          -0.04687505587935448,
          -0.03891914710402489,
          -0.024024376645684242,
          -0.05333276838064194,
          -0.08273003995418549,
          -0.0010093528544530272,
          0.0009165176306851208,
          -0.16356775164604187,
          0.09822677820920944,
          0.09720367193222046,
          0.007867974229156971,
          -0.20882079005241394,
          0.003956347703933716,
          0.11460667848587036,
          0.06477684527635574,
          -0.05019792541861534,
          0.020231002941727638,
          -0.0229345615953207,
          -0.010009102523326874,
          -0.021782036870718002,
          -0.1441359966993332,
          -0.04683203995227814,
          -0.10030651092529297,
          -0.0020396767649799585,
          -0.011557293124496937,
          0.07782018184661865,
          0.06865321844816208,
          -0.053976718336343765,
          -0.06981323659420013,
          0.008212380111217499,
          -0.07178104668855667,
          -0.0990377813577652,
          0.023692090064287186,
          -0.07426473498344421,
          -0.025526857003569603,
          -0.048761557787656784,
          0.04701080545783043,
          -0.01827249675989151,
          -0.13193227350711823,
          -0.012536095455288887,
          -0.007119846064597368,
          0.032645925879478455,
          -0.13792884349822998,
          0.0047986856661736965,
          0.019395852461457253,
          -0.0266873799264431,
          -0.060179613530635834,
          -0.04084797203540802,
          -0.09620196372270584,
          -0.018276451155543327,
          -0.0033268677070736885,
          0.03807666897773743,
          0.007674078457057476,
          0.039797086268663406,
          -0.04950076341629028,
          -0.05299505963921547,
          0.07002454251050949,
          -0.09817179292440414,
          0.013253179378807545,
          -0.02134142629802227,
          0.012258080765604973,
          0.09819652140140533,
          -0.013459614478051662,
          0.10398701578378677,
          -0.003752567106857896,
          -0.024924973025918007,
          0.04174324870109558,
          -0.03549424186348915,
          -0.09038638323545456,
          -0.10109773278236389,
          0.14747026562690735,
          0.015248658135533333,
          0.047961603850126266,
          -0.03936392441391945,
          0.01376340351998806,
          -0.06795268505811691,
          0.0789945125579834,
          -0.0375874899327755,
          -0.07481911033391953,
          0.02722424827516079,
          -0.06494660675525665,
          0.14726728200912476,
          -0.016774626448750496,
          0.0496986098587513,
          -0.11152178794145584,
          -0.11565510928630829,
          -0.09016531705856323,
          -0.07982514798641205,
          -0.055057916790246964,
          -0.1844407320022583,
          -0.008676506578922272,
          0.050257641822099686,
          -0.04679860919713974,
          0.08834321796894073,
          0.007861492224037647,
          0.010489378124475479,
          -0.07880538702011108,
          -0.11410344392061234,
          -0.0026383446529507637,
          -0.028222449123859406,
          0.04074015095829964,
          0.02020111307501793,
          0.02686947211623192,
          0.04119846224784851,
          -0.09284055978059769,
          0.24367649853229523,
          0.08935713768005371,
          0.1327841430902481,
          0.015140658244490623,
          0.09864643216133118,
          0.18668493628501892,
          0.05280254781246185,
          0.013299559243023396,
          -0.002152950270101428,
          0.02700003609061241,
          -0.1094871312379837,
          -0.015296461060643196,
          0.02280232310295105,
          0.007562101352959871,
          0.15362031757831573,
          0.041741129010915756,
          0.13849924504756927,
          -0.02856558933854103,
          0.006602284032851458,
          -0.016280489042401314,
          0.06016484647989273,
          -0.06414759904146194,
          0.024970361962914467,
          -0.005035608075559139,
          -0.011546685360372066,
          -0.025932837277650833,
          -0.056455451995134354,
          0.06949206441640854,
          0.055710360407829285,
          -0.05848496034741402,
          -0.001815663417801261,
          0.03432568162679672,
          -0.057625140994787216,
          -0.011854028329253197,
          0.03419644013047218,
          0.012161499820649624,
          -0.006210010033100843,
          -0.0519239716231823,
          -0.1720002293586731,
          -0.02754189446568489,
          -0.00398975657299161,
          0.06155114248394966,
          0.021451562643051147,
          0.034254200756549835,
          0.07690145075321198,
          -0.012064488604664803,
          0.005239007994532585,
          -0.010855475440621376,
          -0.032401230186223984,
          -0.004743416793644428,
          0.024198973551392555,
          0.024470938369631767,
          0.13363765180110931,
          -0.10860362648963928,
          -0.05114753171801567,
          0.20098263025283813,
          -0.08323433995246887,
          0.00340002472512424,
          -0.015889843925833702,
          -0.0647534653544426,
          0.06528206169605255,
          0.07318533957004547,
          -0.02454676479101181,
          0.005900143180042505,
          -0.021084589883685112,
          -0.0004916223115287721,
          -0.06504634022712708,
          -0.12242569029331207,
          -0.10692162066698074,
          0.043735962361097336,
          -0.03324709087610245,
          -0.018535252660512924,
          0.005574606824666262,
          0.004585465416312218,
          -0.030980821698904037,
          -0.08774964511394501,
          0.07918254286050797,
          0.07221566885709763,
          0.0885857418179512,
          0.08596271276473999,
          -0.11968059837818146,
          0.027080506086349487,
          -0.045584358274936676,
          -0.034327052533626556,
          -0.1373746693134308,
          0.05373971164226532,
          0.07631106674671173,
          -0.04898400604724884,
          0.061376266181468964,
          -0.03687212988734245,
          0.11942168325185776,
          0.025701653212308884,
          0.15971314907073975,
          0.1431487798690796,
          0.014232790097594261,
          -0.00034253462217748165,
          -0.08990956842899323,
          -0.06748206913471222,
          0.09556286782026291,
          -0.009156805463135242,
          0.039749421179294586,
          0.01882685162127018,
          -0.0244621429592371,
          -0.009608144871890545,
          0.055154949426651,
          0.08881570398807526,
          0.057798828929662704,
          0.07832831144332886,
          -0.044808149337768555,
          -0.09848693758249283,
          0.12153667211532593,
          0.051722679287195206,
          0.02477051131427288,
          0.057810571044683456,
          -0.04358280077576637,
          0.005946997553110123,
          0.09776775538921356,
          -0.07276266813278198,
          0.00987042672932148,
          0.17553390562534332,
          0.013952676206827164,
          0.09540349990129471,
          0.21096228063106537,
          0.12118061631917953,
          0.03088531084358692,
          0.11246650665998459,
          0.05351158604025841,
          -0.00012455842806957662,
          0.017852330580353737,
          -0.1106899231672287,
          0.013773678801953793,
          -0.04656897485256195,
          -0.10166359692811966,
          0.20506735146045685,
          -0.06298303604125977,
          0.024152982980012894,
          -0.09404502063989639,
          0.0027865180745720863,
          0.04245930537581444,
          -0.05846096947789192,
          -0.05405097454786301,
          -0.03196623921394348,
          -0.028216715902090073,
          0.08181169629096985,
          0.031877901405096054,
          -0.075123630464077,
          0.11137780547142029,
          0.11272089928388596,
          -0.10601523518562317,
          -0.01789799891412258,
          -0.08940763771533966,
          -0.10230183601379395,
          0.014513391070067883,
          -0.045216552913188934,
          0.033940210938453674,
          -0.18501794338226318,
          0.06505730003118515,
          -0.019138548523187637,
          -0.03798346221446991,
          -0.010711790062487125,
          0.03890735283493996,
          0.08626364171504974,
          0.09952017664909363,
          0.0051274471916258335,
          0.10855329036712646,
          -0.09149523824453354,
          -0.20423229038715363,
          -0.03682570904493332,
          0.09775171428918839,
          0.0554240383207798,
          0.1323428601026535,
          -0.020359717309474945,
          0.049218207597732544,
          0.018832240253686905,
          0.0480232872068882,
          0.037145670503377914,
          -0.09108611941337585,
          0.04451952502131462,
          -0.06331496685743332,
          0.06732205301523209,
          0.062000203877687454,
          -0.05881170183420181,
          -0.05941250920295715,
          -0.055702805519104004,
          -0.14196059107780457,
          -0.06841991096735,
          -0.018992584198713303,
          -0.02300344407558441
         ]
        }
       ],
       "layout": {
        "legend": {
         "tracegroupgap": 0
        },
        "margin": {
         "t": 60
        },
        "scene": {
         "domain": {
          "x": [
           0,
           1
          ],
          "y": [
           0,
           1
          ]
         },
         "xaxis": {
          "title": {
           "text": "x"
          }
         },
         "yaxis": {
          "title": {
           "text": "y"
          }
         },
         "zaxis": {
          "title": {
           "text": "z"
          }
         }
        },
        "template": {
         "data": {
          "bar": [
           {
            "error_x": {
             "color": "#2a3f5f"
            },
            "error_y": {
             "color": "#2a3f5f"
            },
            "marker": {
             "line": {
              "color": "#E5ECF6",
              "width": 0.5
             },
             "pattern": {
              "fillmode": "overlay",
              "size": 10,
              "solidity": 0.2
             }
            },
            "type": "bar"
           }
          ],
          "barpolar": [
           {
            "marker": {
             "line": {
              "color": "#E5ECF6",
              "width": 0.5
             },
             "pattern": {
              "fillmode": "overlay",
              "size": 10,
              "solidity": 0.2
             }
            },
            "type": "barpolar"
           }
          ],
          "carpet": [
           {
            "aaxis": {
             "endlinecolor": "#2a3f5f",
             "gridcolor": "white",
             "linecolor": "white",
             "minorgridcolor": "white",
             "startlinecolor": "#2a3f5f"
            },
            "baxis": {
             "endlinecolor": "#2a3f5f",
             "gridcolor": "white",
             "linecolor": "white",
             "minorgridcolor": "white",
             "startlinecolor": "#2a3f5f"
            },
            "type": "carpet"
           }
          ],
          "choropleth": [
           {
            "colorbar": {
             "outlinewidth": 0,
             "ticks": ""
            },
            "type": "choropleth"
           }
          ],
          "contour": [
           {
            "colorbar": {
             "outlinewidth": 0,
             "ticks": ""
            },
            "colorscale": [
             [
              0,
              "#0d0887"
             ],
             [
              0.1111111111111111,
              "#46039f"
             ],
             [
              0.2222222222222222,
              "#7201a8"
             ],
             [
              0.3333333333333333,
              "#9c179e"
             ],
             [
              0.4444444444444444,
              "#bd3786"
             ],
             [
              0.5555555555555556,
              "#d8576b"
             ],
             [
              0.6666666666666666,
              "#ed7953"
             ],
             [
              0.7777777777777778,
              "#fb9f3a"
             ],
             [
              0.8888888888888888,
              "#fdca26"
             ],
             [
              1,
              "#f0f921"
             ]
            ],
            "type": "contour"
           }
          ],
          "contourcarpet": [
           {
            "colorbar": {
             "outlinewidth": 0,
             "ticks": ""
            },
            "type": "contourcarpet"
           }
          ],
          "heatmap": [
           {
            "colorbar": {
             "outlinewidth": 0,
             "ticks": ""
            },
            "colorscale": [
             [
              0,
              "#0d0887"
             ],
             [
              0.1111111111111111,
              "#46039f"
             ],
             [
              0.2222222222222222,
              "#7201a8"
             ],
             [
              0.3333333333333333,
              "#9c179e"
             ],
             [
              0.4444444444444444,
              "#bd3786"
             ],
             [
              0.5555555555555556,
              "#d8576b"
             ],
             [
              0.6666666666666666,
              "#ed7953"
             ],
             [
              0.7777777777777778,
              "#fb9f3a"
             ],
             [
              0.8888888888888888,
              "#fdca26"
             ],
             [
              1,
              "#f0f921"
             ]
            ],
            "type": "heatmap"
           }
          ],
          "heatmapgl": [
           {
            "colorbar": {
             "outlinewidth": 0,
             "ticks": ""
            },
            "colorscale": [
             [
              0,
              "#0d0887"
             ],
             [
              0.1111111111111111,
              "#46039f"
             ],
             [
              0.2222222222222222,
              "#7201a8"
             ],
             [
              0.3333333333333333,
              "#9c179e"
             ],
             [
              0.4444444444444444,
              "#bd3786"
             ],
             [
              0.5555555555555556,
              "#d8576b"
             ],
             [
              0.6666666666666666,
              "#ed7953"
             ],
             [
              0.7777777777777778,
              "#fb9f3a"
             ],
             [
              0.8888888888888888,
              "#fdca26"
             ],
             [
              1,
              "#f0f921"
             ]
            ],
            "type": "heatmapgl"
           }
          ],
          "histogram": [
           {
            "marker": {
             "pattern": {
              "fillmode": "overlay",
              "size": 10,
              "solidity": 0.2
             }
            },
            "type": "histogram"
           }
          ],
          "histogram2d": [
           {
            "colorbar": {
             "outlinewidth": 0,
             "ticks": ""
            },
            "colorscale": [
             [
              0,
              "#0d0887"
             ],
             [
              0.1111111111111111,
              "#46039f"
             ],
             [
              0.2222222222222222,
              "#7201a8"
             ],
             [
              0.3333333333333333,
              "#9c179e"
             ],
             [
              0.4444444444444444,
              "#bd3786"
             ],
             [
              0.5555555555555556,
              "#d8576b"
             ],
             [
              0.6666666666666666,
              "#ed7953"
             ],
             [
              0.7777777777777778,
              "#fb9f3a"
             ],
             [
              0.8888888888888888,
              "#fdca26"
             ],
             [
              1,
              "#f0f921"
             ]
            ],
            "type": "histogram2d"
           }
          ],
          "histogram2dcontour": [
           {
            "colorbar": {
             "outlinewidth": 0,
             "ticks": ""
            },
            "colorscale": [
             [
              0,
              "#0d0887"
             ],
             [
              0.1111111111111111,
              "#46039f"
             ],
             [
              0.2222222222222222,
              "#7201a8"
             ],
             [
              0.3333333333333333,
              "#9c179e"
             ],
             [
              0.4444444444444444,
              "#bd3786"
             ],
             [
              0.5555555555555556,
              "#d8576b"
             ],
             [
              0.6666666666666666,
              "#ed7953"
             ],
             [
              0.7777777777777778,
              "#fb9f3a"
             ],
             [
              0.8888888888888888,
              "#fdca26"
             ],
             [
              1,
              "#f0f921"
             ]
            ],
            "type": "histogram2dcontour"
           }
          ],
          "mesh3d": [
           {
            "colorbar": {
             "outlinewidth": 0,
             "ticks": ""
            },
            "type": "mesh3d"
           }
          ],
          "parcoords": [
           {
            "line": {
             "colorbar": {
              "outlinewidth": 0,
              "ticks": ""
             }
            },
            "type": "parcoords"
           }
          ],
          "pie": [
           {
            "automargin": true,
            "type": "pie"
           }
          ],
          "scatter": [
           {
            "fillpattern": {
             "fillmode": "overlay",
             "size": 10,
             "solidity": 0.2
            },
            "type": "scatter"
           }
          ],
          "scatter3d": [
           {
            "line": {
             "colorbar": {
              "outlinewidth": 0,
              "ticks": ""
             }
            },
            "marker": {
             "colorbar": {
              "outlinewidth": 0,
              "ticks": ""
             }
            },
            "type": "scatter3d"
           }
          ],
          "scattercarpet": [
           {
            "marker": {
             "colorbar": {
              "outlinewidth": 0,
              "ticks": ""
             }
            },
            "type": "scattercarpet"
           }
          ],
          "scattergeo": [
           {
            "marker": {
             "colorbar": {
              "outlinewidth": 0,
              "ticks": ""
             }
            },
            "type": "scattergeo"
           }
          ],
          "scattergl": [
           {
            "marker": {
             "colorbar": {
              "outlinewidth": 0,
              "ticks": ""
             }
            },
            "type": "scattergl"
           }
          ],
          "scattermapbox": [
           {
            "marker": {
             "colorbar": {
              "outlinewidth": 0,
              "ticks": ""
             }
            },
            "type": "scattermapbox"
           }
          ],
          "scatterpolar": [
           {
            "marker": {
             "colorbar": {
              "outlinewidth": 0,
              "ticks": ""
             }
            },
            "type": "scatterpolar"
           }
          ],
          "scatterpolargl": [
           {
            "marker": {
             "colorbar": {
              "outlinewidth": 0,
              "ticks": ""
             }
            },
            "type": "scatterpolargl"
           }
          ],
          "scatterternary": [
           {
            "marker": {
             "colorbar": {
              "outlinewidth": 0,
              "ticks": ""
             }
            },
            "type": "scatterternary"
           }
          ],
          "surface": [
           {
            "colorbar": {
             "outlinewidth": 0,
             "ticks": ""
            },
            "colorscale": [
             [
              0,
              "#0d0887"
             ],
             [
              0.1111111111111111,
              "#46039f"
             ],
             [
              0.2222222222222222,
              "#7201a8"
             ],
             [
              0.3333333333333333,
              "#9c179e"
             ],
             [
              0.4444444444444444,
              "#bd3786"
             ],
             [
              0.5555555555555556,
              "#d8576b"
             ],
             [
              0.6666666666666666,
              "#ed7953"
             ],
             [
              0.7777777777777778,
              "#fb9f3a"
             ],
             [
              0.8888888888888888,
              "#fdca26"
             ],
             [
              1,
              "#f0f921"
             ]
            ],
            "type": "surface"
           }
          ],
          "table": [
           {
            "cells": {
             "fill": {
              "color": "#EBF0F8"
             },
             "line": {
              "color": "white"
             }
            },
            "header": {
             "fill": {
              "color": "#C8D4E3"
             },
             "line": {
              "color": "white"
             }
            },
            "type": "table"
           }
          ]
         },
         "layout": {
          "annotationdefaults": {
           "arrowcolor": "#2a3f5f",
           "arrowhead": 0,
           "arrowwidth": 1
          },
          "autotypenumbers": "strict",
          "coloraxis": {
           "colorbar": {
            "outlinewidth": 0,
            "ticks": ""
           }
          },
          "colorscale": {
           "diverging": [
            [
             0,
             "#8e0152"
            ],
            [
             0.1,
             "#c51b7d"
            ],
            [
             0.2,
             "#de77ae"
            ],
            [
             0.3,
             "#f1b6da"
            ],
            [
             0.4,
             "#fde0ef"
            ],
            [
             0.5,
             "#f7f7f7"
            ],
            [
             0.6,
             "#e6f5d0"
            ],
            [
             0.7,
             "#b8e186"
            ],
            [
             0.8,
             "#7fbc41"
            ],
            [
             0.9,
             "#4d9221"
            ],
            [
             1,
             "#276419"
            ]
           ],
           "sequential": [
            [
             0,
             "#0d0887"
            ],
            [
             0.1111111111111111,
             "#46039f"
            ],
            [
             0.2222222222222222,
             "#7201a8"
            ],
            [
             0.3333333333333333,
             "#9c179e"
            ],
            [
             0.4444444444444444,
             "#bd3786"
            ],
            [
             0.5555555555555556,
             "#d8576b"
            ],
            [
             0.6666666666666666,
             "#ed7953"
            ],
            [
             0.7777777777777778,
             "#fb9f3a"
            ],
            [
             0.8888888888888888,
             "#fdca26"
            ],
            [
             1,
             "#f0f921"
            ]
           ],
           "sequentialminus": [
            [
             0,
             "#0d0887"
            ],
            [
             0.1111111111111111,
             "#46039f"
            ],
            [
             0.2222222222222222,
             "#7201a8"
            ],
            [
             0.3333333333333333,
             "#9c179e"
            ],
            [
             0.4444444444444444,
             "#bd3786"
            ],
            [
             0.5555555555555556,
             "#d8576b"
            ],
            [
             0.6666666666666666,
             "#ed7953"
            ],
            [
             0.7777777777777778,
             "#fb9f3a"
            ],
            [
             0.8888888888888888,
             "#fdca26"
            ],
            [
             1,
             "#f0f921"
            ]
           ]
          },
          "colorway": [
           "#636efa",
           "#EF553B",
           "#00cc96",
           "#ab63fa",
           "#FFA15A",
           "#19d3f3",
           "#FF6692",
           "#B6E880",
           "#FF97FF",
           "#FECB52"
          ],
          "font": {
           "color": "#2a3f5f"
          },
          "geo": {
           "bgcolor": "white",
           "lakecolor": "white",
           "landcolor": "#E5ECF6",
           "showlakes": true,
           "showland": true,
           "subunitcolor": "white"
          },
          "hoverlabel": {
           "align": "left"
          },
          "hovermode": "closest",
          "mapbox": {
           "style": "light"
          },
          "paper_bgcolor": "white",
          "plot_bgcolor": "#E5ECF6",
          "polar": {
           "angularaxis": {
            "gridcolor": "white",
            "linecolor": "white",
            "ticks": ""
           },
           "bgcolor": "#E5ECF6",
           "radialaxis": {
            "gridcolor": "white",
            "linecolor": "white",
            "ticks": ""
           }
          },
          "scene": {
           "xaxis": {
            "backgroundcolor": "#E5ECF6",
            "gridcolor": "white",
            "gridwidth": 2,
            "linecolor": "white",
            "showbackground": true,
            "ticks": "",
            "zerolinecolor": "white"
           },
           "yaxis": {
            "backgroundcolor": "#E5ECF6",
            "gridcolor": "white",
            "gridwidth": 2,
            "linecolor": "white",
            "showbackground": true,
            "ticks": "",
            "zerolinecolor": "white"
           },
           "zaxis": {
            "backgroundcolor": "#E5ECF6",
            "gridcolor": "white",
            "gridwidth": 2,
            "linecolor": "white",
            "showbackground": true,
            "ticks": "",
            "zerolinecolor": "white"
           }
          },
          "shapedefaults": {
           "line": {
            "color": "#2a3f5f"
           }
          },
          "ternary": {
           "aaxis": {
            "gridcolor": "white",
            "linecolor": "white",
            "ticks": ""
           },
           "baxis": {
            "gridcolor": "white",
            "linecolor": "white",
            "ticks": ""
           },
           "bgcolor": "#E5ECF6",
           "caxis": {
            "gridcolor": "white",
            "linecolor": "white",
            "ticks": ""
           }
          },
          "title": {
           "x": 0.05
          },
          "xaxis": {
           "automargin": true,
           "gridcolor": "white",
           "linecolor": "white",
           "ticks": "",
           "title": {
            "standoff": 15
           },
           "zerolinecolor": "white",
           "zerolinewidth": 2
          },
          "yaxis": {
           "automargin": true,
           "gridcolor": "white",
           "linecolor": "white",
           "ticks": "",
           "title": {
            "standoff": 15
           },
           "zerolinecolor": "white",
           "zerolinewidth": 2
          }
         }
        }
       }
      },
      "text/html": [
       "<div>                            <div id=\"fd73fa18-396c-403d-84e4-0107a2a61b17\" class=\"plotly-graph-div\" style=\"height:525px; width:100%;\"></div>            <script type=\"text/javascript\">                require([\"plotly\"], function(Plotly) {                    window.PLOTLYENV=window.PLOTLYENV || {};                                    if (document.getElementById(\"fd73fa18-396c-403d-84e4-0107a2a61b17\")) {                    Plotly.newPlot(                        \"fd73fa18-396c-403d-84e4-0107a2a61b17\",                        [{\"customdata\":[[\"<OOV>\"],[\"the\"],[\"and\"],[\"i\"],[\"it\"],[\"a\"],[\"is\"],[\"to\"],[\"this\"],[\"was\"],[\"of\"],[\"my\"],[\"for\"],[\"not\"],[\"phone\"],[\"in\"],[\"very\"],[\"with\"],[\"great\"],[\"good\"],[\"on\"],[\"that\"],[\"have\"],[\"you\"],[\"had\"],[\"so\"],[\"but\"],[\"are\"],[\"food\"],[\"service\"],[\"be\"],[\"as\"],[\"place\"],[\"all\"],[\"like\"],[\"quality\"],[\"time\"],[\"product\"],[\"one\"],[\"at\"],[\"we\"],[\"well\"],[\"they\"],[\"would\"],[\"back\"],[\"if\"],[\"headset\"],[\"works\"],[\"battery\"],[\"really\"],[\"don't\"],[\"sound\"],[\"your\"],[\"use\"],[\"best\"],[\"up\"],[\"from\"],[\"has\"],[\"just\"],[\"an\"],[\"i've\"],[\"will\"],[\"no\"],[\"were\"],[\"only\"],[\"also\"],[\"me\"],[\"there\"],[\"ever\"],[\"than\"],[\"it's\"],[\"out\"],[\"nice\"],[\"ear\"],[\"go\"],[\"excellent\"],[\"when\"],[\"first\"],[\"work\"],[\"recommend\"],[\"2\"],[\"here\"],[\"after\"],[\"i'm\"],[\"or\"],[\"never\"],[\"too\"],[\"love\"],[\"price\"],[\"case\"],[\"get\"],[\"can\"],[\"been\"],[\"more\"],[\"what\"],[\"any\"],[\"could\"],[\"again\"],[\"even\"],[\"because\"],[\"better\"],[\"did\"],[\"does\"],[\"about\"],[\"do\"],[\"made\"],[\"which\"],[\"our\"],[\"by\"],[\"now\"],[\"their\"],[\"bad\"],[\"other\"],[\"am\"],[\"worst\"],[\"them\"],[\"much\"],[\"got\"],[\"money\"],[\"new\"],[\"disappointed\"],[\"enough\"],[\"these\"],[\"delicious\"],[\"then\"],[\"think\"],[\"still\"],[\"happy\"],[\"off\"],[\"minutes\"],[\"right\"],[\"car\"],[\"pretty\"],[\"item\"],[\"worked\"],[\"friendly\"],[\"charger\"],[\"buy\"],[\"while\"],[\"vegas\"],[\"waste\"],[\"comfortable\"],[\"far\"],[\"poor\"],[\"bluetooth\"],[\"easy\"],[\"some\"],[\"he\"],[\"two\"],[\"bought\"],[\"everything\"],[\"few\"],[\"definitely\"],[\"reception\"],[\"used\"],[\"restaurant\"],[\"going\"],[\"how\"],[\"went\"],[\"people\"],[\"doesn't\"],[\"fine\"],[\"thing\"],[\"1\"],[\"its\"],[\"being\"],[\"didn't\"],[\"make\"],[\"piece\"],[\"over\"],[\"came\"],[\"always\"],[\"way\"],[\"say\"],[\"long\"],[\"charge\"],[\"little\"],[\"life\"],[\"purchase\"],[\"down\"],[\"cell\"],[\"terrible\"],[\"times\"],[\"take\"],[\"amazing\"],[\"5\"],[\"problem\"],[\"3\"],[\"camera\"],[\"want\"],[\"calls\"],[\"device\"],[\"know\"],[\"same\"],[\"another\"],[\"come\"],[\"us\"],[\"problems\"],[\"volume\"],[\"into\"],[\"last\"],[\"hear\"],[\"clear\"],[\"lot\"],[\"working\"],[\"found\"],[\"using\"],[\"motorola\"],[\"fit\"],[\"small\"],[\"fantastic\"],[\"every\"],[\"before\"],[\"horrible\"],[\"worth\"],[\"many\"],[\"quite\"],[\"plug\"],[\"impressed\"],[\"design\"],[\"highly\"],[\"makes\"],[\"years\"],[\"sure\"],[\"order\"],[\"both\"],[\"couldn't\"],[\"fits\"],[\"look\"],[\"experience\"],[\"ordered\"],[\"customer\"],[\"try\"],[\"nothing\"],[\"can't\"],[\"taste\"],[\"staff\"],[\"several\"],[\"loved\"],[\"without\"],[\"months\"],[\"left\"],[\"phones\"],[\"real\"],[\"since\"],[\"looks\"],[\"cool\"],[\"tried\"],[\"call\"],[\"around\"],[\"screen\"],[\"cheap\"],[\"side\"],[\"where\"],[\"overall\"],[\"i'd\"],[\"year\"],[\"stars\"],[\"however\"],[\"deal\"],[\"give\"],[\"wasn't\"],[\"won't\"],[\"fresh\"],[\"salad\"],[\"steak\"],[\"waited\"],[\"days\"],[\"she\"],[\"talk\"],[\"find\"],[\"wear\"],[\"kind\"],[\"perfectly\"],[\"10\"],[\"night\"],[\"company\"],[\"either\"],[\"old\"],[\"low\"],[\"amazon\"],[\"hard\"],[\"said\"],[\"day\"],[\"next\"],[\"menu\"],[\"burger\"],[\"pizza\"],[\"who\"],[\"absolutely\"],[\"most\"],[\"need\"],[\"priced\"],[\"verizon\"],[\"dropped\"],[\"buttons\"],[\"seriously\"],[\"big\"],[\"broke\"],[\"black\"],[\"light\"],[\"completely\"],[\"jabra\"],[\"voice\"],[\"area\"],[\"slow\"],[\"probably\"],[\"return\"],[\"junk\"],[\"looking\"],[\"i'll\"],[\"unit\"],[\"away\"],[\"anyone\"],[\"took\"],[\"none\"],[\"tasty\"],[\"selection\"],[\"eat\"],[\"breakfast\"],[\"flavor\"],[\"must\"],[\"everyone\"],[\"helpful\"],[\"kept\"],[\"picture\"],[\"audio\"],[\"loud\"],[\"end\"],[\"different\"],[\"feels\"],[\"headsets\"],[\"gets\"],[\"home\"],[\"arrived\"],[\"quickly\"],[\"received\"],[\"pleased\"],[\"job\"],[\"getting\"],[\"software\"],[\"hours\"],[\"internet\"],[\"less\"],[\"stay\"],[\"extremely\"],[\"useless\"],[\"felt\"],[\"hands\"],[\"family\"],[\"nokia\"],[\"sucks\"],[\"couple\"],[\"disappointing\"],[\"bland\"],[\"those\"],[\"wrong\"],[\"things\"],[\"feel\"],[\"coming\"],[\"waitress\"],[\"sushi\"],[\"unless\"],[\"value\"],[\"each\"],[\"original\"],[\"though\"],[\"bars\"],[\"three\"],[\"simple\"],[\"ears\"],[\"hate\"],[\"turn\"],[\"headphones\"],[\"week\"],[\"later\"],[\"within\"],[\"expect\"],[\"free\"],[\"huge\"],[\"high\"],[\"fast\"],[\"full\"],[\"may\"],[\"signal\"],[\"avoid\"],[\"glad\"],[\"put\"],[\"awesome\"],[\"incredible\"],[\"check\"],[\"color\"],[\"part\"],[\"expected\"],[\"tell\"],[\"authentic\"],[\"disappointment\"],[\"cable\"],[\"care\"],[\"ago\"],[\"having\"],[\"crap\"],[\"especially\"],[\"rather\"],[\"difficult\"],[\"cannot\"],[\"zero\"],[\"samsung\"],[\"extra\"],[\"soon\"],[\"inside\"],[\"prices\"],[\"cooked\"],[\"wonderful\"],[\"sauce\"],[\"dish\"],[\"buffet\"],[\"eating\"],[\"dining\"],[\"atmosphere\"],[\"clean\"],[\"line\"],[\"decent\"],[\"razr\"],[\"started\"],[\"yet\"],[\"charging\"],[\"mobile\"],[\"hold\"],[\"least\"],[\"seems\"],[\"should\"],[\"actually\"],[\"sturdy\"],[\"large\"],[\"front\"],[\"beautiful\"],[\"bargain\"],[\"super\"],[\"shipping\"],[\"between\"],[\"pictures\"],[\"wife\"],[\"strong\"],[\"done\"],[\"set\"],[\"weeks\"],[\"during\"],[\"charm\"],[\"hit\"],[\"thought\"],[\"reasonably\"],[\"range\"],[\"bit\"],[\"mistake\"],[\"important\"],[\"feature\"],[\"buying\"],[\"lacking\"],[\"anything\"],[\"belt\"],[\"data\"],[\"sides\"],[\"others\"],[\"trying\"],[\"today\"],[\"satisfied\"],[\"keep\"],[\"plastic\"],[\"oh\"],[\"clarity\"],[\"20\"],[\"unfortunately\"],[\"given\"],[\"star\"],[\"replace\"],[\"quick\"],[\"plus\"],[\"cases\"],[\"pay\"],[\"connection\"],[\"told\"],[\"hour\"],[\"4\"],[\"management\"],[\"easily\"],[\"see\"],[\"wow\"],[\"pho\"],[\"fries\"],[\"beer\"],[\"waiter\"],[\"table\"],[\"tender\"],[\"server\"],[\"potato\"],[\"lunch\"],[\"chicken\"],[\"town\"]],\"hovertemplate\":\"x=%{x}<br>y=%{y}<br>z=%{z}<br>word=%{customdata[0]}<extra></extra>\",\"legendgroup\":\"\",\"marker\":{\"color\":\"#636efa\",\"symbol\":\"circle\"},\"mode\":\"markers\",\"name\":\"\",\"scene\":\"scene\",\"showlegend\":false,\"x\":[-0.05733378231525421,-0.06834805011749268,-0.043582674115896225,-0.20899218320846558,-0.14614805579185486,0.026065347716212273,0.08967962861061096,-0.19750487804412842,-0.04637046903371811,0.0620349645614624,-0.09583975374698639,-0.20702937245368958,-0.19493229687213898,-0.1082567423582077,0.7776061296463013,-0.09266278892755508,-0.15773296356201172,-0.09712903946638107,-0.3024957478046417,-0.9106541275978088,-0.8945059180259705,-0.06323295831680298,0.06436952948570251,-0.1390131711959839,-0.3122609257698059,-0.12192308902740479,0.02366374433040619,-0.059436626732349396,-0.10894135385751724,-0.08166670799255371,-0.0943751335144043,0.02745451219379902,-0.04135056957602501,-0.30338913202285767,-0.16156946122646332,-0.2213122397661209,-0.22018171846866608,-0.3131024241447449,0.07040512561798096,-0.07755439728498459,0.4176151156425476,-0.1986055076122284,-0.5018198490142822,-0.14809639751911163,-0.07121756672859192,0.13381361961364746,0.08858868479728699,0.1846698671579361,-1.200575590133667,0.275201678276062,0.032090023159980774,0.4294549822807312,-0.25616008043289185,-0.11868564784526825,0.25830888748168945,-0.7311994433403015,-0.07547760754823685,-0.05985986441373825,0.017227597534656525,-0.058527857065200806,0.20743407309055328,-0.22265616059303284,-0.1304079294204712,-0.09580790996551514,0.4437938332557678,0.1642863154411316,-0.09318714588880539,0.18225029110908508,0.3285275995731354,0.01834416203200817,-0.546488344669342,0.022571144625544548,-0.2273014783859253,-0.7549893856048584,0.13034392893314362,-0.02173576131463051,-0.33226442337036133,0.11289475113153458,-0.12241841852664948,0.49094387888908386,-0.38019269704818726,-0.29890692234039307,0.029279028996825218,0.10577119886875153,0.05489534139633179,-0.269925981760025,0.7120324373245239,0.18183958530426025,-1.0454466342926025,-0.2450384646654129,-0.09054601192474365,0.1795179545879364,0.1462334841489792,-0.18777382373809814,0.23773039877414703,-0.3485342562198639,-0.3414301574230194,-0.005464434623718262,-0.4260585606098175,-0.4178951680660248,-0.13974758982658386,0.0258902870118618,-0.4552784264087677,-0.05459439754486084,-0.1932736337184906,0.5304407477378845,0.12319823354482651,0.4167458415031433,0.06997039914131165,-0.06943584233522415,-0.12281669676303864,-0.23819582164287567,1.2160807847976685,0.2945176362991333,0.10367454588413239,0.9415537714958191,0.29770541191101074,-0.03615274280309677,-0.3691973388195038,0.5464751720428467,-0.2403291016817093,0.4113193154335022,0.14098623394966125,-0.22309523820877075,-0.9887951612472534,0.8614757657051086,0.37709927558898926,0.057278767228126526,-0.4003158211708069,0.41238415241241455,0.41811221837997437,0.3569146990776062,-0.24351930618286133,-0.04394504055380821,-0.13406077027320862,0.1078624576330185,-0.18401242792606354,-0.09488619118928909,0.021281220018863678,-0.5048092007637024,0.07271461188793182,1.4120063781738281,-0.6759199500083923,-0.5479172468185425,0.9386086463928223,-0.3433224856853485,-0.6468287706375122,0.14016687870025635,-0.31894487142562866,-0.25807103514671326,0.2968504726886749,0.04172220826148987,0.016199259087443352,-0.7225155234336853,-0.09612596780061722,0.2351096272468567,-0.5271125435829163,-0.10455939918756485,0.1640923172235489,-0.15775460004806519,-0.39431509375572205,0.7695781588554382,-0.20304879546165466,0.2491484433412552,0.5153360366821289,-0.33562132716178894,0.2991599142551422,0.5350721478462219,-0.7512760162353516,0.08002302050590515,0.12359613180160522,-0.22695566713809967,-0.4660303592681885,0.41903650760650635,0.16597621142864227,-0.18037116527557373,0.12058793753385544,-0.10275929421186447,-0.09249787777662277,0.1119072437286377,0.3256632387638092,-0.25177210569381714,1.0249437093734741,0.04187221825122833,0.5214191675186157,-1.2421756982803345,-0.012127834372222424,0.15895375609397888,0.9664297103881836,-0.16335803270339966,-0.1823939085006714,0.4567168354988098,0.02335328795015812,-0.5572739243507385,0.43098029494285583,0.19976000487804413,-0.15391412377357483,-0.41493070125579834,-0.0734226331114769,0.3018069565296173,0.3328033983707428,0.6317831873893738,0.27646657824516296,-0.30431807041168213,-0.3981609046459198,-0.18044361472129822,-0.3655744194984436,-0.3890370726585388,-0.5463594198226929,0.01591910980641842,-0.115018330514431,-0.6037347912788391,-0.2919747829437256,0.05151912569999695,0.9092684984207153,-0.43836963176727295,0.45519259572029114,-0.3251769244670868,0.6694852113723755,-0.4047848880290985,0.2975146770477295,-0.21271298825740814,-0.08684578537940979,-0.5180107355117798,0.16637210547924042,-0.15444284677505493,-0.1457681506872177,0.028261175379157066,-0.2805859446525574,0.35345757007598877,0.4811173975467682,0.38895413279533386,0.05777038261294365,-0.009933583438396454,0.27444881200790405,-0.11532235145568848,0.5826455354690552,-0.4615691304206848,-0.1958843171596527,-0.7295843958854675,-0.5914438366889954,0.11615461111068726,0.2547784745693207,-0.16050569713115692,0.08330079913139343,0.1045701652765274,0.20299212634563446,-0.41880449652671814,-0.3698875904083252,0.35687679052352905,-0.17173829674720764,0.388641893863678,-0.06772343814373016,0.5140029191970825,-0.11234944313764572,-0.0525222048163414,0.3615674674510956,0.3901631534099579,-0.5381186604499817,0.6265385150909424,0.21933847665786743,0.26565343141555786,1.0027246475219727,-0.05824171379208565,-0.3669928014278412,0.682435154914856,-0.2516113221645355,0.35087907314300537,0.20484589040279388,-0.19300168752670288,0.5529298186302185,0.41460204124450684,-0.2613133192062378,0.8026795387268066,-0.864847719669342,-0.37779170274734497,-0.5544206500053406,0.3050532639026642,0.45467594265937805,0.46217280626296997,0.547426164150238,-0.26544108986854553,0.19541968405246735,-0.4221394658088684,-0.12291692197322845,-0.18091197311878204,-0.6923204660415649,0.17172951996326447,-0.21901166439056396,0.20965878665447235,-0.1109660267829895,0.12933628261089325,-0.8344542980194092,-0.3151057958602905,-0.8378635048866272,0.9128785133361816,0.24787090718746185,-0.28415676951408386,0.06968998908996582,1.100932002067566,-0.27185487747192383,-0.38171103596687317,1.0024802684783936,-0.16451656818389893,-0.5875101685523987,0.20040328800678253,1.129814624786377,0.2087092250585556,0.18026895821094513,0.8961790204048157,0.4725566506385803,0.12013112753629684,1.4296202659606934,-0.645128071308136,0.3566303253173828,0.3279520869255066,0.9861948490142822,-0.5991349220275879,0.15271665155887604,-0.04364771023392677,-0.2627022862434387,0.35564032196998596,-0.3109813630580902,-0.4531659781932831,-0.11635581403970718,-0.2709543704986572,0.7372545003890991,0.1492164582014084,-0.01981034316122532,-0.2399042248725891,0.25892671942710876,-0.49786511063575745,0.1803424060344696,-0.40548425912857056,-0.03049597330391407,0.478941947221756,-0.6006414890289307,0.8494780659675598,-0.8022892475128174,-0.5751668810844421,-0.1420084536075592,-0.13115140795707703,0.30967977643013,0.12246890366077423,-0.18242046236991882,1.348756194114685,0.42093509435653687,0.7844305634498596,0.45525848865509033,-0.10926367342472076,-0.6117997765541077,0.5909329056739807,0.9915741682052612,-0.7737895250320435,0.7257142663002014,0.7387391328811646,-0.16083309054374695,0.1827498972415924,0.3897828161716461,0.3324624300003052,-0.31696590781211853,-0.33991754055023193,0.01963593252003193,0.911683201789856,0.32285231351852417,-0.25045421719551086,-0.9156769514083862,-0.0019323255401104689,0.06268409639596939,0.28103142976760864,-0.09439684450626373,-0.6976396441459656,0.7381548881530762,0.1244601383805275,0.6507391929626465,1.0938640832901,0.6072883605957031,0.6750455498695374,-0.2848857045173645,-0.8029595613479614,-0.3449120819568634,-0.6690077185630798,-0.5793393850326538,-0.4756157398223877,-0.14952023327350616,0.2504766285419464,0.713807225227356,-1.0984652042388916,-0.2770252227783203,-0.8993777632713318,-0.9408282041549683,-1.22160005569458,0.5622987747192383,-0.04658585414290428,0.1573910266160965,0.42047303915023804,0.10778765380382538,0.5902323126792908,0.10206649452447891,0.09886528551578522,-0.35134056210517883,0.9945883750915527,1.2672821283340454,-0.3746878504753113,0.49591386318206787,0.8804882764816284,0.711875855922699,0.9803367853164673,-0.266528457403183,-0.34938377141952515,-0.672489583492279,-0.46212682127952576,-1.0313645601272583,-0.6792033910751343,-0.6400780081748962,0.11825954914093018,-0.8566643595695496,-0.7814905047416687,-0.26435595750808716,-0.13195322453975677,0.158850759267807,-0.7024660110473633,0.0860934630036354,-0.7172363996505737,0.12627287209033966,-0.0038258861750364304,-0.10328204929828644,-0.21688246726989746,0.14344002306461334,-0.3022221624851227,0.02641955390572548,-0.31160590052604675,-0.5404924750328064,-0.8637332320213318,-0.9143083691596985,0.12772776186466217,0.5498182773590088,-0.7746126055717468,-0.443888783454895,-0.2367941290140152,-0.26424363255500793,0.4493105113506317,0.012729689478874207,-0.1970406323671341,0.12893080711364746,0.11509263515472412,-0.5389280915260315,-0.21606549620628357,-0.06699914485216141,-0.6745295524597168,0.12255359441041946,-0.7020329236984253,-0.6348287463188171,-0.533519446849823,0.936444103717804,0.9389325380325317,0.26637670397758484,0.05346788093447685,0.9532885551452637,0.37856176495552063,0.7717395424842834,0.17454102635383606,-0.2591019868850708,-0.5074107050895691,-0.11003002524375916,0.8023648262023926,0.2886859178543091,-0.7327097654342651,0.13609451055526733,0.4953162372112274,-0.4587484896183014,-0.24590958654880524,0.14084342122077942,1.189022183418274,-0.24904510378837585,0.6975103616714478,0.3077992796897888,0.15279598534107208,-0.6558753848075867,-0.876971960067749,0.9852692484855652,0.03261543810367584,0.4174994230270386,0.17651759088039398,0.2902829051017761,0.32126355171203613,0.893067479133606,0.3631829619407654,-0.8924365639686584,0.577723503112793,-0.08671150356531143,-0.5849723815917969,0.3221862018108368,-0.14634349942207336,-0.5388639569282532,-0.6937823295593262,0.5166056752204895,0.37789100408554077,0.17767779529094696],\"y\":[0.041911255568265915,0.18181008100509644,-0.03335068002343178,0.10550572723150253,0.1254987269639969,0.32401493191719055,0.5108065009117126,0.3037250339984894,0.22736452519893646,0.0017264998750761151,0.17157939076423645,0.30940425395965576,0.08642961084842682,0.08416271954774857,0.5640725493431091,-0.09931189566850662,0.17080867290496826,0.1296774446964264,0.1943356692790985,0.040781620889902115,0.24517108500003815,0.2960931360721588,0.4673928916454315,-0.293925404548645,0.38096892833709717,-0.10334092378616333,-0.05109167844057083,0.02928009256720543,0.16771358251571655,-0.05850058048963547,0.09146638959646225,0.28610438108444214,0.5988892316818237,-0.1229180097579956,-0.4186701774597168,0.4308338463306427,0.2710109353065491,0.07915879786014557,0.161296084523201,0.30294182896614075,0.33468398451805115,0.13833479583263397,-0.012469775043427944,-0.03802063316106796,0.13126426935195923,0.25196975469589233,0.22341388463974,-0.037583205848932266,-0.3525392711162567,0.11812939494848251,0.1803845912218094,0.8604305386543274,0.1018114760518074,0.4605746567249298,0.3759496212005615,0.07039311528205872,0.4132390320301056,0.07255895435810089,-0.11137540638446808,0.22497893869876862,-0.23447774350643158,0.15058475732803345,0.12029746174812317,0.43325063586235046,-0.013960639014840126,-0.08389980345964432,-0.27770814299583435,0.3326357305049896,0.4971521496772766,0.3274581730365753,0.0768405869603157,0.1475408673286438,0.4024735391139984,-0.017874352633953094,-0.03277210518717766,-0.1454254388809204,0.11212629079818726,0.20505541563034058,0.4069999158382416,0.3619747757911682,0.07900635898113251,-0.04921962320804596,0.03186061233282089,0.2077595740556717,-0.058963190764188766,0.2523561716079712,-0.0590667761862278,0.1407652497291565,-0.08531888574361801,0.3352203965187073,0.1679076999425888,0.3030451834201813,0.25777122378349304,-0.056529700756073,0.042428720742464066,-0.008275079540908337,0.2866296172142029,0.39322203397750854,-0.10129887610673904,-0.2412845492362976,-0.0721941888332367,0.188766211271286,-0.043367110192775726,0.050637874752283096,0.03553048148751259,-0.10410090535879135,0.13186688721179962,-0.15944814682006836,0.18431416153907776,0.20592905580997467,-0.16396239399909973,-0.05949992686510086,-0.20278936624526978,0.17202907800674438,-0.10563218593597412,-0.13400399684906006,0.14644980430603027,0.13561207056045532,-0.3425174355506897,0.3375798761844635,0.18238966166973114,0.6668232083320618,0.007472711615264416,0.10023212432861328,-0.2608802318572998,-0.3160964846611023,0.3100826144218445,-0.2194666564464569,0.06950431317090988,0.04024511203169823,0.4599827826023102,0.14631418883800507,0.08664952963590622,-0.06113307923078537,0.09931603819131851,-0.18440908193588257,0.2509925365447998,0.2024456113576889,-0.08198807388544083,0.132224902510643,-0.06453260779380798,-0.5597040057182312,0.33144235610961914,0.020072851330041885,-0.037674542516469955,-0.09446477890014648,0.08231951296329498,-0.24468427896499634,0.09838572889566422,0.08395124226808548,0.36997196078300476,-0.03070547990500927,-0.031017102301120758,-0.3618219494819641,-0.24993778765201569,0.060236670076847076,0.25488486886024475,0.031362686306238174,0.2605515122413635,0.13741348683834076,0.5805954933166504,0.37311673164367676,-0.12483631074428558,0.058811865746974945,-0.2778266668319702,0.5394022464752197,-0.19217169284820557,-0.4316388964653015,0.22795040905475616,0.3150230646133423,0.1014752984046936,0.18419867753982544,0.17937873303890228,0.09973709285259247,-0.1591351330280304,0.05320680886507034,-0.12968498468399048,0.042220257222652435,0.10615838319063187,-0.0857829675078392,0.3146349787712097,0.13490916788578033,-0.02459477074444294,-0.4140002727508545,-0.11376946419477463,-0.4318925142288208,-0.19149743020534515,0.18967410922050476,-0.33293426036834717,-0.29057854413986206,0.2657337784767151,-0.1456316113471985,-0.1305115669965744,0.186065211892128,-0.08995753526687622,-0.1612478792667389,0.07039851695299149,0.11549874395132065,-0.13546627759933472,-0.2639411985874176,0.07272806018590927,-0.27517572045326233,0.07617739588022232,0.3521311283111572,0.04584730044007301,-0.11495190858840942,0.2149055153131485,-0.12003765255212784,-0.12831798195838928,-0.028771495446562767,-0.23308537900447845,-0.14468413591384888,0.301222562789917,-0.38405585289001465,-0.3732406497001648,0.3026700019836426,-0.058449819684028625,-0.22668954730033875,0.301530659198761,0.04041309654712677,-0.37834686040878296,0.1860346645116806,-0.18149247765541077,-0.2081805318593979,0.215903639793396,-0.03612174093723297,-0.22821871936321259,0.09933404624462128,-0.10764311254024506,0.07740581780672073,0.14231158792972565,-0.15810245275497437,0.2244311273097992,-0.20320859551429749,0.3008979558944702,0.003776024794206023,-0.23501555621623993,-0.21218279004096985,-0.2047400325536728,-0.19290189445018768,-0.12391137331724167,-0.15106774866580963,0.12675350904464722,-0.005780011881142855,0.21171917021274567,0.109653040766716,0.09644263237714767,-0.03735959529876709,0.061482787132263184,0.35011976957321167,0.24503347277641296,0.06393221020698547,-0.03915409371256828,-0.2586853802204132,0.3371286988258362,-0.261614590883255,-0.053862329572439194,-0.01200862880796194,-0.05763723701238632,0.4796917736530304,-0.3471214771270752,0.09392763674259186,0.43597713112831116,0.4930040240287781,-0.0009551799739710987,-0.28682929277420044,0.18535059690475464,-0.16804243624210358,0.027518384158611298,-0.16092877089977264,0.12185487151145935,0.1289300173521042,0.44033485651016235,-0.17352186143398285,-0.3291000425815582,-0.14122748374938965,0.17979498207569122,0.11326152086257935,-0.3571154773235321,0.2238295078277588,0.3059220016002655,0.1476350873708725,0.41350647807121277,-0.2052513062953949,-0.14694532752037048,-0.01513717696070671,-0.1456546187400818,0.3742178678512573,0.06903716176748276,0.020559491589665413,0.7138053178787231,0.3028218150138855,-0.41673538088798523,0.0746307447552681,-0.3392123281955719,-0.3161497414112091,0.23502229154109955,-0.15616151690483093,0.18335042893886566,-0.4300977885723114,0.16133350133895874,0.06331849098205566,-0.23598231375217438,-0.28035855293273926,-0.06512010097503662,0.16810254752635956,-0.2912520170211792,0.3192962408065796,-0.13975895941257477,-0.30095577239990234,0.0676959827542305,0.11185502260923386,-0.4341695308685303,-0.2763144075870514,0.26906323432922363,0.37263721227645874,-0.30695295333862305,-0.14777939021587372,-0.029847195371985435,0.26437535881996155,-0.16312794387340546,0.09700534492731094,-0.04926272854208946,-0.09269826114177704,0.16163741052150726,-0.3148763179779053,-0.1380886733531952,-0.35501787066459656,-0.38277846574783325,0.11768635362386703,-0.14096976816654205,-0.2559106647968292,-0.16873349249362946,-0.12000983208417892,0.11356770247220993,-0.14231878519058228,-0.027827439829707146,-0.37512266635894775,-0.24620482325553894,-0.18246018886566162,0.05856667459011078,-0.17545704543590546,-0.23018032312393188,0.022784819826483727,0.20915552973747253,-0.27353137731552124,-0.11170043051242828,-0.2962118089199066,-0.13579708337783813,-0.27736836671829224,-0.2108003944158554,-0.02637944556772709,-0.2663286030292511,0.15188075602054596,-0.06891234964132309,0.07355225831270218,-0.2979840338230133,-0.031054209917783737,-0.1101616621017456,0.20783425867557526,0.042997222393751144,-0.44856512546539307,-0.4783969521522522,-0.3910660147666931,0.19971875846385956,-0.1676105111837387,-0.2044580578804016,0.11093003302812576,-0.18736670911312103,-0.09798537939786911,0.32755476236343384,0.023767996579408646,-0.09552714228630066,-0.1595940887928009,0.1453324854373932,-0.4878546893596649,-0.18345659971237183,-0.04827291518449783,-0.0816197618842125,-0.35260245203971863,-0.14341391623020172,-0.21561838686466217,-0.09957493096590042,0.25692346692085266,-0.21458131074905396,-0.017132757231593132,-0.26178404688835144,-0.3109842836856842,-0.13573044538497925,-0.18344371020793915,-0.17757803201675415,-0.532459557056427,0.1782107949256897,-0.2160692811012268,0.4468238651752472,0.5069579482078552,0.17074206471443176,-0.08294802159070969,0.0349561907351017,-0.016724461689591408,0.026889264583587646,-0.15761610865592957,-0.19761770963668823,0.2644539475440979,-0.1356811821460724,-0.12656721472740173,0.13100610673427582,-0.18914982676506042,0.0600648857653141,0.2556364834308624,-0.00140239461325109,-0.31619352102279663,-0.29773977398872375,-0.1297745555639267,-0.3430982828140259,-0.15844179689884186,0.01349550299346447,0.09802024066448212,-0.24797917902469635,-0.22691592574119568,-0.06108826398849487,-0.4136609733104706,-0.3552096486091614,-0.28971388936042786,-0.16594384610652924,0.2869604229927063,-0.21938005089759827,-0.16909299790859222,-0.08886296302080154,-0.2535640299320221,0.4032890200614929,-0.21731366217136383,-0.18755990266799927,0.39583495259284973,-0.39785027503967285,0.3930133581161499,-0.38722652196884155,-0.07957787811756134,0.09979771077632904,-0.12025277316570282,-0.10378438979387283,-0.3651129901409149,0.08335394412279129,0.25686338543891907,-0.5189350843429565,0.10948425531387329,0.35522571206092834,0.17520427703857422,-0.03018883615732193,-0.19133314490318298,-0.047851428389549255,-0.17228104174137115,-0.2266712486743927,-0.018993273377418518,-0.45217421650886536,-0.23137377202510834,0.12877026200294495,-0.047579117119312286,-0.0009393927757628262,0.610547661781311,-0.16298910975456238,-0.224495530128479,0.06915183365345001,-0.26877540349960327,0.16434164345264435,-0.2866494953632355,-0.04115905240178108,-0.4225117564201355,-0.2199040800333023,-0.014832739718258381,-0.14674615859985352,-0.007791354786604643,-0.12923677265644073,-0.08839180320501328,0.11057088524103165,-0.10822587460279465,-0.10359816253185272,-0.484506219625473,-0.18289732933044434,-0.1574850231409073,-0.22636833786964417,0.38162699341773987,0.06239178031682968,0.3472381830215454,0.3923446536064148,0.021429073065519333,-0.30791375041007996,-0.01505670603364706,-0.2644317150115967,-0.01834736205637455,-0.16994144022464752,-0.3440001606941223,0.2772597074508667,0.0005083838477730751,-0.26301029324531555,-0.47731906175613403,-0.36276453733444214,-0.02188916504383087,-0.1232331395149231],\"z\":[-0.12192316353321075,-0.022088009864091873,-0.04106339067220688,-0.01971231773495674,0.02664690650999546,0.09363661706447601,-0.011734867468476295,-0.10562653839588165,-0.0922951027750969,-0.19909371435642242,0.04470393434166908,0.10794822871685028,-0.13491462171077728,0.044593583792448044,0.046739909797906876,0.13782799243927002,0.05667050555348396,-0.134797602891922,-0.049483560025691986,0.11826593428850174,0.2110612988471985,-0.11418985575437546,0.20870241522789001,-0.050655610859394073,0.0085741663351655,-0.04242395982146263,-0.03654000908136368,-0.07540784031152725,-0.16884490847587585,-0.18045899271965027,0.007949517108500004,-0.08574686199426651,0.0353364460170269,-0.06362821906805038,0.06512975692749023,-0.07537735998630524,-0.02100573666393757,-0.05815547704696655,-0.19204846024513245,-0.032526955008506775,0.02733108028769493,-0.0480305515229702,0.02141815610229969,-0.14055949449539185,0.0762285441160202,-0.08782649040222168,0.027213383466005325,-0.23549216985702515,0.12654787302017212,-0.0611172579228878,-0.12412850558757782,0.24995742738246918,0.04233170300722122,-0.02318612113595009,-0.10923168808221817,0.044296301901340485,-0.07332071661949158,0.07264929264783859,-0.09175075590610504,-0.08349215239286423,0.04411756992340088,0.04640794172883034,0.011718682944774628,-0.042817745357751846,-0.03356624022126198,0.05134551599621773,-0.0032172526698559523,-0.007520902901887894,0.18617743253707886,0.07359200716018677,0.03364916518330574,-0.09572989493608475,0.016460616141557693,0.01977679878473282,-0.08808473497629166,-0.06039873883128166,-0.23064249753952026,-0.022533917799592018,-0.04210907220840454,0.129127636551857,0.06472890824079514,0.021695856004953384,-0.010988832451403141,-0.0554456003010273,0.009144505485892296,-0.01531727984547615,0.049969226121902466,0.038477737456560135,0.09151555597782135,-0.03740678355097771,-0.028844472020864487,0.15970095992088318,-0.11965982615947723,-0.00885612890124321,0.014154140837490559,0.0993397980928421,-0.04674763232469559,-0.039741672575473785,0.09741578251123428,-0.1552412360906601,0.09201984107494354,-0.05314061418175697,-0.0454893559217453,-0.014381637796759605,-0.04593667387962341,0.05907266587018967,0.041103433817625046,-0.008951246738433838,-0.06287050992250443,0.09036695212125778,-0.005145550239831209,0.07114516943693161,0.059773024171590805,0.034883469343185425,0.04816517233848572,0.033086180686950684,0.01145006250590086,0.038940686732530594,-0.0182217825204134,0.04708044230937958,-0.05594031140208244,-0.011370563879609108,-0.018918870016932487,-0.06111781671643257,0.09844060987234116,0.0033932216465473175,0.02186460979282856,-0.026493627578020096,0.01710164174437523,-0.06543317437171936,0.11539167165756226,-0.01306154578924179,-0.02923097461462021,-0.08964668214321136,0.05259658023715019,-0.0429568849503994,0.05253284424543381,-0.059615202248096466,0.17533543705940247,-0.08738887310028076,-0.09316267818212509,-0.020139489322900772,0.09734091907739639,0.07769621908664703,-0.010765927843749523,-0.025816941633820534,0.06220954284071922,0.004322374239563942,-0.11666350811719894,-0.05808461084961891,-0.0011680200695991516,-0.06488282978534698,0.1065792441368103,-0.14549756050109863,0.13851723074913025,-0.04852551221847534,0.07433599978685379,0.10327331721782684,0.11277197301387787,0.021169859915971756,0.21004652976989746,-0.11445318907499313,-0.07864270359277725,-0.017650220543146133,0.10320498049259186,-0.029107239097356796,0.08069004118442535,0.09376388788223267,0.08507322520017624,-0.09768297523260117,-0.021458469331264496,-0.01672876626253128,0.026313234120607376,-0.035005729645490646,0.006834204774349928,0.023781200870871544,-0.015671666711568832,-0.03653108328580856,-0.07495316118001938,0.08737677335739136,-0.06100492551922798,0.04758033528923988,0.1537235528230667,-0.05279920995235443,0.07165148109197617,0.15425929427146912,0.07326886802911758,-0.1109856516122818,0.1580783724784851,-0.06386326253414154,0.027299238368868828,-0.026410577818751335,-0.07090489566326141,0.14106875658035278,-0.030940555036067963,0.03737756609916687,0.008944066241383553,-0.05552875995635986,0.02626180090010166,0.005595727823674679,-0.019369862973690033,-0.07949177920818329,-0.05998672544956207,0.15695519745349884,0.026579255238175392,-0.08633808046579361,-0.04687505587935448,-0.03891914710402489,-0.024024376645684242,-0.05333276838064194,-0.08273003995418549,-0.0010093528544530272,0.0009165176306851208,-0.16356775164604187,0.09822677820920944,0.09720367193222046,0.007867974229156971,-0.20882079005241394,0.003956347703933716,0.11460667848587036,0.06477684527635574,-0.05019792541861534,0.020231002941727638,-0.0229345615953207,-0.010009102523326874,-0.021782036870718002,-0.1441359966993332,-0.04683203995227814,-0.10030651092529297,-0.0020396767649799585,-0.011557293124496937,0.07782018184661865,0.06865321844816208,-0.053976718336343765,-0.06981323659420013,0.008212380111217499,-0.07178104668855667,-0.0990377813577652,0.023692090064287186,-0.07426473498344421,-0.025526857003569603,-0.048761557787656784,0.04701080545783043,-0.01827249675989151,-0.13193227350711823,-0.012536095455288887,-0.007119846064597368,0.032645925879478455,-0.13792884349822998,0.0047986856661736965,0.019395852461457253,-0.0266873799264431,-0.060179613530635834,-0.04084797203540802,-0.09620196372270584,-0.018276451155543327,-0.0033268677070736885,0.03807666897773743,0.007674078457057476,0.039797086268663406,-0.04950076341629028,-0.05299505963921547,0.07002454251050949,-0.09817179292440414,0.013253179378807545,-0.02134142629802227,0.012258080765604973,0.09819652140140533,-0.013459614478051662,0.10398701578378677,-0.003752567106857896,-0.024924973025918007,0.04174324870109558,-0.03549424186348915,-0.09038638323545456,-0.10109773278236389,0.14747026562690735,0.015248658135533333,0.047961603850126266,-0.03936392441391945,0.01376340351998806,-0.06795268505811691,0.0789945125579834,-0.0375874899327755,-0.07481911033391953,0.02722424827516079,-0.06494660675525665,0.14726728200912476,-0.016774626448750496,0.0496986098587513,-0.11152178794145584,-0.11565510928630829,-0.09016531705856323,-0.07982514798641205,-0.055057916790246964,-0.1844407320022583,-0.008676506578922272,0.050257641822099686,-0.04679860919713974,0.08834321796894073,0.007861492224037647,0.010489378124475479,-0.07880538702011108,-0.11410344392061234,-0.0026383446529507637,-0.028222449123859406,0.04074015095829964,0.02020111307501793,0.02686947211623192,0.04119846224784851,-0.09284055978059769,0.24367649853229523,0.08935713768005371,0.1327841430902481,0.015140658244490623,0.09864643216133118,0.18668493628501892,0.05280254781246185,0.013299559243023396,-0.002152950270101428,0.02700003609061241,-0.1094871312379837,-0.015296461060643196,0.02280232310295105,0.007562101352959871,0.15362031757831573,0.041741129010915756,0.13849924504756927,-0.02856558933854103,0.006602284032851458,-0.016280489042401314,0.06016484647989273,-0.06414759904146194,0.024970361962914467,-0.005035608075559139,-0.011546685360372066,-0.025932837277650833,-0.056455451995134354,0.06949206441640854,0.055710360407829285,-0.05848496034741402,-0.001815663417801261,0.03432568162679672,-0.057625140994787216,-0.011854028329253197,0.03419644013047218,0.012161499820649624,-0.006210010033100843,-0.0519239716231823,-0.1720002293586731,-0.02754189446568489,-0.00398975657299161,0.06155114248394966,0.021451562643051147,0.034254200756549835,0.07690145075321198,-0.012064488604664803,0.005239007994532585,-0.010855475440621376,-0.032401230186223984,-0.004743416793644428,0.024198973551392555,0.024470938369631767,0.13363765180110931,-0.10860362648963928,-0.05114753171801567,0.20098263025283813,-0.08323433995246887,0.00340002472512424,-0.015889843925833702,-0.0647534653544426,0.06528206169605255,0.07318533957004547,-0.02454676479101181,0.005900143180042505,-0.021084589883685112,-0.0004916223115287721,-0.06504634022712708,-0.12242569029331207,-0.10692162066698074,0.043735962361097336,-0.03324709087610245,-0.018535252660512924,0.005574606824666262,0.004585465416312218,-0.030980821698904037,-0.08774964511394501,0.07918254286050797,0.07221566885709763,0.0885857418179512,0.08596271276473999,-0.11968059837818146,0.027080506086349487,-0.045584358274936676,-0.034327052533626556,-0.1373746693134308,0.05373971164226532,0.07631106674671173,-0.04898400604724884,0.061376266181468964,-0.03687212988734245,0.11942168325185776,0.025701653212308884,0.15971314907073975,0.1431487798690796,0.014232790097594261,-0.00034253462217748165,-0.08990956842899323,-0.06748206913471222,0.09556286782026291,-0.009156805463135242,0.039749421179294586,0.01882685162127018,-0.0244621429592371,-0.009608144871890545,0.055154949426651,0.08881570398807526,0.057798828929662704,0.07832831144332886,-0.044808149337768555,-0.09848693758249283,0.12153667211532593,0.051722679287195206,0.02477051131427288,0.057810571044683456,-0.04358280077576637,0.005946997553110123,0.09776775538921356,-0.07276266813278198,0.00987042672932148,0.17553390562534332,0.013952676206827164,0.09540349990129471,0.21096228063106537,0.12118061631917953,0.03088531084358692,0.11246650665998459,0.05351158604025841,-0.00012455842806957662,0.017852330580353737,-0.1106899231672287,0.013773678801953793,-0.04656897485256195,-0.10166359692811966,0.20506735146045685,-0.06298303604125977,0.024152982980012894,-0.09404502063989639,0.0027865180745720863,0.04245930537581444,-0.05846096947789192,-0.05405097454786301,-0.03196623921394348,-0.028216715902090073,0.08181169629096985,0.031877901405096054,-0.075123630464077,0.11137780547142029,0.11272089928388596,-0.10601523518562317,-0.01789799891412258,-0.08940763771533966,-0.10230183601379395,0.014513391070067883,-0.045216552913188934,0.033940210938453674,-0.18501794338226318,0.06505730003118515,-0.019138548523187637,-0.03798346221446991,-0.010711790062487125,0.03890735283493996,0.08626364171504974,0.09952017664909363,0.0051274471916258335,0.10855329036712646,-0.09149523824453354,-0.20423229038715363,-0.03682570904493332,0.09775171428918839,0.0554240383207798,0.1323428601026535,-0.020359717309474945,0.049218207597732544,0.018832240253686905,0.0480232872068882,0.037145670503377914,-0.09108611941337585,0.04451952502131462,-0.06331496685743332,0.06732205301523209,0.062000203877687454,-0.05881170183420181,-0.05941250920295715,-0.055702805519104004,-0.14196059107780457,-0.06841991096735,-0.018992584198713303,-0.02300344407558441],\"type\":\"scatter3d\"}],                        {\"template\":{\"data\":{\"histogram2dcontour\":[{\"type\":\"histogram2dcontour\",\"colorbar\":{\"outlinewidth\":0,\"ticks\":\"\"},\"colorscale\":[[0.0,\"#0d0887\"],[0.1111111111111111,\"#46039f\"],[0.2222222222222222,\"#7201a8\"],[0.3333333333333333,\"#9c179e\"],[0.4444444444444444,\"#bd3786\"],[0.5555555555555556,\"#d8576b\"],[0.6666666666666666,\"#ed7953\"],[0.7777777777777778,\"#fb9f3a\"],[0.8888888888888888,\"#fdca26\"],[1.0,\"#f0f921\"]]}],\"choropleth\":[{\"type\":\"choropleth\",\"colorbar\":{\"outlinewidth\":0,\"ticks\":\"\"}}],\"histogram2d\":[{\"type\":\"histogram2d\",\"colorbar\":{\"outlinewidth\":0,\"ticks\":\"\"},\"colorscale\":[[0.0,\"#0d0887\"],[0.1111111111111111,\"#46039f\"],[0.2222222222222222,\"#7201a8\"],[0.3333333333333333,\"#9c179e\"],[0.4444444444444444,\"#bd3786\"],[0.5555555555555556,\"#d8576b\"],[0.6666666666666666,\"#ed7953\"],[0.7777777777777778,\"#fb9f3a\"],[0.8888888888888888,\"#fdca26\"],[1.0,\"#f0f921\"]]}],\"heatmap\":[{\"type\":\"heatmap\",\"colorbar\":{\"outlinewidth\":0,\"ticks\":\"\"},\"colorscale\":[[0.0,\"#0d0887\"],[0.1111111111111111,\"#46039f\"],[0.2222222222222222,\"#7201a8\"],[0.3333333333333333,\"#9c179e\"],[0.4444444444444444,\"#bd3786\"],[0.5555555555555556,\"#d8576b\"],[0.6666666666666666,\"#ed7953\"],[0.7777777777777778,\"#fb9f3a\"],[0.8888888888888888,\"#fdca26\"],[1.0,\"#f0f921\"]]}],\"heatmapgl\":[{\"type\":\"heatmapgl\",\"colorbar\":{\"outlinewidth\":0,\"ticks\":\"\"},\"colorscale\":[[0.0,\"#0d0887\"],[0.1111111111111111,\"#46039f\"],[0.2222222222222222,\"#7201a8\"],[0.3333333333333333,\"#9c179e\"],[0.4444444444444444,\"#bd3786\"],[0.5555555555555556,\"#d8576b\"],[0.6666666666666666,\"#ed7953\"],[0.7777777777777778,\"#fb9f3a\"],[0.8888888888888888,\"#fdca26\"],[1.0,\"#f0f921\"]]}],\"contourcarpet\":[{\"type\":\"contourcarpet\",\"colorbar\":{\"outlinewidth\":0,\"ticks\":\"\"}}],\"contour\":[{\"type\":\"contour\",\"colorbar\":{\"outlinewidth\":0,\"ticks\":\"\"},\"colorscale\":[[0.0,\"#0d0887\"],[0.1111111111111111,\"#46039f\"],[0.2222222222222222,\"#7201a8\"],[0.3333333333333333,\"#9c179e\"],[0.4444444444444444,\"#bd3786\"],[0.5555555555555556,\"#d8576b\"],[0.6666666666666666,\"#ed7953\"],[0.7777777777777778,\"#fb9f3a\"],[0.8888888888888888,\"#fdca26\"],[1.0,\"#f0f921\"]]}],\"surface\":[{\"type\":\"surface\",\"colorbar\":{\"outlinewidth\":0,\"ticks\":\"\"},\"colorscale\":[[0.0,\"#0d0887\"],[0.1111111111111111,\"#46039f\"],[0.2222222222222222,\"#7201a8\"],[0.3333333333333333,\"#9c179e\"],[0.4444444444444444,\"#bd3786\"],[0.5555555555555556,\"#d8576b\"],[0.6666666666666666,\"#ed7953\"],[0.7777777777777778,\"#fb9f3a\"],[0.8888888888888888,\"#fdca26\"],[1.0,\"#f0f921\"]]}],\"mesh3d\":[{\"type\":\"mesh3d\",\"colorbar\":{\"outlinewidth\":0,\"ticks\":\"\"}}],\"scatter\":[{\"fillpattern\":{\"fillmode\":\"overlay\",\"size\":10,\"solidity\":0.2},\"type\":\"scatter\"}],\"parcoords\":[{\"type\":\"parcoords\",\"line\":{\"colorbar\":{\"outlinewidth\":0,\"ticks\":\"\"}}}],\"scatterpolargl\":[{\"type\":\"scatterpolargl\",\"marker\":{\"colorbar\":{\"outlinewidth\":0,\"ticks\":\"\"}}}],\"bar\":[{\"error_x\":{\"color\":\"#2a3f5f\"},\"error_y\":{\"color\":\"#2a3f5f\"},\"marker\":{\"line\":{\"color\":\"#E5ECF6\",\"width\":0.5},\"pattern\":{\"fillmode\":\"overlay\",\"size\":10,\"solidity\":0.2}},\"type\":\"bar\"}],\"scattergeo\":[{\"type\":\"scattergeo\",\"marker\":{\"colorbar\":{\"outlinewidth\":0,\"ticks\":\"\"}}}],\"scatterpolar\":[{\"type\":\"scatterpolar\",\"marker\":{\"colorbar\":{\"outlinewidth\":0,\"ticks\":\"\"}}}],\"histogram\":[{\"marker\":{\"pattern\":{\"fillmode\":\"overlay\",\"size\":10,\"solidity\":0.2}},\"type\":\"histogram\"}],\"scattergl\":[{\"type\":\"scattergl\",\"marker\":{\"colorbar\":{\"outlinewidth\":0,\"ticks\":\"\"}}}],\"scatter3d\":[{\"type\":\"scatter3d\",\"line\":{\"colorbar\":{\"outlinewidth\":0,\"ticks\":\"\"}},\"marker\":{\"colorbar\":{\"outlinewidth\":0,\"ticks\":\"\"}}}],\"scattermapbox\":[{\"type\":\"scattermapbox\",\"marker\":{\"colorbar\":{\"outlinewidth\":0,\"ticks\":\"\"}}}],\"scatterternary\":[{\"type\":\"scatterternary\",\"marker\":{\"colorbar\":{\"outlinewidth\":0,\"ticks\":\"\"}}}],\"scattercarpet\":[{\"type\":\"scattercarpet\",\"marker\":{\"colorbar\":{\"outlinewidth\":0,\"ticks\":\"\"}}}],\"carpet\":[{\"aaxis\":{\"endlinecolor\":\"#2a3f5f\",\"gridcolor\":\"white\",\"linecolor\":\"white\",\"minorgridcolor\":\"white\",\"startlinecolor\":\"#2a3f5f\"},\"baxis\":{\"endlinecolor\":\"#2a3f5f\",\"gridcolor\":\"white\",\"linecolor\":\"white\",\"minorgridcolor\":\"white\",\"startlinecolor\":\"#2a3f5f\"},\"type\":\"carpet\"}],\"table\":[{\"cells\":{\"fill\":{\"color\":\"#EBF0F8\"},\"line\":{\"color\":\"white\"}},\"header\":{\"fill\":{\"color\":\"#C8D4E3\"},\"line\":{\"color\":\"white\"}},\"type\":\"table\"}],\"barpolar\":[{\"marker\":{\"line\":{\"color\":\"#E5ECF6\",\"width\":0.5},\"pattern\":{\"fillmode\":\"overlay\",\"size\":10,\"solidity\":0.2}},\"type\":\"barpolar\"}],\"pie\":[{\"automargin\":true,\"type\":\"pie\"}]},\"layout\":{\"autotypenumbers\":\"strict\",\"colorway\":[\"#636efa\",\"#EF553B\",\"#00cc96\",\"#ab63fa\",\"#FFA15A\",\"#19d3f3\",\"#FF6692\",\"#B6E880\",\"#FF97FF\",\"#FECB52\"],\"font\":{\"color\":\"#2a3f5f\"},\"hovermode\":\"closest\",\"hoverlabel\":{\"align\":\"left\"},\"paper_bgcolor\":\"white\",\"plot_bgcolor\":\"#E5ECF6\",\"polar\":{\"bgcolor\":\"#E5ECF6\",\"angularaxis\":{\"gridcolor\":\"white\",\"linecolor\":\"white\",\"ticks\":\"\"},\"radialaxis\":{\"gridcolor\":\"white\",\"linecolor\":\"white\",\"ticks\":\"\"}},\"ternary\":{\"bgcolor\":\"#E5ECF6\",\"aaxis\":{\"gridcolor\":\"white\",\"linecolor\":\"white\",\"ticks\":\"\"},\"baxis\":{\"gridcolor\":\"white\",\"linecolor\":\"white\",\"ticks\":\"\"},\"caxis\":{\"gridcolor\":\"white\",\"linecolor\":\"white\",\"ticks\":\"\"}},\"coloraxis\":{\"colorbar\":{\"outlinewidth\":0,\"ticks\":\"\"}},\"colorscale\":{\"sequential\":[[0.0,\"#0d0887\"],[0.1111111111111111,\"#46039f\"],[0.2222222222222222,\"#7201a8\"],[0.3333333333333333,\"#9c179e\"],[0.4444444444444444,\"#bd3786\"],[0.5555555555555556,\"#d8576b\"],[0.6666666666666666,\"#ed7953\"],[0.7777777777777778,\"#fb9f3a\"],[0.8888888888888888,\"#fdca26\"],[1.0,\"#f0f921\"]],\"sequentialminus\":[[0.0,\"#0d0887\"],[0.1111111111111111,\"#46039f\"],[0.2222222222222222,\"#7201a8\"],[0.3333333333333333,\"#9c179e\"],[0.4444444444444444,\"#bd3786\"],[0.5555555555555556,\"#d8576b\"],[0.6666666666666666,\"#ed7953\"],[0.7777777777777778,\"#fb9f3a\"],[0.8888888888888888,\"#fdca26\"],[1.0,\"#f0f921\"]],\"diverging\":[[0,\"#8e0152\"],[0.1,\"#c51b7d\"],[0.2,\"#de77ae\"],[0.3,\"#f1b6da\"],[0.4,\"#fde0ef\"],[0.5,\"#f7f7f7\"],[0.6,\"#e6f5d0\"],[0.7,\"#b8e186\"],[0.8,\"#7fbc41\"],[0.9,\"#4d9221\"],[1,\"#276419\"]]},\"xaxis\":{\"gridcolor\":\"white\",\"linecolor\":\"white\",\"ticks\":\"\",\"title\":{\"standoff\":15},\"zerolinecolor\":\"white\",\"automargin\":true,\"zerolinewidth\":2},\"yaxis\":{\"gridcolor\":\"white\",\"linecolor\":\"white\",\"ticks\":\"\",\"title\":{\"standoff\":15},\"zerolinecolor\":\"white\",\"automargin\":true,\"zerolinewidth\":2},\"scene\":{\"xaxis\":{\"backgroundcolor\":\"#E5ECF6\",\"gridcolor\":\"white\",\"linecolor\":\"white\",\"showbackground\":true,\"ticks\":\"\",\"zerolinecolor\":\"white\",\"gridwidth\":2},\"yaxis\":{\"backgroundcolor\":\"#E5ECF6\",\"gridcolor\":\"white\",\"linecolor\":\"white\",\"showbackground\":true,\"ticks\":\"\",\"zerolinecolor\":\"white\",\"gridwidth\":2},\"zaxis\":{\"backgroundcolor\":\"#E5ECF6\",\"gridcolor\":\"white\",\"linecolor\":\"white\",\"showbackground\":true,\"ticks\":\"\",\"zerolinecolor\":\"white\",\"gridwidth\":2}},\"shapedefaults\":{\"line\":{\"color\":\"#2a3f5f\"}},\"annotationdefaults\":{\"arrowcolor\":\"#2a3f5f\",\"arrowhead\":0,\"arrowwidth\":1},\"geo\":{\"bgcolor\":\"white\",\"landcolor\":\"#E5ECF6\",\"subunitcolor\":\"white\",\"showland\":true,\"showlakes\":true,\"lakecolor\":\"white\"},\"title\":{\"x\":0.05},\"mapbox\":{\"style\":\"light\"}}},\"scene\":{\"domain\":{\"x\":[0.0,1.0],\"y\":[0.0,1.0]},\"xaxis\":{\"title\":{\"text\":\"x\"}},\"yaxis\":{\"title\":{\"text\":\"y\"}},\"zaxis\":{\"title\":{\"text\":\"z\"}}},\"legend\":{\"tracegroupgap\":0},\"margin\":{\"t\":60}},                        {\"responsive\": true}                    ).then(function(){\n",
       "                            \n",
       "var gd = document.getElementById('fd73fa18-396c-403d-84e4-0107a2a61b17');\n",
       "var x = new MutationObserver(function (mutations, observer) {{\n",
       "        var display = window.getComputedStyle(gd).display;\n",
       "        if (!display || display === 'none') {{\n",
       "            console.log([gd, 'removed!']);\n",
       "            Plotly.purge(gd);\n",
       "            observer.disconnect();\n",
       "        }}\n",
       "}});\n",
       "\n",
       "// Listen for the removal of the full notebook cells\n",
       "var notebookContainer = gd.closest('#notebook-container');\n",
       "if (notebookContainer) {{\n",
       "    x.observe(notebookContainer, {childList: true});\n",
       "}}\n",
       "\n",
       "// Listen for the clearing of the current output cell\n",
       "var outputEl = gd.closest('.output');\n",
       "if (outputEl) {{\n",
       "    x.observe(outputEl, {childList: true});\n",
       "}}\n",
       "\n",
       "                        })                };                });            </script>        </div>"
      ]
     },
     "metadata": {},
     "output_type": "display_data"
    }
   ],
   "source": [
    "import plotly.express as px\n",
    "\n",
    "words = list(tokenizer.word_index.keys())\n",
    "fig = px.scatter_3d(\n",
    "    data_frame=word_emb_df,\n",
    "    x=three_d[:VOCAB_SIZE-1, 0],\n",
    "    y=three_d[:VOCAB_SIZE-1, 1],\n",
    "    z=three_d[:VOCAB_SIZE-1, 2],\n",
    "    hover_data=['word'] \n",
    ")\n",
    "\n",
    "fig.show()"
   ]
  },
  {
   "cell_type": "code",
   "execution_count": 57,
   "id": "532d346a",
   "metadata": {},
   "outputs": [],
   "source": [
    "def spherize(emb):\n",
    "    return np.divide(emb, np.linalg.norm(np.array(emb), ord=2, keepdims=True))"
   ]
  },
  {
   "cell_type": "code",
   "execution_count": 58,
   "id": "2e1eb649",
   "metadata": {
    "scrolled": true
   },
   "outputs": [
    {
     "data": {
      "text/html": [
       "<div>\n",
       "<style scoped>\n",
       "    .dataframe tbody tr th:only-of-type {\n",
       "        vertical-align: middle;\n",
       "    }\n",
       "\n",
       "    .dataframe tbody tr th {\n",
       "        vertical-align: top;\n",
       "    }\n",
       "\n",
       "    .dataframe thead th {\n",
       "        text-align: right;\n",
       "    }\n",
       "</style>\n",
       "<table border=\"1\" class=\"dataframe\">\n",
       "  <thead>\n",
       "    <tr style=\"text-align: right;\">\n",
       "      <th></th>\n",
       "      <th>word</th>\n",
       "      <th>embedding</th>\n",
       "      <th>normalized</th>\n",
       "    </tr>\n",
       "  </thead>\n",
       "  <tbody>\n",
       "    <tr>\n",
       "      <th>0</th>\n",
       "      <td>&lt;OOV&gt;</td>\n",
       "      <td>[-0.057333782, 0.041911256, -0.12192316]</td>\n",
       "      <td>[-0.40633678, 0.29703403, -0.86409557]</td>\n",
       "    </tr>\n",
       "    <tr>\n",
       "      <th>1</th>\n",
       "      <td>the</td>\n",
       "      <td>[-0.06834805, 0.18181008, -0.02208801]</td>\n",
       "      <td>[-0.3496339, 0.930048, -0.112991035]</td>\n",
       "    </tr>\n",
       "  </tbody>\n",
       "</table>\n",
       "</div>"
      ],
      "text/plain": [
       "    word                                 embedding  \\\n",
       "0  <OOV>  [-0.057333782, 0.041911256, -0.12192316]   \n",
       "1    the    [-0.06834805, 0.18181008, -0.02208801]   \n",
       "\n",
       "                               normalized  \n",
       "0  [-0.40633678, 0.29703403, -0.86409557]  \n",
       "1    [-0.3496339, 0.930048, -0.112991035]  "
      ]
     },
     "execution_count": 58,
     "metadata": {},
     "output_type": "execute_result"
    }
   ],
   "source": [
    "word_emb_df['normalized'] = word_emb_df['embedding'].apply(lambda x:spherize(x))\n",
    "word_emb_df.head(2)"
   ]
  },
  {
   "cell_type": "code",
   "execution_count": 59,
   "id": "02ca0f87",
   "metadata": {
    "scrolled": true
   },
   "outputs": [
    {
     "data": {
      "text/plain": [
       "array([[-0.40633678,  0.29703403, -0.86409557],\n",
       "       [-0.3496339 ,  0.930048  , -0.11299103],\n",
       "       [-0.6358594 , -0.48657736, -0.59910375],\n",
       "       ...,\n",
       "       [ 0.81361693, -0.57132816, -0.10775646],\n",
       "       [ 0.9970723 , -0.05775496, -0.05011228],\n",
       "       [ 0.81709325, -0.5667167 , -0.10578676]], dtype=float32)"
      ]
     },
     "execution_count": 59,
     "metadata": {},
     "output_type": "execute_result"
    }
   ],
   "source": [
    "np.array(word_emb_df['normalized'].tolist())"
   ]
  },
  {
   "cell_type": "code",
   "execution_count": 60,
   "id": "ccd25f28",
   "metadata": {},
   "outputs": [
    {
     "data": {
      "application/vnd.plotly.v1+json": {
       "config": {
        "plotlyServerURL": "https://plot.ly"
       },
       "data": [
        {
         "customdata": [
          [
           "<OOV>"
          ],
          [
           "the"
          ],
          [
           "and"
          ],
          [
           "i"
          ],
          [
           "it"
          ],
          [
           "a"
          ],
          [
           "is"
          ],
          [
           "to"
          ],
          [
           "this"
          ],
          [
           "was"
          ],
          [
           "of"
          ],
          [
           "my"
          ],
          [
           "for"
          ],
          [
           "not"
          ],
          [
           "phone"
          ],
          [
           "in"
          ],
          [
           "very"
          ],
          [
           "with"
          ],
          [
           "great"
          ],
          [
           "good"
          ],
          [
           "on"
          ],
          [
           "that"
          ],
          [
           "have"
          ],
          [
           "you"
          ],
          [
           "had"
          ],
          [
           "so"
          ],
          [
           "but"
          ],
          [
           "are"
          ],
          [
           "food"
          ],
          [
           "service"
          ],
          [
           "be"
          ],
          [
           "as"
          ],
          [
           "place"
          ],
          [
           "all"
          ],
          [
           "like"
          ],
          [
           "quality"
          ],
          [
           "time"
          ],
          [
           "product"
          ],
          [
           "one"
          ],
          [
           "at"
          ],
          [
           "we"
          ],
          [
           "well"
          ],
          [
           "they"
          ],
          [
           "would"
          ],
          [
           "back"
          ],
          [
           "if"
          ],
          [
           "headset"
          ],
          [
           "works"
          ],
          [
           "battery"
          ],
          [
           "really"
          ],
          [
           "don't"
          ],
          [
           "sound"
          ],
          [
           "your"
          ],
          [
           "use"
          ],
          [
           "best"
          ],
          [
           "up"
          ],
          [
           "from"
          ],
          [
           "has"
          ],
          [
           "just"
          ],
          [
           "an"
          ],
          [
           "i've"
          ],
          [
           "will"
          ],
          [
           "no"
          ],
          [
           "were"
          ],
          [
           "only"
          ],
          [
           "also"
          ],
          [
           "me"
          ],
          [
           "there"
          ],
          [
           "ever"
          ],
          [
           "than"
          ],
          [
           "it's"
          ],
          [
           "out"
          ],
          [
           "nice"
          ],
          [
           "ear"
          ],
          [
           "go"
          ],
          [
           "excellent"
          ],
          [
           "when"
          ],
          [
           "first"
          ],
          [
           "work"
          ],
          [
           "recommend"
          ],
          [
           "2"
          ],
          [
           "here"
          ],
          [
           "after"
          ],
          [
           "i'm"
          ],
          [
           "or"
          ],
          [
           "never"
          ],
          [
           "too"
          ],
          [
           "love"
          ],
          [
           "price"
          ],
          [
           "case"
          ],
          [
           "get"
          ],
          [
           "can"
          ],
          [
           "been"
          ],
          [
           "more"
          ],
          [
           "what"
          ],
          [
           "any"
          ],
          [
           "could"
          ],
          [
           "again"
          ],
          [
           "even"
          ],
          [
           "because"
          ],
          [
           "better"
          ],
          [
           "did"
          ],
          [
           "does"
          ],
          [
           "about"
          ],
          [
           "do"
          ],
          [
           "made"
          ],
          [
           "which"
          ],
          [
           "our"
          ],
          [
           "by"
          ],
          [
           "now"
          ],
          [
           "their"
          ],
          [
           "bad"
          ],
          [
           "other"
          ],
          [
           "am"
          ],
          [
           "worst"
          ],
          [
           "them"
          ],
          [
           "much"
          ],
          [
           "got"
          ],
          [
           "money"
          ],
          [
           "new"
          ],
          [
           "disappointed"
          ],
          [
           "enough"
          ],
          [
           "these"
          ],
          [
           "delicious"
          ],
          [
           "then"
          ],
          [
           "think"
          ],
          [
           "still"
          ],
          [
           "happy"
          ],
          [
           "off"
          ],
          [
           "minutes"
          ],
          [
           "right"
          ],
          [
           "car"
          ],
          [
           "pretty"
          ],
          [
           "item"
          ],
          [
           "worked"
          ],
          [
           "friendly"
          ],
          [
           "charger"
          ],
          [
           "buy"
          ],
          [
           "while"
          ],
          [
           "vegas"
          ],
          [
           "waste"
          ],
          [
           "comfortable"
          ],
          [
           "far"
          ],
          [
           "poor"
          ],
          [
           "bluetooth"
          ],
          [
           "easy"
          ],
          [
           "some"
          ],
          [
           "he"
          ],
          [
           "two"
          ],
          [
           "bought"
          ],
          [
           "everything"
          ],
          [
           "few"
          ],
          [
           "definitely"
          ],
          [
           "reception"
          ],
          [
           "used"
          ],
          [
           "restaurant"
          ],
          [
           "going"
          ],
          [
           "how"
          ],
          [
           "went"
          ],
          [
           "people"
          ],
          [
           "doesn't"
          ],
          [
           "fine"
          ],
          [
           "thing"
          ],
          [
           "1"
          ],
          [
           "its"
          ],
          [
           "being"
          ],
          [
           "didn't"
          ],
          [
           "make"
          ],
          [
           "piece"
          ],
          [
           "over"
          ],
          [
           "came"
          ],
          [
           "always"
          ],
          [
           "way"
          ],
          [
           "say"
          ],
          [
           "long"
          ],
          [
           "charge"
          ],
          [
           "little"
          ],
          [
           "life"
          ],
          [
           "purchase"
          ],
          [
           "down"
          ],
          [
           "cell"
          ],
          [
           "terrible"
          ],
          [
           "times"
          ],
          [
           "take"
          ],
          [
           "amazing"
          ],
          [
           "5"
          ],
          [
           "problem"
          ],
          [
           "3"
          ],
          [
           "camera"
          ],
          [
           "want"
          ],
          [
           "calls"
          ],
          [
           "device"
          ],
          [
           "know"
          ],
          [
           "same"
          ],
          [
           "another"
          ],
          [
           "come"
          ],
          [
           "us"
          ],
          [
           "problems"
          ],
          [
           "volume"
          ],
          [
           "into"
          ],
          [
           "last"
          ],
          [
           "hear"
          ],
          [
           "clear"
          ],
          [
           "lot"
          ],
          [
           "working"
          ],
          [
           "found"
          ],
          [
           "using"
          ],
          [
           "motorola"
          ],
          [
           "fit"
          ],
          [
           "small"
          ],
          [
           "fantastic"
          ],
          [
           "every"
          ],
          [
           "before"
          ],
          [
           "horrible"
          ],
          [
           "worth"
          ],
          [
           "many"
          ],
          [
           "quite"
          ],
          [
           "plug"
          ],
          [
           "impressed"
          ],
          [
           "design"
          ],
          [
           "highly"
          ],
          [
           "makes"
          ],
          [
           "years"
          ],
          [
           "sure"
          ],
          [
           "order"
          ],
          [
           "both"
          ],
          [
           "couldn't"
          ],
          [
           "fits"
          ],
          [
           "look"
          ],
          [
           "experience"
          ],
          [
           "ordered"
          ],
          [
           "customer"
          ],
          [
           "try"
          ],
          [
           "nothing"
          ],
          [
           "can't"
          ],
          [
           "taste"
          ],
          [
           "staff"
          ],
          [
           "several"
          ],
          [
           "loved"
          ],
          [
           "without"
          ],
          [
           "months"
          ],
          [
           "left"
          ],
          [
           "phones"
          ],
          [
           "real"
          ],
          [
           "since"
          ],
          [
           "looks"
          ],
          [
           "cool"
          ],
          [
           "tried"
          ],
          [
           "call"
          ],
          [
           "around"
          ],
          [
           "screen"
          ],
          [
           "cheap"
          ],
          [
           "side"
          ],
          [
           "where"
          ],
          [
           "overall"
          ],
          [
           "i'd"
          ],
          [
           "year"
          ],
          [
           "stars"
          ],
          [
           "however"
          ],
          [
           "deal"
          ],
          [
           "give"
          ],
          [
           "wasn't"
          ],
          [
           "won't"
          ],
          [
           "fresh"
          ],
          [
           "salad"
          ],
          [
           "steak"
          ],
          [
           "waited"
          ],
          [
           "days"
          ],
          [
           "she"
          ],
          [
           "talk"
          ],
          [
           "find"
          ],
          [
           "wear"
          ],
          [
           "kind"
          ],
          [
           "perfectly"
          ],
          [
           "10"
          ],
          [
           "night"
          ],
          [
           "company"
          ],
          [
           "either"
          ],
          [
           "old"
          ],
          [
           "low"
          ],
          [
           "amazon"
          ],
          [
           "hard"
          ],
          [
           "said"
          ],
          [
           "day"
          ],
          [
           "next"
          ],
          [
           "menu"
          ],
          [
           "burger"
          ],
          [
           "pizza"
          ],
          [
           "who"
          ],
          [
           "absolutely"
          ],
          [
           "most"
          ],
          [
           "need"
          ],
          [
           "priced"
          ],
          [
           "verizon"
          ],
          [
           "dropped"
          ],
          [
           "buttons"
          ],
          [
           "seriously"
          ],
          [
           "big"
          ],
          [
           "broke"
          ],
          [
           "black"
          ],
          [
           "light"
          ],
          [
           "completely"
          ],
          [
           "jabra"
          ],
          [
           "voice"
          ],
          [
           "area"
          ],
          [
           "slow"
          ],
          [
           "probably"
          ],
          [
           "return"
          ],
          [
           "junk"
          ],
          [
           "looking"
          ],
          [
           "i'll"
          ],
          [
           "unit"
          ],
          [
           "away"
          ],
          [
           "anyone"
          ],
          [
           "took"
          ],
          [
           "none"
          ],
          [
           "tasty"
          ],
          [
           "selection"
          ],
          [
           "eat"
          ],
          [
           "breakfast"
          ],
          [
           "flavor"
          ],
          [
           "must"
          ],
          [
           "everyone"
          ],
          [
           "helpful"
          ],
          [
           "kept"
          ],
          [
           "picture"
          ],
          [
           "audio"
          ],
          [
           "loud"
          ],
          [
           "end"
          ],
          [
           "different"
          ],
          [
           "feels"
          ],
          [
           "headsets"
          ],
          [
           "gets"
          ],
          [
           "home"
          ],
          [
           "arrived"
          ],
          [
           "quickly"
          ],
          [
           "received"
          ],
          [
           "pleased"
          ],
          [
           "job"
          ],
          [
           "getting"
          ],
          [
           "software"
          ],
          [
           "hours"
          ],
          [
           "internet"
          ],
          [
           "less"
          ],
          [
           "stay"
          ],
          [
           "extremely"
          ],
          [
           "useless"
          ],
          [
           "felt"
          ],
          [
           "hands"
          ],
          [
           "family"
          ],
          [
           "nokia"
          ],
          [
           "sucks"
          ],
          [
           "couple"
          ],
          [
           "disappointing"
          ],
          [
           "bland"
          ],
          [
           "those"
          ],
          [
           "wrong"
          ],
          [
           "things"
          ],
          [
           "feel"
          ],
          [
           "coming"
          ],
          [
           "waitress"
          ],
          [
           "sushi"
          ],
          [
           "unless"
          ],
          [
           "value"
          ],
          [
           "each"
          ],
          [
           "original"
          ],
          [
           "though"
          ],
          [
           "bars"
          ],
          [
           "three"
          ],
          [
           "simple"
          ],
          [
           "ears"
          ],
          [
           "hate"
          ],
          [
           "turn"
          ],
          [
           "headphones"
          ],
          [
           "week"
          ],
          [
           "later"
          ],
          [
           "within"
          ],
          [
           "expect"
          ],
          [
           "free"
          ],
          [
           "huge"
          ],
          [
           "high"
          ],
          [
           "fast"
          ],
          [
           "full"
          ],
          [
           "may"
          ],
          [
           "signal"
          ],
          [
           "avoid"
          ],
          [
           "glad"
          ],
          [
           "put"
          ],
          [
           "awesome"
          ],
          [
           "incredible"
          ],
          [
           "check"
          ],
          [
           "color"
          ],
          [
           "part"
          ],
          [
           "expected"
          ],
          [
           "tell"
          ],
          [
           "authentic"
          ],
          [
           "disappointment"
          ],
          [
           "cable"
          ],
          [
           "care"
          ],
          [
           "ago"
          ],
          [
           "having"
          ],
          [
           "crap"
          ],
          [
           "especially"
          ],
          [
           "rather"
          ],
          [
           "difficult"
          ],
          [
           "cannot"
          ],
          [
           "zero"
          ],
          [
           "samsung"
          ],
          [
           "extra"
          ],
          [
           "soon"
          ],
          [
           "inside"
          ],
          [
           "prices"
          ],
          [
           "cooked"
          ],
          [
           "wonderful"
          ],
          [
           "sauce"
          ],
          [
           "dish"
          ],
          [
           "buffet"
          ],
          [
           "eating"
          ],
          [
           "dining"
          ],
          [
           "atmosphere"
          ],
          [
           "clean"
          ],
          [
           "line"
          ],
          [
           "decent"
          ],
          [
           "razr"
          ],
          [
           "started"
          ],
          [
           "yet"
          ],
          [
           "charging"
          ],
          [
           "mobile"
          ],
          [
           "hold"
          ],
          [
           "least"
          ],
          [
           "seems"
          ],
          [
           "should"
          ],
          [
           "actually"
          ],
          [
           "sturdy"
          ],
          [
           "large"
          ],
          [
           "front"
          ],
          [
           "beautiful"
          ],
          [
           "bargain"
          ],
          [
           "super"
          ],
          [
           "shipping"
          ],
          [
           "between"
          ],
          [
           "pictures"
          ],
          [
           "wife"
          ],
          [
           "strong"
          ],
          [
           "done"
          ],
          [
           "set"
          ],
          [
           "weeks"
          ],
          [
           "during"
          ],
          [
           "charm"
          ],
          [
           "hit"
          ],
          [
           "thought"
          ],
          [
           "reasonably"
          ],
          [
           "range"
          ],
          [
           "bit"
          ],
          [
           "mistake"
          ],
          [
           "important"
          ],
          [
           "feature"
          ],
          [
           "buying"
          ],
          [
           "lacking"
          ],
          [
           "anything"
          ],
          [
           "belt"
          ],
          [
           "data"
          ],
          [
           "sides"
          ],
          [
           "others"
          ],
          [
           "trying"
          ],
          [
           "today"
          ],
          [
           "satisfied"
          ],
          [
           "keep"
          ],
          [
           "plastic"
          ],
          [
           "oh"
          ],
          [
           "clarity"
          ],
          [
           "20"
          ],
          [
           "unfortunately"
          ],
          [
           "given"
          ],
          [
           "star"
          ],
          [
           "replace"
          ],
          [
           "quick"
          ],
          [
           "plus"
          ],
          [
           "cases"
          ],
          [
           "pay"
          ],
          [
           "connection"
          ],
          [
           "told"
          ],
          [
           "hour"
          ],
          [
           "4"
          ],
          [
           "management"
          ],
          [
           "easily"
          ],
          [
           "see"
          ],
          [
           "wow"
          ],
          [
           "pho"
          ],
          [
           "fries"
          ],
          [
           "beer"
          ],
          [
           "waiter"
          ],
          [
           "table"
          ],
          [
           "tender"
          ],
          [
           "server"
          ],
          [
           "potato"
          ],
          [
           "lunch"
          ],
          [
           "chicken"
          ],
          [
           "town"
          ]
         ],
         "hovertemplate": "x=%{x}<br>y=%{y}<br>z=%{z}<br>word=%{customdata[0]}<extra></extra>",
         "legendgroup": "",
         "marker": {
          "color": "#636efa",
          "symbol": "circle"
         },
         "mode": "markers",
         "name": "",
         "scene": "scene",
         "showlegend": false,
         "type": "scatter3d",
         "x": [
          -0.40633678436279297,
          -0.3496339023113251,
          -0.6358593702316284,
          -0.8895478248596191,
          -0.7515132427215576,
          0.07705274224281311,
          0.1728757917881012,
          -0.523361086845398,
          -0.1856851577758789,
          0.297470360994339,
          -0.4755089581012726,
          -0.5341115593910217,
          -0.7725279331207275,
          -0.7507793307304382,
          0.8085015416145325,
          -0.4788547456264496,
          -0.6591296792030334,
          -0.4608466923236847,
          -0.8334808349609375,
          -0.9906957149505615,
          -0.9403893947601318,
          -0.19541223347187042,
          0.12477052211761475,
          -0.4224509000778198,
          -0.6338213682174683,
          -0.7373130321502686,
          0.3525427281856537,
          -0.5921093225479126,
          -0.4162293076515198,
          -0.39541101455688477,
          -0.7167763113975525,
          0.09153436869382858,
          -0.06876242160797119,
          -0.9097939133644104,
          -0.3562990725040436,
          -0.4514896869659424,
          -0.6294293999671936,
          -0.9541491270065308,
          0.27027779817581177,
          -0.24667544662952423,
          0.7793134450912476,
          -0.8048720955848694,
          -0.9987825751304626,
          -0.7130650877952576,
          -0.42474982142448425,
          0.4482715129852295,
          0.36626195907592773,
          0.6122688055038452,
          -0.954619288444519,
          0.9003628492355347,
          0.145003080368042,
          0.4322190284729004,
          -0.918522834777832,
          -0.24924232065677643,
          0.5507249236106873,
          -0.9935930371284485,
          -0.17700040340423584,
          -0.5036482214927673,
          0.11854499578475952,
          -0.2369491159915924,
          0.6561115384101868,
          -0.8162683844566345,
          -0.7334274053573608,
          -0.21492259204387665,
          0.9966617226600647,
          0.8579705953598022,
          -0.3181059956550598,
          0.48040807247161865,
          0.5262320637702942,
          0.05457514151930809,
          -0.9884232878684998,
          0.12729127705097198,
          -0.49144473671913147,
          -0.9993772506713867,
          0.8111326694488525,
          -0.13673532009124756,
          -0.7916267514228821,
          0.4800741672515869,
          -0.2866317927837372,
          0.7874270081520081,
          -0.9657579064369202,
          -0.984191358089447,
          0.6558288931846619,
          0.4413812756538391,
          0.6770612597465515,
          -0.7298542261123657,
          0.9941484928131104,
          0.7799102067947388,
          -0.9929144978523254,
          -0.5877459049224854,
          -0.4693104922771454,
          0.4641830623149872,
          0.45754140615463257,
          -0.9565735459327698,
          0.9827575087547302,
          -0.961449146270752,
          -0.7617178559303284,
          -0.013824807479977608,
          -0.9496684670448303,
          -0.8244024515151978,
          -0.7668601274490356,
          0.13088777661323547,
          -0.9906058311462402,
          -0.7198711037635803,
          -0.9577008485794067,
          0.975473940372467,
          0.6656333208084106,
          0.9337860941886902,
          0.33813461661338806,
          -0.29501980543136597,
          -0.5993263125419617,
          -0.9318531155586243,
          0.9852222800254822,
          0.8590080142021179,
          0.6660812497138977,
          0.9894249439239502,
          0.8967714905738831,
          -0.2482159286737442,
          -0.7326196432113647,
          0.8484863638877869,
          -0.78322833776474,
          0.5249366760253906,
          0.9897516369819641,
          -0.8849547505378723,
          -0.962463915348053,
          0.9387916326522827,
          0.771628737449646,
          0.2508264183998108,
          -0.9843882918357849,
          0.9830886721611023,
          0.6613272428512573,
          0.9247408509254456,
          -0.9361679553985596,
          -0.3753800392150879,
          -0.7663447856903076,
          0.4949782192707062,
          -0.5830143690109253,
          -0.41006943583488464,
          0.10928912460803986,
          -0.9540805816650391,
          0.5400189161300659,
          0.9295479655265808,
          -0.8904504776000977,
          -0.9894444942474365,
          0.9991297721862793,
          -0.9616444706916809,
          -0.9875144362449646,
          0.49700868129730225,
          -0.9020547866821289,
          -0.9298888444900513,
          0.6258146166801453,
          0.5025185346603394,
          0.14440840482711792,
          -0.8799960613250732,
          -0.318836510181427,
          0.9499109983444214,
          -0.8931035399436951,
          -0.6958010792732239,
          0.500404953956604,
          -0.7502166032791138,
          -0.5382444858551025,
          0.8918690085411072,
          -0.80898118019104,
          0.9709475040435791,
          0.8668640851974487,
          -0.5277406573295593,
          0.820501983165741,
          0.7711814641952515,
          -0.9513524174690247,
          0.23578526079654694,
          0.7660142779350281,
          -0.7751849293708801,
          -0.931961178779602,
          0.9696270823478699,
          0.7215074896812439,
          -0.9515616297721863,
          0.6783038377761841,
          -0.8786844611167908,
          -0.5798876881599426,
          0.6746218204498291,
          0.7127401828765869,
          -0.8694544434547424,
          0.9886605739593506,
          0.09982677549123764,
          0.9683256149291992,
          -0.938105046749115,
          -0.05904669687151909,
          0.5860690474510193,
          0.9343613386154175,
          -0.48129770159721375,
          -0.5638816356658936,
          0.951294481754303,
          0.1553226262331009,
          -0.9223117828369141,
          0.9764948487281799,
          0.7700066566467285,
          -0.9081229567527771,
          -0.9554659128189087,
          -0.46973541378974915,
          0.7526763081550598,
          0.9753690958023071,
          0.9107716083526611,
          0.9436479210853577,
          -0.6195871829986572,
          -0.9912583231925964,
          -0.7821157574653625,
          -0.8568577766418457,
          -0.9512119889259338,
          -0.9726204872131348,
          0.2540772259235382,
          -0.42167121171951294,
          -0.9724635481834412,
          -0.6959969401359558,
          0.12248850613832474,
          0.9205092191696167,
          -0.809542179107666,
          0.9917106628417969,
          -0.725786566734314,
          0.9117745161056519,
          -0.9577690958976746,
          0.6126093864440918,
          -0.7411308288574219,
          -0.4294719994068146,
          -0.9270904660224915,
          0.6099733114242554,
          -0.9646682739257812,
          -0.47517210245132446,
          0.2492203414440155,
          -0.8856232166290283,
          0.9768343567848206,
          0.9586749076843262,
          0.9108778834342957,
          0.23901459574699402,
          -0.047192737460136414,
          0.6642006635665894,
          -0.9969424605369568,
          0.9214039444923401,
          -0.8918047547340393,
          -0.6889035701751709,
          -0.9621308445930481,
          -0.9778783321380615,
          0.5905153751373291,
          0.8833463191986084,
          -0.9929467439651489,
          0.31673043966293335,
          0.6877850294113159,
          0.9027876853942871,
          -0.9930561184883118,
          -0.9258151650428772,
          0.7137994170188904,
          -0.572742223739624,
          0.9844808578491211,
          -0.6861754059791565,
          0.8910114169120789,
          -0.30517464876174927,
          -0.1963741034269333,
          0.9890444874763489,
          0.9948050379753113,
          -0.9942127466201782,
          0.792998731136322,
          0.530333936214447,
          0.9265579581260681,
          0.9151918292045593,
          -0.11509168148040771,
          -0.9993452429771423,
          0.9214996099472046,
          -0.8045093417167664,
          0.8744775056838989,
          0.9890022277832031,
          -0.7096752524375916,
          0.9765450358390808,
          0.9533246755599976,
          -0.5086555480957031,
          0.9765101075172424,
          -0.9301921725273132,
          -0.9085823893547058,
          -0.9221714735031128,
          0.9364417791366577,
          0.7837353348731995,
          0.8973758220672607,
          0.8727282881736755,
          -0.852840006351471,
          0.4210452139377594,
          -0.8964608907699585,
          -0.5976467728614807,
          -0.9854985475540161,
          -0.9744799137115479,
          0.392718106508255,
          -0.9512035846710205,
          0.9686364531517029,
          -0.15181343257427216,
          0.37058496475219727,
          -0.8904869556427002,
          -0.9447973370552063,
          -0.925202488899231,
          0.9281725883483887,
          0.7254303097724915,
          -0.866036593914032,
          0.34559252858161926,
          0.9288531541824341,
          -0.8597004413604736,
          -0.9861570000648499,
          0.9705572724342346,
          -0.47753968834877014,
          -0.9939032196998596,
          0.7617284655570984,
          0.9677523970603943,
          0.5463709831237793,
          0.7848809957504272,
          0.9470745325088501,
          0.9716891646385193,
          0.40888071060180664,
          0.9551408290863037,
          -0.9032081365585327,
          0.797829806804657,
          0.6479922533035278,
          0.9395947456359863,
          -0.9673670530319214,
          0.9778663516044617,
          -0.16288717091083527,
          -0.8463168740272522,
          0.9248257875442505,
          -0.9865208268165588,
          -0.9785244464874268,
          -0.5838075876235962,
          -0.6117698550224304,
          0.9813891649246216,
          0.36460983753204346,
          -0.05154195800423622,
          -0.8975192308425903,
          0.8769342303276062,
          -0.884292483329773,
          0.706767201423645,
          -0.9572167992591858,
          -0.2591020464897156,
          0.9583184123039246,
          -0.9980007410049438,
          0.9130914807319641,
          -0.9527367949485779,
          -0.9491508603096008,
          -0.8639647960662842,
          -0.5986891388893127,
          0.7994223833084106,
          0.892284631729126,
          -0.6566996574401855,
          0.979746401309967,
          0.966171383857727,
          0.9354971647262573,
          0.9526044726371765,
          -0.31746622920036316,
          -0.9445964097976685,
          0.9989823698997498,
          0.9640397429466248,
          -0.9809132218360901,
          0.9944244027137756,
          0.9897838830947876,
          -0.4746687114238739,
          0.985474169254303,
          0.9619603753089905,
          0.845065712928772,
          -0.9908153414726257,
          -0.6034079194068909,
          0.04095728322863579,
          0.9107919931411743,
          0.8176333904266357,
          -0.8193503618240356,
          -0.9543161988258362,
          -0.013931883499026299,
          0.31722161173820496,
          0.9429083466529846,
          -0.2720518410205841,
          -0.9950780272483826,
          0.9869702458381653,
          0.6104865670204163,
          0.9759184718132019,
          0.9131447672843933,
          0.9572731852531433,
          0.9928774833679199,
          -0.8884921669960022,
          -0.9088786244392395,
          -0.9170964360237122,
          -0.9507248401641846,
          -0.9850590825080872,
          -0.8797882795333862,
          -0.5716110467910767,
          0.9901586174964905,
          0.9326617121696472,
          -0.9598774313926697,
          -0.8743672966957092,
          -0.9752944707870483,
          -0.978712797164917,
          -0.913030207157135,
          0.952266275882721,
          -0.20641902089118958,
          0.33136650919914246,
          0.6249489784240723,
          0.515860378742218,
          0.9822510480880737,
          0.8614222407341003,
          0.8409545421600342,
          -0.9916696548461914,
          0.9808018803596497,
          0.9878606796264648,
          -0.7715522050857544,
          0.9292065501213074,
          0.9896991848945618,
          0.9834848046302795,
          0.9779332876205444,
          -0.9470734000205994,
          -0.7880699634552002,
          -0.9999051690101624,
          -0.8232343792915344,
          -0.9606185555458069,
          -0.9816173911094666,
          -0.8812885880470276,
          0.5761483907699585,
          -0.9945464134216309,
          -0.9895645976066589,
          -0.7128810882568359,
          -0.49552488327026367,
          0.8078489899635315,
          -0.8522756695747375,
          0.23322980105876923,
          -0.926739513874054,
          0.5835453271865845,
          -0.013180149719119072,
          -0.4258188009262085,
          -0.7430751323699951,
          0.780602753162384,
          -0.765842854976654,
          0.05995899438858032,
          -0.8196802139282227,
          -0.9318659901618958,
          -0.8874685168266296,
          -0.9102534055709839,
          0.3082229793071747,
          0.8063852787017822,
          -0.9924238324165344,
          -0.9756461381912231,
          -0.8896071314811707,
          -0.8671972751617432,
          0.77585369348526,
          0.13215290009975433,
          -0.580689549446106,
          0.22513344883918762,
          0.6735289692878723,
          -0.8343577980995178,
          -0.7358140349388123,
          -0.9110669493675232,
          -0.9602864980697632,
          0.8512548804283142,
          -0.9684802293777466,
          -0.9407098293304443,
          -0.9979739189147949,
          0.89774090051651,
          0.9704272747039795,
          0.8726307153701782,
          0.40386080741882324,
          0.9930811524391174,
          0.5213159322738647,
          0.9781655073165894,
          0.5855349898338318,
          -0.9027260541915894,
          -0.8834004998207092,
          -0.5423468351364136,
          0.9409619569778442,
          0.8359274864196777,
          -0.8637393116950989,
          0.5248171091079712,
          0.99662846326828,
          -0.9522208571434021,
          -0.9872304201126099,
          0.6715940237045288,
          0.9937922954559326,
          -0.9138074517250061,
          0.9766932129859924,
          0.9122458100318909,
          0.2790573239326477,
          -0.961842954158783,
          -0.9783851504325867,
          0.973146378993988,
          0.08048471063375473,
          0.9878689050674438,
          0.44958189129829407,
          0.594331681728363,
          0.9868662357330322,
          0.9446561932563782,
          0.9691764712333679,
          -0.9577015042304993,
          0.9935531616210938,
          -0.42859718203544617,
          -0.8584242463111877,
          0.7508236169815063,
          -0.9265490174293518,
          -0.8948172926902771,
          -0.8123891949653625,
          0.813616931438446,
          0.9970722794532776,
          0.8170932531356812
         ],
         "y": [
          0.29703402519226074,
          0.9300479888916016,
          -0.4865773618221283,
          0.4490712881088257,
          0.6453315615653992,
          0.9578325748443604,
          0.9846838116645813,
          0.8048300743103027,
          0.9104548096656799,
          0.008278920315206051,
          0.8512911796569824,
          0.7982267737388611,
          0.34252551198005676,
          0.5836831331253052,
          0.5864839553833008,
          -0.5132154226303101,
          0.7137700319290161,
          0.6152786612510681,
          0.5354622602462769,
          0.044366106390953064,
          0.257747083902359,
          0.915032684803009,
          0.9059698581695557,
          -0.8932178616523743,
          0.7732836008071899,
          -0.6249399781227112,
          -0.7611643671989441,
          0.29168909788131714,
          0.6407787799835205,
          -0.28324607014656067,
          0.6946844458580017,
          0.9538826942443848,
          0.9959009885787964,
          -0.3686027228832245,
          -0.9232672452926636,
          0.8789258003234863,
          0.7747339606285095,
          0.24122872948646545,
          0.6191985607147217,
          0.9635599255561829,
          0.6245552897453308,
          0.560617983341217,
          -0.02481885626912117,
          -0.18306444585323334,
          0.7828752994537354,
          0.8440909385681152,
          0.9236845970153809,
          -0.12460627406835556,
          -0.28031620383262634,
          0.3864777386188507,
          0.8150920271873474,
          0.8659684062004089,
          0.3650692403316498,
          0.9672163128852844,
          0.8015397191047668,
          0.0956539437174797,
          0.9690752029418945,
          0.6104956269264221,
          -0.7663863897323608,
          0.9108237028121948,
          -0.7416503429412842,
          0.5520510673522949,
          0.6765651106834412,
          0.971896231174469,
          -0.03135247156023979,
          -0.4381592273712158,
          -0.9479915499687195,
          0.8768210411071777,
          0.7963331341743469,
          0.9742105603218079,
          0.13898013532161713,
          0.8320652842521667,
          0.8701813220977783,
          -0.02366022951900959,
          -0.20394141972064972,
          -0.9148423671722412,
          0.2671431601047516,
          0.8719785809516907,
          0.9529539346694946,
          0.5805729031562805,
          0.2006903737783432,
          -0.16206224262714386,
          0.7136544585227966,
          0.8669768571853638,
          -0.7272327542304993,
          0.6823471188545227,
          -0.08246976137161255,
          0.6037423610687256,
          -0.08103173971176147,
          0.8040550351142883,
          0.870285153388977,
          0.7835898399353027,
          0.8065252900123596,
          -0.28797847032546997,
          0.17539677023887634,
          -0.02282721921801567,
          0.6394599080085754,
          0.9948364496231079,
          -0.22579136490821838,
          -0.47599396109580994,
          -0.39616313576698303,
          0.9543033838272095,
          -0.09435921162366867,
          0.6677011251449585,
          0.1760590374469757,
          -0.19144026935100555,
          0.7124695777893066,
          -0.3572692275047302,
          0.8907052278518677,
          0.8749537467956543,
          -0.8001108765602112,
          -0.23277147114276886,
          -0.16429221630096436,
          0.5017504692077637,
          -0.6786585450172424,
          -0.14081712067127228,
          0.4411475360393524,
          0.9310794472694397,
          -0.6796771883964539,
          0.5241444110870361,
          0.5944046974182129,
          0.8510175943374634,
          0.05245993658900261,
          0.39759206771850586,
          -0.2539330720901489,
          -0.34446558356285095,
          0.6344977617263794,
          -0.961054801940918,
          0.17091313004493713,
          0.09594091773033142,
          0.7275538444519043,
          0.3790897727012634,
          0.33310917019844055,
          -0.5222008228302002,
          0.5677300095558167,
          -0.8462488651275635,
          0.7952303290367126,
          0.8749087452888489,
          -0.42104750871658325,
          0.24990275502204895,
          -0.479254812002182,
          -0.3684627413749695,
          0.4366389811038971,
          0.03624812513589859,
          -0.04010378196835518,
          -0.2645953595638275,
          0.12567731738090515,
          -0.8676101565361023,
          0.2782590985298157,
          0.30249547958374023,
          0.7799679636955261,
          -0.3698287606239319,
          -0.27650219202041626,
          -0.4406851828098297,
          -0.8290089964866638,
          0.24337360262870789,
          0.43185955286026,
          0.20870617032051086,
          0.7945604920387268,
          0.6534825563430786,
          0.7925193309783936,
          0.43240734934806824,
          -0.49736925959587097,
          0.22919361293315887,
          -0.4673416018486023,
          0.848171591758728,
          -0.5270667672157288,
          -0.6221066117286682,
          0.28865712881088257,
          0.9282053112983704,
          0.628915548324585,
          0.6291450262069702,
          0.358719140291214,
          0.2307860553264618,
          -0.691769003868103,
          0.2806965112686157,
          -0.7294744849205017,
          0.3610212206840515,
          0.6655281186103821,
          -0.5171341896057129,
          0.688603937625885,
          0.4658870995044708,
          -0.023724112659692764,
          -0.9870103597640991,
          -0.21128085255622864,
          -0.32617008686065674,
          -0.9323421120643616,
          0.6993362903594971,
          -0.32188671827316284,
          -0.8561243414878845,
          0.8215318322181702,
          -0.3033357560634613,
          -0.868031919002533,
          0.30794575810432434,
          -0.20382153987884521,
          -0.6215555667877197,
          0.4153648018836975,
          0.26596036553382874,
          -0.8666715621948242,
          -0.6582428812980652,
          0.21314896643161774,
          -0.3966902792453766,
          0.26001206040382385,
          0.7169339060783386,
          0.11414109170436859,
          -0.4982481598854065,
          0.5037099123001099,
          -0.29349711537361145,
          -0.2284296751022339,
          -0.4592079222202301,
          -0.8545193672180176,
          -0.2330494374036789,
          0.7180414199829102,
          -0.9131060838699341,
          -0.3778547942638397,
          0.5589441657066345,
          -0.12734238803386688,
          -0.5059652924537659,
          0.41065576672554016,
          0.09562218934297562,
          -0.7790501117706299,
          0.6481786966323853,
          -0.8975212574005127,
          -0.37258338928222656,
          0.7915717363357544,
          -0.22562067210674286,
          -0.7439428567886353,
          0.8759743571281433,
          -0.3397577106952667,
          0.2139228731393814,
          0.28357017040252686,
          -0.3702545166015625,
          0.9285435676574707,
          -0.9654089212417603,
          0.7282109260559082,
          0.03264310210943222,
          -0.37165695428848267,
          -0.40996161103248596,
          -0.7200481295585632,
          -0.25438711047172546,
          -0.20487195253372192,
          -0.76800936460495,
          0.43946900963783264,
          -0.03575725853443146,
          0.8050091862678528,
          0.7212164402008057,
          0.4289191961288452,
          -0.08858590573072433,
          0.15388917922973633,
          0.700284481048584,
          0.8171795010566711,
          0.16194866597652435,
          -0.3967101573944092,
          -0.44842472672462463,
          0.9157422184944153,
          -0.9781450033187866,
          -0.1473369300365448,
          -0.030618587508797646,
          -0.1064889207482338,
          0.6071374416351318,
          -0.8392978310585022,
          0.3276050388813019,
          0.3979185223579407,
          0.974227249622345,
          -0.0026010172441601753,
          -0.3873087167739868,
          0.5926454067230225,
          -0.418803334236145,
          0.13285960257053375,
          -0.5917418003082275,
          0.21521134674549103,
          0.2964581847190857,
          0.85712730884552,
          -0.2111002504825592,
          -0.35396555066108704,
          -0.33964961767196655,
          0.29905417561531067,
          0.347686231136322,
          -0.6155681610107422,
          0.43459758162498474,
          0.4877128601074219,
          0.47433918714523315,
          0.8909282684326172,
          -0.435874342918396,
          -0.7144777178764343,
          -0.08245814591646194,
          -0.20501704514026642,
          0.8557767868041992,
          0.29983970522880554,
          0.09498611092567444,
          0.9765622615814209,
          0.867669939994812,
          -0.44471868872642517,
          0.22376906871795654,
          -0.37457185983657837,
          -0.32144641876220703,
          0.6878269910812378,
          -0.4759400486946106,
          0.9092344641685486,
          -0.36287227272987366,
          0.5101931095123291,
          0.1635844111442566,
          -0.2284676879644394,
          -0.8137924075126648,
          -0.11016503721475601,
          0.6389540433883667,
          -0.2494744211435318,
          0.8358720541000366,
          -0.6085027456283569,
          -0.31804755330085754,
          0.13919909298419952,
          0.38071200251579285,
          -0.29007217288017273,
          -0.38685253262519836,
          0.6019304990768433,
          0.7362844944000244,
          -0.29244866967201233,
          -0.2386055439710617,
          -0.1911158263683319,
          0.9866120219230652,
          -0.5255299806594849,
          0.2522577941417694,
          -0.15627531707286835,
          -0.20016400516033173,
          0.8110049962997437,
          -0.7109383344650269,
          -0.18381540477275848,
          -0.8674848079681396,
          -0.9959015250205994,
          0.44028306007385254,
          -0.4774370789527893,
          -0.45454052090644836,
          -0.6612715125083923,
          -0.28330427408218384,
          0.9649019241333008,
          -0.28476667404174805,
          -0.04623690992593765,
          -0.40321382880210876,
          -0.2923738658428192,
          -0.30109912157058716,
          0.3563136160373688,
          -0.800938606262207,
          -0.5941986441612244,
          0.16600577533245087,
          0.7529438734054565,
          -0.19869519770145416,
          -0.2563857436180115,
          -0.3532566428184509,
          -0.28414827585220337,
          -0.8058953881263733,
          -0.3254680633544922,
          -0.044594913721084595,
          -0.25893309712409973,
          0.19253535568714142,
          -0.09442851692438126,
          0.09854742884635925,
          -0.8794440031051636,
          -0.16745902597904205,
          -0.27187231183052063,
          0.528281033039093,
          0.13440659642219543,
          -0.7962747812271118,
          -0.9978563189506531,
          -0.39068374037742615,
          0.5057938694953918,
          -0.5483307242393494,
          -0.21308568120002747,
          0.7997949719429016,
          -0.9481953978538513,
          -0.328757643699646,
          0.944013237953186,
          0.03390147164463997,
          -0.1277271807193756,
          -0.7828212976455688,
          0.21795621514320374,
          -0.40725529193878174,
          -0.28918400406837463,
          -0.07100126892328262,
          -0.25455302000045776,
          -0.3991145193576813,
          -0.3813273012638092,
          -0.3064146339893341,
          -0.16930867731571198,
          0.4752539396286011,
          -0.8203374147415161,
          -0.0677274689078331,
          -0.34204748272895813,
          -0.27174898982048035,
          -0.4284023642539978,
          -0.19892823696136475,
          -0.18472860753536224,
          -0.3979630172252655,
          0.30180421471595764,
          -0.9573895335197449,
          0.9407300353050232,
          0.7534914612770081,
          0.8171536326408386,
          -0.1380401849746704,
          0.29502373933792114,
          -0.1422593593597412,
          0.07589578628540039,
          -0.15543131530284882,
          -0.1540452241897583,
          0.5445600152015686,
          -0.2542293071746826,
          -0.1422659158706665,
          0.18099014461040497,
          -0.1886860877275467,
          0.21343256533145905,
          0.5766136050224304,
          -0.002085179788991809,
          -0.56326824426651,
          -0.27731645107269287,
          -0.1875564306974411,
          -0.47239336371421814,
          -0.771912157535553,
          0.015667634084820747,
          0.12411841005086899,
          -0.6687183380126953,
          -0.8521389961242676,
          -0.31066954135894775,
          -0.5018793344497681,
          -0.9622737169265747,
          -0.37433865666389465,
          -0.7668769359588623,
          0.9885765314102173,
          -0.9044761657714844,
          -0.5793405175209045,
          -0.48359355330467224,
          -0.642541229724884,
          0.9152616262435913,
          -0.5716442465782166,
          -0.32337304949760437,
          0.40671244263648987,
          -0.39608582854270935,
          0.9483901262283325,
          -0.5679217576980591,
          -0.10195416957139969,
          0.21935054659843445,
          -0.4517752528190613,
          -0.3406006097793579,
          -0.6304643154144287,
          0.865336537361145,
          0.7569904923439026,
          -0.9061422348022461,
          0.6407083868980408,
          0.5499534606933594,
          0.5966605544090271,
          -0.4105134606361389,
          -0.27238932251930237,
          -0.33237510919570923,
          -0.23766803741455078,
          -0.3358888030052185,
          -0.03552783653140068,
          -0.43348586559295654,
          -0.2391347736120224,
          0.4218420088291168,
          -0.3593809902667999,
          -0.000978605356067419,
          0.8407827615737915,
          -0.20658566057682037,
          -0.7531179785728455,
          0.24092891812324524,
          -0.4679371416568756,
          0.8100531697273254,
          -0.33616411685943604,
          -0.11918137222528458,
          -0.49806898832321167,
          -0.8480094075202942,
          -0.029845034703612328,
          -0.30459991097450256,
          -0.03127923235297203,
          -0.6162492036819458,
          -0.07387842983007431,
          0.40571165084838867,
          -0.15154395997524261,
          -0.3070409595966339,
          -0.8848727941513062,
          -0.2682194113731384,
          -0.17569662630558014,
          -0.22358308732509613,
          0.9417362213134766,
          0.14762870967388153,
          0.8843991160392761,
          0.8032951951026917,
          0.065826416015625,
          -0.3257006108760834,
          -0.04017976298928261,
          -0.2837699055671692,
          -0.03155329450964928,
          -0.8399856686592102,
          -0.5048068761825562,
          0.6461268067359924,
          0.003218746045604348,
          -0.4367450177669525,
          -0.5589200258255005,
          -0.5713281631469727,
          -0.05775495991110802,
          -0.5667166709899902
         ],
         "z": [
          -0.8640955686569214,
          -0.11299103498458862,
          -0.5991037487983704,
          -0.08390289545059204,
          0.1370220184326172,
          0.2768026888370514,
          -0.02262135222554207,
          -0.27989599108695984,
          -0.3695850074291229,
          -0.9546951651573181,
          0.2217985838651657,
          0.2784937918186188,
          -0.5346744060516357,
          0.30926427245140076,
          0.048596955835819244,
          0.712255597114563,
          0.23681297898292542,
          -0.6395722031593323,
          -0.13634438812732697,
          0.1286608725786209,
          0.22188764810562134,
          -0.3528870940208435,
          0.4045378267765045,
          -0.15393871068954468,
          0.017403682693839073,
          -0.256553053855896,
          -0.5443734526634216,
          -0.7512150406837463,
          -0.6451011896133423,
          -0.8737400770187378,
          0.06037634238600731,
          -0.28588324785232544,
          0.05876145511865616,
          -0.1908063292503357,
          0.1436266005039215,
          -0.15377414226531982,
          -0.06004871055483818,
          -0.17722314596176147,
          -0.7372536659240723,
          -0.10345771908760071,
          0.05100265145301819,
          -0.19464944303035736,
          0.04262900725007057,
          -0.6767758131027222,
          0.4546358585357666,
          -0.2942160367965698,
          0.1125112846493721,
          -0.7807689905166626,
          0.10062260180711746,
          -0.19995412230491638,
          -0.560891330242157,
          0.25156620144844055,
          0.15179038047790527,
          -0.04869133606553078,
          -0.23288634419441223,
          0.06019219383597374,
          -0.1719423532485962,
          0.6112557053565979,
          -0.6313470602035522,
          -0.33801668882369995,
          0.139543354511261,
          0.1701337844133377,
          0.0659070611000061,
          -0.09605157375335693,
          -0.07538226991891861,
          0.26814737915992737,
          -0.010982495732605457,
          -0.01982494816184044,
          0.2982170581817627,
          0.21894128620624542,
          0.06086061894893646,
          -0.5398743152618408,
          0.035589221864938736,
          0.02617849037051201,
          -0.5481529235839844,
          -0.3799563944339752,
          -0.5495104193687439,
          -0.09582333266735077,
          -0.09859462827444077,
          0.20710837841033936,
          0.16442307829856873,
          0.07143653184175491,
          -0.24614183604717255,
          -0.23137347400188446,
          0.11278534680604935,
          -0.0414164699614048,
          0.06976765394210815,
          0.1650310754776001,
          0.08691703528165817,
          -0.08972339332103729,
          -0.14950424432754517,
          0.4129418730735779,
          -0.3743966221809387,
          -0.04511565342545509,
          0.05851202830672264,
          0.274033784866333,
          -0.10429221391677856,
          -0.10054488480091095,
          0.21713609993457794,
          -0.30625206232070923,
          0.5049557089805603,
          -0.26865118741989136,
          -0.09897684305906296,
          -0.18963347375392914,
          -0.2276233434677124,
          0.10863389819860458,
          0.22207960486412048,
          -0.0200567077845335,
          -0.30382415652275085,
          0.38395214080810547,
          -0.025109482929110527,
          0.27832916378974915,
          0.0484258234500885,
          0.10174324363470078,
          0.30944836139678955,
          0.034768372774124146,
          0.03449077159166336,
          0.2673572897911072,
          -0.03615853935480118,
          0.07309959083795547,
          -0.18230849504470825,
          -0.014511416666209698,
          -0.13281425833702087,
          -0.24243682622909546,
          0.09581917524337769,
          0.0036977571435272694,
          0.04473983868956566,
          -0.11601684242486954,
          0.04205343499779701,
          -0.15598711371421814,
          0.18251477181911469,
          -0.03384154662489891,
          -0.11237344145774841,
          -0.7657650113105774,
          0.3006629943847656,
          -0.19712811708450317,
          0.16644203662872314,
          -0.2576388716697693,
          0.9004303812980652,
          -0.16516344249248505,
          -0.691877543926239,
          -0.013258171267807484,
          0.12823599576950073,
          0.1403060406446457,
          -0.011460110545158386,
          -0.07231311500072479,
          0.09497540444135666,
          0.015326427295804024,
          -0.3299531936645508,
          -0.20929211378097534,
          -0.0024623980280011892,
          -0.7814740538597107,
          0.9501014351844788,
          -0.17721042037010193,
          0.45944246649742126,
          -0.19605712592601776,
          0.12594984471797943,
          0.6872427463531494,
          0.3439018726348877,
          0.10067523270845413,
          0.28671586513519287,
          -0.1326405256986618,
          -0.31332600116729736,
          -0.06878404319286346,
          0.1736045777797699,
          -0.045769061893224716,
          0.22130751609802246,
          0.13513873517513275,
          0.10772953927516937,
          -0.2878197431564331,
          -0.13299359381198883,
          -0.05713841691613197,
          0.05262084677815437,
          -0.08100130409002304,
          0.029708655551075935,
          0.12545950710773468,
          -0.0881526917219162,
          -0.31237363815307617,
          -0.4698963463306427,
          0.5267423391342163,
          -0.1335141807794571,
          0.16431103646755219,
          0.14828172326087952,
          -0.12587761878967285,
          0.13306370377540588,
          0.11649835854768753,
          0.3567235767841339,
          -0.4092086851596832,
          0.1528329700231552,
          -0.18815873563289642,
          0.08439722657203674,
          -0.055010534822940826,
          -0.4715881943702698,
          0.2334747314453125,
          -0.07010365277528763,
          0.14407776296138763,
          0.052771709859371185,
          -0.1278667449951172,
          0.16801492869853973,
          0.013955184258520603,
          -0.056768547743558884,
          -0.114594466984272,
          -0.20474933087825775,
          0.3195585012435913,
          0.06617151200771332,
          -0.3742242157459259,
          -0.10986889153718948,
          -0.09515894949436188,
          -0.04276781901717186,
          -0.8512185215950012,
          -0.30329838395118713,
          -0.0016258113319054246,
          0.002184755401685834,
          -0.38888800144195557,
          0.09944109618663788,
          0.17950712144374847,
          0.01714165508747101,
          -0.4660826623439789,
          0.005388165358453989,
          0.27117300033569336,
          0.13338133692741394,
          -0.17489872872829437,
          0.10004687309265137,
          -0.04104628041386604,
          -0.03669656813144684,
          -0.1360531747341156,
          -0.46985164284706116,
          -0.41298696398735046,
          -0.3166009485721588,
          -0.00563696026802063,
          -0.02302907034754753,
          0.18224433064460754,
          0.2840403914451599,
          -0.25643405318260193,
          -0.16895681619644165,
          0.07099465280771255,
          -0.11351557075977325,
          -0.19135241210460663,
          0.08332247287034988,
          -0.0979357436299324,
          -0.04220546409487724,
          -0.24789761006832123,
          0.16299188137054443,
          -0.11304032057523727,
          -0.5016394257545471,
          -0.08245314657688141,
          -0.03166481852531433,
          0.07740899920463562,
          -0.3452308773994446,
          0.009597987867891788,
          0.06468459963798523,
          -0.06760263442993164,
          -0.6097412109375,
          -0.07080895453691483,
          -0.261313259601593,
          -0.06833341717720032,
          -0.009100431576371193,
          0.09708467125892639,
          0.014178409241139889,
          0.0503704696893692,
          -0.11968687176704407,
          -0.18483854830265045,
          0.06391175091266632,
          -0.19399768114089966,
          0.03608926758170128,
          -0.028817560523748398,
          0.039194345474243164,
          0.24473004043102264,
          -0.06498343497514725,
          0.3823646008968353,
          -0.006627514958381653,
          -0.057311803102493286,
          0.08125470578670502,
          -0.04318097606301308,
          -0.09721562266349792,
          -0.24313826858997345,
          0.24528825283050537,
          0.04680979251861572,
          0.08267251402139664,
          -0.0764307901263237,
          0.02194215916097164,
          -0.21832628548145294,
          0.17019914090633392,
          -0.07982128113508224,
          -0.3637855350971222,
          0.1483011692762375,
          -0.09141599386930466,
          0.33677685260772705,
          -0.07285495102405548,
          0.2296106368303299,
          -0.15257376432418823,
          -0.331384539604187,
          -0.09621981531381607,
          -0.23934370279312134,
          -0.06079716235399246,
          -0.18753080070018768,
          -0.025393061339855194,
          0.1531723439693451,
          -0.23207421600818634,
          0.07453491538763046,
          0.024860795587301254,
          0.0270994883030653,
          -0.07629590481519699,
          -0.3312062919139862,
          -0.004463342949748039,
          -0.10727290064096451,
          0.03489632532000542,
          0.052883632481098175,
          0.11698818951845169,
          0.04353819414973259,
          -0.19090233743190765,
          0.8293822407722473,
          0.05970022454857826,
          0.18590374290943146,
          0.03387168049812317,
          0.19491299986839294,
          0.17786362767219543,
          0.08525532484054565,
          0.08515896648168564,
          -0.008034510537981987,
          0.08698282390832901,
          -0.28471609950065613,
          -0.04852470010519028,
          0.0492372140288353,
          0.03794234246015549,
          0.34684911370277405,
          0.0555633008480072,
          0.33842238783836365,
          -0.07432109117507935,
          0.02470017783343792,
          -0.05513883754611015,
          0.10686292499303818,
          -0.2513963282108307,
          0.05894692242145538,
          -0.042783889919519424,
          -0.023103846237063408,
          -0.043088916689157486,
          -0.06068313494324684,
          0.082523413002491,
          0.09193425625562668,
          -0.35581648349761963,
          -0.008288267068564892,
          0.088609978556633,
          -0.4198455810546875,
          -0.04267359524965286,
          0.024840544909238815,
          0.02791426330804825,
          -0.007405941374599934,
          -0.10864818841218948,
          -0.4997476637363434,
          -0.04252367466688156,
          -0.00674475310370326,
          0.05984196811914444,
          0.027193596586585045,
          0.046937499195337296,
          0.10303477197885513,
          -0.035606078803539276,
          0.02825121581554413,
          -0.02679065614938736,
          -0.08235868066549301,
          -0.01482762023806572,
          0.04295704513788223,
          0.05104229971766472,
          0.13350701332092285,
          -0.27504202723503113,
          -0.16732698678970337,
          0.20946359634399414,
          -0.6001116633415222,
          0.017206300050020218,
          -0.05331313610076904,
          -0.1866195648908615,
          0.09311503916978836,
          0.09785446524620056,
          -0.12040376663208008,
          0.008848489262163639,
          -0.017601165920495987,
          -0.000774947926402092,
          -0.0956721305847168,
          -0.3818172216415405,
          -0.12102574110031128,
          0.11629078537225723,
          -0.04724733904004097,
          -0.031515754759311676,
          0.01031184010207653,
          0.017530085518956184,
          -0.12247022241353989,
          -0.11465383321046829,
          0.06919248402118683,
          0.2279323786497116,
          0.0960632860660553,
          0.08942419290542603,
          -0.08944989740848541,
          0.04586147889494896,
          -0.20198145508766174,
          -0.0722711831331253,
          -0.20417992770671844,
          0.25719261169433594,
          0.12699513137340546,
          -0.41341590881347656,
          0.5220705270767212,
          -0.10407272726297379,
          0.11776632070541382,
          0.020034726709127426,
          0.328879177570343,
          0.26822155714035034,
          0.015998147428035736,
          -0.0004732251982204616,
          -0.08968913555145264,
          -0.23978854715824127,
          0.21555158495903015,
          -0.013614987023174763,
          0.0708097591996193,
          0.017535431310534477,
          -0.03535386547446251,
          -0.013228931464254856,
          0.2687092423439026,
          0.10311079025268555,
          0.0731879323720932,
          0.2112257033586502,
          -0.1682683676481247,
          -0.5008636713027954,
          0.14745588600635529,
          0.1401183158159256,
          0.0320059210062027,
          0.26716020703315735,
          -0.15014243125915527,
          0.02451871894299984,
          0.3349684774875641,
          -0.3959755301475525,
          0.025012049823999405,
          0.39837297797203064,
          0.03670255467295647,
          0.16448569297790527,
          0.21675948798656464,
          0.12064318358898163,
          0.07453009486198425,
          0.16494783759117126,
          0.06855836510658264,
          -0.00027377341757528484,
          0.06706906855106354,
          -0.36326324939727783,
          0.023783907294273376,
          -0.48345446586608887,
          -0.2996082007884979,
          0.35807982087135315,
          -0.36858049035072327,
          0.03739317134022713,
          -0.3202716112136841,
          0.03789159655570984,
          0.06044672057032585,
          -0.4060687720775604,
          -0.07456530630588531,
          -0.0473686084151268,
          -0.05278073251247406,
          0.0784304216504097,
          0.03294718638062477,
          -0.2460995465517044,
          0.841273844242096,
          0.11742614209651947,
          -0.1459931582212448,
          -0.022685380652546883,
          -0.2999369204044342,
          -0.356425404548645,
          0.025267768651247025,
          -0.22287602722644806,
          0.039802901446819305,
          -0.5357434153556824,
          0.0766914114356041,
          -0.07380340248346329,
          -0.07642672955989838,
          -0.02223438397049904,
          0.15619774162769318,
          0.4113372564315796,
          0.08317959308624268,
          0.018813857808709145,
          0.15200242400169373,
          -0.2711707055568695,
          -0.3729974925518036,
          -0.05400499701499939,
          0.10905574262142181,
          0.05474209412932396,
          0.32658085227012634,
          -0.04817427322268486,
          0.12535643577575684,
          0.03855754807591438,
          0.14751926064491272,
          0.039291419088840485,
          -0.24306902289390564,
          0.04777529090642929,
          -0.10888735949993134,
          0.3327590823173523,
          0.09098289161920547,
          -0.1370549499988556,
          -0.376160204410553,
          -0.09249798953533173,
          -0.1662297248840332,
          -0.10775645822286606,
          -0.0501122809946537,
          -0.1057867631316185
         ]
        }
       ],
       "layout": {
        "legend": {
         "tracegroupgap": 0
        },
        "margin": {
         "t": 60
        },
        "scene": {
         "domain": {
          "x": [
           0,
           1
          ],
          "y": [
           0,
           1
          ]
         },
         "xaxis": {
          "title": {
           "text": "x"
          }
         },
         "yaxis": {
          "title": {
           "text": "y"
          }
         },
         "zaxis": {
          "title": {
           "text": "z"
          }
         }
        },
        "template": {
         "data": {
          "bar": [
           {
            "error_x": {
             "color": "#2a3f5f"
            },
            "error_y": {
             "color": "#2a3f5f"
            },
            "marker": {
             "line": {
              "color": "#E5ECF6",
              "width": 0.5
             },
             "pattern": {
              "fillmode": "overlay",
              "size": 10,
              "solidity": 0.2
             }
            },
            "type": "bar"
           }
          ],
          "barpolar": [
           {
            "marker": {
             "line": {
              "color": "#E5ECF6",
              "width": 0.5
             },
             "pattern": {
              "fillmode": "overlay",
              "size": 10,
              "solidity": 0.2
             }
            },
            "type": "barpolar"
           }
          ],
          "carpet": [
           {
            "aaxis": {
             "endlinecolor": "#2a3f5f",
             "gridcolor": "white",
             "linecolor": "white",
             "minorgridcolor": "white",
             "startlinecolor": "#2a3f5f"
            },
            "baxis": {
             "endlinecolor": "#2a3f5f",
             "gridcolor": "white",
             "linecolor": "white",
             "minorgridcolor": "white",
             "startlinecolor": "#2a3f5f"
            },
            "type": "carpet"
           }
          ],
          "choropleth": [
           {
            "colorbar": {
             "outlinewidth": 0,
             "ticks": ""
            },
            "type": "choropleth"
           }
          ],
          "contour": [
           {
            "colorbar": {
             "outlinewidth": 0,
             "ticks": ""
            },
            "colorscale": [
             [
              0,
              "#0d0887"
             ],
             [
              0.1111111111111111,
              "#46039f"
             ],
             [
              0.2222222222222222,
              "#7201a8"
             ],
             [
              0.3333333333333333,
              "#9c179e"
             ],
             [
              0.4444444444444444,
              "#bd3786"
             ],
             [
              0.5555555555555556,
              "#d8576b"
             ],
             [
              0.6666666666666666,
              "#ed7953"
             ],
             [
              0.7777777777777778,
              "#fb9f3a"
             ],
             [
              0.8888888888888888,
              "#fdca26"
             ],
             [
              1,
              "#f0f921"
             ]
            ],
            "type": "contour"
           }
          ],
          "contourcarpet": [
           {
            "colorbar": {
             "outlinewidth": 0,
             "ticks": ""
            },
            "type": "contourcarpet"
           }
          ],
          "heatmap": [
           {
            "colorbar": {
             "outlinewidth": 0,
             "ticks": ""
            },
            "colorscale": [
             [
              0,
              "#0d0887"
             ],
             [
              0.1111111111111111,
              "#46039f"
             ],
             [
              0.2222222222222222,
              "#7201a8"
             ],
             [
              0.3333333333333333,
              "#9c179e"
             ],
             [
              0.4444444444444444,
              "#bd3786"
             ],
             [
              0.5555555555555556,
              "#d8576b"
             ],
             [
              0.6666666666666666,
              "#ed7953"
             ],
             [
              0.7777777777777778,
              "#fb9f3a"
             ],
             [
              0.8888888888888888,
              "#fdca26"
             ],
             [
              1,
              "#f0f921"
             ]
            ],
            "type": "heatmap"
           }
          ],
          "heatmapgl": [
           {
            "colorbar": {
             "outlinewidth": 0,
             "ticks": ""
            },
            "colorscale": [
             [
              0,
              "#0d0887"
             ],
             [
              0.1111111111111111,
              "#46039f"
             ],
             [
              0.2222222222222222,
              "#7201a8"
             ],
             [
              0.3333333333333333,
              "#9c179e"
             ],
             [
              0.4444444444444444,
              "#bd3786"
             ],
             [
              0.5555555555555556,
              "#d8576b"
             ],
             [
              0.6666666666666666,
              "#ed7953"
             ],
             [
              0.7777777777777778,
              "#fb9f3a"
             ],
             [
              0.8888888888888888,
              "#fdca26"
             ],
             [
              1,
              "#f0f921"
             ]
            ],
            "type": "heatmapgl"
           }
          ],
          "histogram": [
           {
            "marker": {
             "pattern": {
              "fillmode": "overlay",
              "size": 10,
              "solidity": 0.2
             }
            },
            "type": "histogram"
           }
          ],
          "histogram2d": [
           {
            "colorbar": {
             "outlinewidth": 0,
             "ticks": ""
            },
            "colorscale": [
             [
              0,
              "#0d0887"
             ],
             [
              0.1111111111111111,
              "#46039f"
             ],
             [
              0.2222222222222222,
              "#7201a8"
             ],
             [
              0.3333333333333333,
              "#9c179e"
             ],
             [
              0.4444444444444444,
              "#bd3786"
             ],
             [
              0.5555555555555556,
              "#d8576b"
             ],
             [
              0.6666666666666666,
              "#ed7953"
             ],
             [
              0.7777777777777778,
              "#fb9f3a"
             ],
             [
              0.8888888888888888,
              "#fdca26"
             ],
             [
              1,
              "#f0f921"
             ]
            ],
            "type": "histogram2d"
           }
          ],
          "histogram2dcontour": [
           {
            "colorbar": {
             "outlinewidth": 0,
             "ticks": ""
            },
            "colorscale": [
             [
              0,
              "#0d0887"
             ],
             [
              0.1111111111111111,
              "#46039f"
             ],
             [
              0.2222222222222222,
              "#7201a8"
             ],
             [
              0.3333333333333333,
              "#9c179e"
             ],
             [
              0.4444444444444444,
              "#bd3786"
             ],
             [
              0.5555555555555556,
              "#d8576b"
             ],
             [
              0.6666666666666666,
              "#ed7953"
             ],
             [
              0.7777777777777778,
              "#fb9f3a"
             ],
             [
              0.8888888888888888,
              "#fdca26"
             ],
             [
              1,
              "#f0f921"
             ]
            ],
            "type": "histogram2dcontour"
           }
          ],
          "mesh3d": [
           {
            "colorbar": {
             "outlinewidth": 0,
             "ticks": ""
            },
            "type": "mesh3d"
           }
          ],
          "parcoords": [
           {
            "line": {
             "colorbar": {
              "outlinewidth": 0,
              "ticks": ""
             }
            },
            "type": "parcoords"
           }
          ],
          "pie": [
           {
            "automargin": true,
            "type": "pie"
           }
          ],
          "scatter": [
           {
            "fillpattern": {
             "fillmode": "overlay",
             "size": 10,
             "solidity": 0.2
            },
            "type": "scatter"
           }
          ],
          "scatter3d": [
           {
            "line": {
             "colorbar": {
              "outlinewidth": 0,
              "ticks": ""
             }
            },
            "marker": {
             "colorbar": {
              "outlinewidth": 0,
              "ticks": ""
             }
            },
            "type": "scatter3d"
           }
          ],
          "scattercarpet": [
           {
            "marker": {
             "colorbar": {
              "outlinewidth": 0,
              "ticks": ""
             }
            },
            "type": "scattercarpet"
           }
          ],
          "scattergeo": [
           {
            "marker": {
             "colorbar": {
              "outlinewidth": 0,
              "ticks": ""
             }
            },
            "type": "scattergeo"
           }
          ],
          "scattergl": [
           {
            "marker": {
             "colorbar": {
              "outlinewidth": 0,
              "ticks": ""
             }
            },
            "type": "scattergl"
           }
          ],
          "scattermapbox": [
           {
            "marker": {
             "colorbar": {
              "outlinewidth": 0,
              "ticks": ""
             }
            },
            "type": "scattermapbox"
           }
          ],
          "scatterpolar": [
           {
            "marker": {
             "colorbar": {
              "outlinewidth": 0,
              "ticks": ""
             }
            },
            "type": "scatterpolar"
           }
          ],
          "scatterpolargl": [
           {
            "marker": {
             "colorbar": {
              "outlinewidth": 0,
              "ticks": ""
             }
            },
            "type": "scatterpolargl"
           }
          ],
          "scatterternary": [
           {
            "marker": {
             "colorbar": {
              "outlinewidth": 0,
              "ticks": ""
             }
            },
            "type": "scatterternary"
           }
          ],
          "surface": [
           {
            "colorbar": {
             "outlinewidth": 0,
             "ticks": ""
            },
            "colorscale": [
             [
              0,
              "#0d0887"
             ],
             [
              0.1111111111111111,
              "#46039f"
             ],
             [
              0.2222222222222222,
              "#7201a8"
             ],
             [
              0.3333333333333333,
              "#9c179e"
             ],
             [
              0.4444444444444444,
              "#bd3786"
             ],
             [
              0.5555555555555556,
              "#d8576b"
             ],
             [
              0.6666666666666666,
              "#ed7953"
             ],
             [
              0.7777777777777778,
              "#fb9f3a"
             ],
             [
              0.8888888888888888,
              "#fdca26"
             ],
             [
              1,
              "#f0f921"
             ]
            ],
            "type": "surface"
           }
          ],
          "table": [
           {
            "cells": {
             "fill": {
              "color": "#EBF0F8"
             },
             "line": {
              "color": "white"
             }
            },
            "header": {
             "fill": {
              "color": "#C8D4E3"
             },
             "line": {
              "color": "white"
             }
            },
            "type": "table"
           }
          ]
         },
         "layout": {
          "annotationdefaults": {
           "arrowcolor": "#2a3f5f",
           "arrowhead": 0,
           "arrowwidth": 1
          },
          "autotypenumbers": "strict",
          "coloraxis": {
           "colorbar": {
            "outlinewidth": 0,
            "ticks": ""
           }
          },
          "colorscale": {
           "diverging": [
            [
             0,
             "#8e0152"
            ],
            [
             0.1,
             "#c51b7d"
            ],
            [
             0.2,
             "#de77ae"
            ],
            [
             0.3,
             "#f1b6da"
            ],
            [
             0.4,
             "#fde0ef"
            ],
            [
             0.5,
             "#f7f7f7"
            ],
            [
             0.6,
             "#e6f5d0"
            ],
            [
             0.7,
             "#b8e186"
            ],
            [
             0.8,
             "#7fbc41"
            ],
            [
             0.9,
             "#4d9221"
            ],
            [
             1,
             "#276419"
            ]
           ],
           "sequential": [
            [
             0,
             "#0d0887"
            ],
            [
             0.1111111111111111,
             "#46039f"
            ],
            [
             0.2222222222222222,
             "#7201a8"
            ],
            [
             0.3333333333333333,
             "#9c179e"
            ],
            [
             0.4444444444444444,
             "#bd3786"
            ],
            [
             0.5555555555555556,
             "#d8576b"
            ],
            [
             0.6666666666666666,
             "#ed7953"
            ],
            [
             0.7777777777777778,
             "#fb9f3a"
            ],
            [
             0.8888888888888888,
             "#fdca26"
            ],
            [
             1,
             "#f0f921"
            ]
           ],
           "sequentialminus": [
            [
             0,
             "#0d0887"
            ],
            [
             0.1111111111111111,
             "#46039f"
            ],
            [
             0.2222222222222222,
             "#7201a8"
            ],
            [
             0.3333333333333333,
             "#9c179e"
            ],
            [
             0.4444444444444444,
             "#bd3786"
            ],
            [
             0.5555555555555556,
             "#d8576b"
            ],
            [
             0.6666666666666666,
             "#ed7953"
            ],
            [
             0.7777777777777778,
             "#fb9f3a"
            ],
            [
             0.8888888888888888,
             "#fdca26"
            ],
            [
             1,
             "#f0f921"
            ]
           ]
          },
          "colorway": [
           "#636efa",
           "#EF553B",
           "#00cc96",
           "#ab63fa",
           "#FFA15A",
           "#19d3f3",
           "#FF6692",
           "#B6E880",
           "#FF97FF",
           "#FECB52"
          ],
          "font": {
           "color": "#2a3f5f"
          },
          "geo": {
           "bgcolor": "white",
           "lakecolor": "white",
           "landcolor": "#E5ECF6",
           "showlakes": true,
           "showland": true,
           "subunitcolor": "white"
          },
          "hoverlabel": {
           "align": "left"
          },
          "hovermode": "closest",
          "mapbox": {
           "style": "light"
          },
          "paper_bgcolor": "white",
          "plot_bgcolor": "#E5ECF6",
          "polar": {
           "angularaxis": {
            "gridcolor": "white",
            "linecolor": "white",
            "ticks": ""
           },
           "bgcolor": "#E5ECF6",
           "radialaxis": {
            "gridcolor": "white",
            "linecolor": "white",
            "ticks": ""
           }
          },
          "scene": {
           "xaxis": {
            "backgroundcolor": "#E5ECF6",
            "gridcolor": "white",
            "gridwidth": 2,
            "linecolor": "white",
            "showbackground": true,
            "ticks": "",
            "zerolinecolor": "white"
           },
           "yaxis": {
            "backgroundcolor": "#E5ECF6",
            "gridcolor": "white",
            "gridwidth": 2,
            "linecolor": "white",
            "showbackground": true,
            "ticks": "",
            "zerolinecolor": "white"
           },
           "zaxis": {
            "backgroundcolor": "#E5ECF6",
            "gridcolor": "white",
            "gridwidth": 2,
            "linecolor": "white",
            "showbackground": true,
            "ticks": "",
            "zerolinecolor": "white"
           }
          },
          "shapedefaults": {
           "line": {
            "color": "#2a3f5f"
           }
          },
          "ternary": {
           "aaxis": {
            "gridcolor": "white",
            "linecolor": "white",
            "ticks": ""
           },
           "baxis": {
            "gridcolor": "white",
            "linecolor": "white",
            "ticks": ""
           },
           "bgcolor": "#E5ECF6",
           "caxis": {
            "gridcolor": "white",
            "linecolor": "white",
            "ticks": ""
           }
          },
          "title": {
           "x": 0.05
          },
          "xaxis": {
           "automargin": true,
           "gridcolor": "white",
           "linecolor": "white",
           "ticks": "",
           "title": {
            "standoff": 15
           },
           "zerolinecolor": "white",
           "zerolinewidth": 2
          },
          "yaxis": {
           "automargin": true,
           "gridcolor": "white",
           "linecolor": "white",
           "ticks": "",
           "title": {
            "standoff": 15
           },
           "zerolinecolor": "white",
           "zerolinewidth": 2
          }
         }
        }
       }
      },
      "text/html": [
       "<div>                            <div id=\"0398d9e6-3ad3-4f7b-b71a-25981061ac72\" class=\"plotly-graph-div\" style=\"height:525px; width:100%;\"></div>            <script type=\"text/javascript\">                require([\"plotly\"], function(Plotly) {                    window.PLOTLYENV=window.PLOTLYENV || {};                                    if (document.getElementById(\"0398d9e6-3ad3-4f7b-b71a-25981061ac72\")) {                    Plotly.newPlot(                        \"0398d9e6-3ad3-4f7b-b71a-25981061ac72\",                        [{\"customdata\":[[\"<OOV>\"],[\"the\"],[\"and\"],[\"i\"],[\"it\"],[\"a\"],[\"is\"],[\"to\"],[\"this\"],[\"was\"],[\"of\"],[\"my\"],[\"for\"],[\"not\"],[\"phone\"],[\"in\"],[\"very\"],[\"with\"],[\"great\"],[\"good\"],[\"on\"],[\"that\"],[\"have\"],[\"you\"],[\"had\"],[\"so\"],[\"but\"],[\"are\"],[\"food\"],[\"service\"],[\"be\"],[\"as\"],[\"place\"],[\"all\"],[\"like\"],[\"quality\"],[\"time\"],[\"product\"],[\"one\"],[\"at\"],[\"we\"],[\"well\"],[\"they\"],[\"would\"],[\"back\"],[\"if\"],[\"headset\"],[\"works\"],[\"battery\"],[\"really\"],[\"don't\"],[\"sound\"],[\"your\"],[\"use\"],[\"best\"],[\"up\"],[\"from\"],[\"has\"],[\"just\"],[\"an\"],[\"i've\"],[\"will\"],[\"no\"],[\"were\"],[\"only\"],[\"also\"],[\"me\"],[\"there\"],[\"ever\"],[\"than\"],[\"it's\"],[\"out\"],[\"nice\"],[\"ear\"],[\"go\"],[\"excellent\"],[\"when\"],[\"first\"],[\"work\"],[\"recommend\"],[\"2\"],[\"here\"],[\"after\"],[\"i'm\"],[\"or\"],[\"never\"],[\"too\"],[\"love\"],[\"price\"],[\"case\"],[\"get\"],[\"can\"],[\"been\"],[\"more\"],[\"what\"],[\"any\"],[\"could\"],[\"again\"],[\"even\"],[\"because\"],[\"better\"],[\"did\"],[\"does\"],[\"about\"],[\"do\"],[\"made\"],[\"which\"],[\"our\"],[\"by\"],[\"now\"],[\"their\"],[\"bad\"],[\"other\"],[\"am\"],[\"worst\"],[\"them\"],[\"much\"],[\"got\"],[\"money\"],[\"new\"],[\"disappointed\"],[\"enough\"],[\"these\"],[\"delicious\"],[\"then\"],[\"think\"],[\"still\"],[\"happy\"],[\"off\"],[\"minutes\"],[\"right\"],[\"car\"],[\"pretty\"],[\"item\"],[\"worked\"],[\"friendly\"],[\"charger\"],[\"buy\"],[\"while\"],[\"vegas\"],[\"waste\"],[\"comfortable\"],[\"far\"],[\"poor\"],[\"bluetooth\"],[\"easy\"],[\"some\"],[\"he\"],[\"two\"],[\"bought\"],[\"everything\"],[\"few\"],[\"definitely\"],[\"reception\"],[\"used\"],[\"restaurant\"],[\"going\"],[\"how\"],[\"went\"],[\"people\"],[\"doesn't\"],[\"fine\"],[\"thing\"],[\"1\"],[\"its\"],[\"being\"],[\"didn't\"],[\"make\"],[\"piece\"],[\"over\"],[\"came\"],[\"always\"],[\"way\"],[\"say\"],[\"long\"],[\"charge\"],[\"little\"],[\"life\"],[\"purchase\"],[\"down\"],[\"cell\"],[\"terrible\"],[\"times\"],[\"take\"],[\"amazing\"],[\"5\"],[\"problem\"],[\"3\"],[\"camera\"],[\"want\"],[\"calls\"],[\"device\"],[\"know\"],[\"same\"],[\"another\"],[\"come\"],[\"us\"],[\"problems\"],[\"volume\"],[\"into\"],[\"last\"],[\"hear\"],[\"clear\"],[\"lot\"],[\"working\"],[\"found\"],[\"using\"],[\"motorola\"],[\"fit\"],[\"small\"],[\"fantastic\"],[\"every\"],[\"before\"],[\"horrible\"],[\"worth\"],[\"many\"],[\"quite\"],[\"plug\"],[\"impressed\"],[\"design\"],[\"highly\"],[\"makes\"],[\"years\"],[\"sure\"],[\"order\"],[\"both\"],[\"couldn't\"],[\"fits\"],[\"look\"],[\"experience\"],[\"ordered\"],[\"customer\"],[\"try\"],[\"nothing\"],[\"can't\"],[\"taste\"],[\"staff\"],[\"several\"],[\"loved\"],[\"without\"],[\"months\"],[\"left\"],[\"phones\"],[\"real\"],[\"since\"],[\"looks\"],[\"cool\"],[\"tried\"],[\"call\"],[\"around\"],[\"screen\"],[\"cheap\"],[\"side\"],[\"where\"],[\"overall\"],[\"i'd\"],[\"year\"],[\"stars\"],[\"however\"],[\"deal\"],[\"give\"],[\"wasn't\"],[\"won't\"],[\"fresh\"],[\"salad\"],[\"steak\"],[\"waited\"],[\"days\"],[\"she\"],[\"talk\"],[\"find\"],[\"wear\"],[\"kind\"],[\"perfectly\"],[\"10\"],[\"night\"],[\"company\"],[\"either\"],[\"old\"],[\"low\"],[\"amazon\"],[\"hard\"],[\"said\"],[\"day\"],[\"next\"],[\"menu\"],[\"burger\"],[\"pizza\"],[\"who\"],[\"absolutely\"],[\"most\"],[\"need\"],[\"priced\"],[\"verizon\"],[\"dropped\"],[\"buttons\"],[\"seriously\"],[\"big\"],[\"broke\"],[\"black\"],[\"light\"],[\"completely\"],[\"jabra\"],[\"voice\"],[\"area\"],[\"slow\"],[\"probably\"],[\"return\"],[\"junk\"],[\"looking\"],[\"i'll\"],[\"unit\"],[\"away\"],[\"anyone\"],[\"took\"],[\"none\"],[\"tasty\"],[\"selection\"],[\"eat\"],[\"breakfast\"],[\"flavor\"],[\"must\"],[\"everyone\"],[\"helpful\"],[\"kept\"],[\"picture\"],[\"audio\"],[\"loud\"],[\"end\"],[\"different\"],[\"feels\"],[\"headsets\"],[\"gets\"],[\"home\"],[\"arrived\"],[\"quickly\"],[\"received\"],[\"pleased\"],[\"job\"],[\"getting\"],[\"software\"],[\"hours\"],[\"internet\"],[\"less\"],[\"stay\"],[\"extremely\"],[\"useless\"],[\"felt\"],[\"hands\"],[\"family\"],[\"nokia\"],[\"sucks\"],[\"couple\"],[\"disappointing\"],[\"bland\"],[\"those\"],[\"wrong\"],[\"things\"],[\"feel\"],[\"coming\"],[\"waitress\"],[\"sushi\"],[\"unless\"],[\"value\"],[\"each\"],[\"original\"],[\"though\"],[\"bars\"],[\"three\"],[\"simple\"],[\"ears\"],[\"hate\"],[\"turn\"],[\"headphones\"],[\"week\"],[\"later\"],[\"within\"],[\"expect\"],[\"free\"],[\"huge\"],[\"high\"],[\"fast\"],[\"full\"],[\"may\"],[\"signal\"],[\"avoid\"],[\"glad\"],[\"put\"],[\"awesome\"],[\"incredible\"],[\"check\"],[\"color\"],[\"part\"],[\"expected\"],[\"tell\"],[\"authentic\"],[\"disappointment\"],[\"cable\"],[\"care\"],[\"ago\"],[\"having\"],[\"crap\"],[\"especially\"],[\"rather\"],[\"difficult\"],[\"cannot\"],[\"zero\"],[\"samsung\"],[\"extra\"],[\"soon\"],[\"inside\"],[\"prices\"],[\"cooked\"],[\"wonderful\"],[\"sauce\"],[\"dish\"],[\"buffet\"],[\"eating\"],[\"dining\"],[\"atmosphere\"],[\"clean\"],[\"line\"],[\"decent\"],[\"razr\"],[\"started\"],[\"yet\"],[\"charging\"],[\"mobile\"],[\"hold\"],[\"least\"],[\"seems\"],[\"should\"],[\"actually\"],[\"sturdy\"],[\"large\"],[\"front\"],[\"beautiful\"],[\"bargain\"],[\"super\"],[\"shipping\"],[\"between\"],[\"pictures\"],[\"wife\"],[\"strong\"],[\"done\"],[\"set\"],[\"weeks\"],[\"during\"],[\"charm\"],[\"hit\"],[\"thought\"],[\"reasonably\"],[\"range\"],[\"bit\"],[\"mistake\"],[\"important\"],[\"feature\"],[\"buying\"],[\"lacking\"],[\"anything\"],[\"belt\"],[\"data\"],[\"sides\"],[\"others\"],[\"trying\"],[\"today\"],[\"satisfied\"],[\"keep\"],[\"plastic\"],[\"oh\"],[\"clarity\"],[\"20\"],[\"unfortunately\"],[\"given\"],[\"star\"],[\"replace\"],[\"quick\"],[\"plus\"],[\"cases\"],[\"pay\"],[\"connection\"],[\"told\"],[\"hour\"],[\"4\"],[\"management\"],[\"easily\"],[\"see\"],[\"wow\"],[\"pho\"],[\"fries\"],[\"beer\"],[\"waiter\"],[\"table\"],[\"tender\"],[\"server\"],[\"potato\"],[\"lunch\"],[\"chicken\"],[\"town\"]],\"hovertemplate\":\"x=%{x}<br>y=%{y}<br>z=%{z}<br>word=%{customdata[0]}<extra></extra>\",\"legendgroup\":\"\",\"marker\":{\"color\":\"#636efa\",\"symbol\":\"circle\"},\"mode\":\"markers\",\"name\":\"\",\"scene\":\"scene\",\"showlegend\":false,\"x\":[-0.40633678436279297,-0.3496339023113251,-0.6358593702316284,-0.8895478248596191,-0.7515132427215576,0.07705274224281311,0.1728757917881012,-0.523361086845398,-0.1856851577758789,0.297470360994339,-0.4755089581012726,-0.5341115593910217,-0.7725279331207275,-0.7507793307304382,0.8085015416145325,-0.4788547456264496,-0.6591296792030334,-0.4608466923236847,-0.8334808349609375,-0.9906957149505615,-0.9403893947601318,-0.19541223347187042,0.12477052211761475,-0.4224509000778198,-0.6338213682174683,-0.7373130321502686,0.3525427281856537,-0.5921093225479126,-0.4162293076515198,-0.39541101455688477,-0.7167763113975525,0.09153436869382858,-0.06876242160797119,-0.9097939133644104,-0.3562990725040436,-0.4514896869659424,-0.6294293999671936,-0.9541491270065308,0.27027779817581177,-0.24667544662952423,0.7793134450912476,-0.8048720955848694,-0.9987825751304626,-0.7130650877952576,-0.42474982142448425,0.4482715129852295,0.36626195907592773,0.6122688055038452,-0.954619288444519,0.9003628492355347,0.145003080368042,0.4322190284729004,-0.918522834777832,-0.24924232065677643,0.5507249236106873,-0.9935930371284485,-0.17700040340423584,-0.5036482214927673,0.11854499578475952,-0.2369491159915924,0.6561115384101868,-0.8162683844566345,-0.7334274053573608,-0.21492259204387665,0.9966617226600647,0.8579705953598022,-0.3181059956550598,0.48040807247161865,0.5262320637702942,0.05457514151930809,-0.9884232878684998,0.12729127705097198,-0.49144473671913147,-0.9993772506713867,0.8111326694488525,-0.13673532009124756,-0.7916267514228821,0.4800741672515869,-0.2866317927837372,0.7874270081520081,-0.9657579064369202,-0.984191358089447,0.6558288931846619,0.4413812756538391,0.6770612597465515,-0.7298542261123657,0.9941484928131104,0.7799102067947388,-0.9929144978523254,-0.5877459049224854,-0.4693104922771454,0.4641830623149872,0.45754140615463257,-0.9565735459327698,0.9827575087547302,-0.961449146270752,-0.7617178559303284,-0.013824807479977608,-0.9496684670448303,-0.8244024515151978,-0.7668601274490356,0.13088777661323547,-0.9906058311462402,-0.7198711037635803,-0.9577008485794067,0.975473940372467,0.6656333208084106,0.9337860941886902,0.33813461661338806,-0.29501980543136597,-0.5993263125419617,-0.9318531155586243,0.9852222800254822,0.8590080142021179,0.6660812497138977,0.9894249439239502,0.8967714905738831,-0.2482159286737442,-0.7326196432113647,0.8484863638877869,-0.78322833776474,0.5249366760253906,0.9897516369819641,-0.8849547505378723,-0.962463915348053,0.9387916326522827,0.771628737449646,0.2508264183998108,-0.9843882918357849,0.9830886721611023,0.6613272428512573,0.9247408509254456,-0.9361679553985596,-0.3753800392150879,-0.7663447856903076,0.4949782192707062,-0.5830143690109253,-0.41006943583488464,0.10928912460803986,-0.9540805816650391,0.5400189161300659,0.9295479655265808,-0.8904504776000977,-0.9894444942474365,0.9991297721862793,-0.9616444706916809,-0.9875144362449646,0.49700868129730225,-0.9020547866821289,-0.9298888444900513,0.6258146166801453,0.5025185346603394,0.14440840482711792,-0.8799960613250732,-0.318836510181427,0.9499109983444214,-0.8931035399436951,-0.6958010792732239,0.500404953956604,-0.7502166032791138,-0.5382444858551025,0.8918690085411072,-0.80898118019104,0.9709475040435791,0.8668640851974487,-0.5277406573295593,0.820501983165741,0.7711814641952515,-0.9513524174690247,0.23578526079654694,0.7660142779350281,-0.7751849293708801,-0.931961178779602,0.9696270823478699,0.7215074896812439,-0.9515616297721863,0.6783038377761841,-0.8786844611167908,-0.5798876881599426,0.6746218204498291,0.7127401828765869,-0.8694544434547424,0.9886605739593506,0.09982677549123764,0.9683256149291992,-0.938105046749115,-0.05904669687151909,0.5860690474510193,0.9343613386154175,-0.48129770159721375,-0.5638816356658936,0.951294481754303,0.1553226262331009,-0.9223117828369141,0.9764948487281799,0.7700066566467285,-0.9081229567527771,-0.9554659128189087,-0.46973541378974915,0.7526763081550598,0.9753690958023071,0.9107716083526611,0.9436479210853577,-0.6195871829986572,-0.9912583231925964,-0.7821157574653625,-0.8568577766418457,-0.9512119889259338,-0.9726204872131348,0.2540772259235382,-0.42167121171951294,-0.9724635481834412,-0.6959969401359558,0.12248850613832474,0.9205092191696167,-0.809542179107666,0.9917106628417969,-0.725786566734314,0.9117745161056519,-0.9577690958976746,0.6126093864440918,-0.7411308288574219,-0.4294719994068146,-0.9270904660224915,0.6099733114242554,-0.9646682739257812,-0.47517210245132446,0.2492203414440155,-0.8856232166290283,0.9768343567848206,0.9586749076843262,0.9108778834342957,0.23901459574699402,-0.047192737460136414,0.6642006635665894,-0.9969424605369568,0.9214039444923401,-0.8918047547340393,-0.6889035701751709,-0.9621308445930481,-0.9778783321380615,0.5905153751373291,0.8833463191986084,-0.9929467439651489,0.31673043966293335,0.6877850294113159,0.9027876853942871,-0.9930561184883118,-0.9258151650428772,0.7137994170188904,-0.572742223739624,0.9844808578491211,-0.6861754059791565,0.8910114169120789,-0.30517464876174927,-0.1963741034269333,0.9890444874763489,0.9948050379753113,-0.9942127466201782,0.792998731136322,0.530333936214447,0.9265579581260681,0.9151918292045593,-0.11509168148040771,-0.9993452429771423,0.9214996099472046,-0.8045093417167664,0.8744775056838989,0.9890022277832031,-0.7096752524375916,0.9765450358390808,0.9533246755599976,-0.5086555480957031,0.9765101075172424,-0.9301921725273132,-0.9085823893547058,-0.9221714735031128,0.9364417791366577,0.7837353348731995,0.8973758220672607,0.8727282881736755,-0.852840006351471,0.4210452139377594,-0.8964608907699585,-0.5976467728614807,-0.9854985475540161,-0.9744799137115479,0.392718106508255,-0.9512035846710205,0.9686364531517029,-0.15181343257427216,0.37058496475219727,-0.8904869556427002,-0.9447973370552063,-0.925202488899231,0.9281725883483887,0.7254303097724915,-0.866036593914032,0.34559252858161926,0.9288531541824341,-0.8597004413604736,-0.9861570000648499,0.9705572724342346,-0.47753968834877014,-0.9939032196998596,0.7617284655570984,0.9677523970603943,0.5463709831237793,0.7848809957504272,0.9470745325088501,0.9716891646385193,0.40888071060180664,0.9551408290863037,-0.9032081365585327,0.797829806804657,0.6479922533035278,0.9395947456359863,-0.9673670530319214,0.9778663516044617,-0.16288717091083527,-0.8463168740272522,0.9248257875442505,-0.9865208268165588,-0.9785244464874268,-0.5838075876235962,-0.6117698550224304,0.9813891649246216,0.36460983753204346,-0.05154195800423622,-0.8975192308425903,0.8769342303276062,-0.884292483329773,0.706767201423645,-0.9572167992591858,-0.2591020464897156,0.9583184123039246,-0.9980007410049438,0.9130914807319641,-0.9527367949485779,-0.9491508603096008,-0.8639647960662842,-0.5986891388893127,0.7994223833084106,0.892284631729126,-0.6566996574401855,0.979746401309967,0.966171383857727,0.9354971647262573,0.9526044726371765,-0.31746622920036316,-0.9445964097976685,0.9989823698997498,0.9640397429466248,-0.9809132218360901,0.9944244027137756,0.9897838830947876,-0.4746687114238739,0.985474169254303,0.9619603753089905,0.845065712928772,-0.9908153414726257,-0.6034079194068909,0.04095728322863579,0.9107919931411743,0.8176333904266357,-0.8193503618240356,-0.9543161988258362,-0.013931883499026299,0.31722161173820496,0.9429083466529846,-0.2720518410205841,-0.9950780272483826,0.9869702458381653,0.6104865670204163,0.9759184718132019,0.9131447672843933,0.9572731852531433,0.9928774833679199,-0.8884921669960022,-0.9088786244392395,-0.9170964360237122,-0.9507248401641846,-0.9850590825080872,-0.8797882795333862,-0.5716110467910767,0.9901586174964905,0.9326617121696472,-0.9598774313926697,-0.8743672966957092,-0.9752944707870483,-0.978712797164917,-0.913030207157135,0.952266275882721,-0.20641902089118958,0.33136650919914246,0.6249489784240723,0.515860378742218,0.9822510480880737,0.8614222407341003,0.8409545421600342,-0.9916696548461914,0.9808018803596497,0.9878606796264648,-0.7715522050857544,0.9292065501213074,0.9896991848945618,0.9834848046302795,0.9779332876205444,-0.9470734000205994,-0.7880699634552002,-0.9999051690101624,-0.8232343792915344,-0.9606185555458069,-0.9816173911094666,-0.8812885880470276,0.5761483907699585,-0.9945464134216309,-0.9895645976066589,-0.7128810882568359,-0.49552488327026367,0.8078489899635315,-0.8522756695747375,0.23322980105876923,-0.926739513874054,0.5835453271865845,-0.013180149719119072,-0.4258188009262085,-0.7430751323699951,0.780602753162384,-0.765842854976654,0.05995899438858032,-0.8196802139282227,-0.9318659901618958,-0.8874685168266296,-0.9102534055709839,0.3082229793071747,0.8063852787017822,-0.9924238324165344,-0.9756461381912231,-0.8896071314811707,-0.8671972751617432,0.77585369348526,0.13215290009975433,-0.580689549446106,0.22513344883918762,0.6735289692878723,-0.8343577980995178,-0.7358140349388123,-0.9110669493675232,-0.9602864980697632,0.8512548804283142,-0.9684802293777466,-0.9407098293304443,-0.9979739189147949,0.89774090051651,0.9704272747039795,0.8726307153701782,0.40386080741882324,0.9930811524391174,0.5213159322738647,0.9781655073165894,0.5855349898338318,-0.9027260541915894,-0.8834004998207092,-0.5423468351364136,0.9409619569778442,0.8359274864196777,-0.8637393116950989,0.5248171091079712,0.99662846326828,-0.9522208571434021,-0.9872304201126099,0.6715940237045288,0.9937922954559326,-0.9138074517250061,0.9766932129859924,0.9122458100318909,0.2790573239326477,-0.961842954158783,-0.9783851504325867,0.973146378993988,0.08048471063375473,0.9878689050674438,0.44958189129829407,0.594331681728363,0.9868662357330322,0.9446561932563782,0.9691764712333679,-0.9577015042304993,0.9935531616210938,-0.42859718203544617,-0.8584242463111877,0.7508236169815063,-0.9265490174293518,-0.8948172926902771,-0.8123891949653625,0.813616931438446,0.9970722794532776,0.8170932531356812],\"y\":[0.29703402519226074,0.9300479888916016,-0.4865773618221283,0.4490712881088257,0.6453315615653992,0.9578325748443604,0.9846838116645813,0.8048300743103027,0.9104548096656799,0.008278920315206051,0.8512911796569824,0.7982267737388611,0.34252551198005676,0.5836831331253052,0.5864839553833008,-0.5132154226303101,0.7137700319290161,0.6152786612510681,0.5354622602462769,0.044366106390953064,0.257747083902359,0.915032684803009,0.9059698581695557,-0.8932178616523743,0.7732836008071899,-0.6249399781227112,-0.7611643671989441,0.29168909788131714,0.6407787799835205,-0.28324607014656067,0.6946844458580017,0.9538826942443848,0.9959009885787964,-0.3686027228832245,-0.9232672452926636,0.8789258003234863,0.7747339606285095,0.24122872948646545,0.6191985607147217,0.9635599255561829,0.6245552897453308,0.560617983341217,-0.02481885626912117,-0.18306444585323334,0.7828752994537354,0.8440909385681152,0.9236845970153809,-0.12460627406835556,-0.28031620383262634,0.3864777386188507,0.8150920271873474,0.8659684062004089,0.3650692403316498,0.9672163128852844,0.8015397191047668,0.0956539437174797,0.9690752029418945,0.6104956269264221,-0.7663863897323608,0.9108237028121948,-0.7416503429412842,0.5520510673522949,0.6765651106834412,0.971896231174469,-0.03135247156023979,-0.4381592273712158,-0.9479915499687195,0.8768210411071777,0.7963331341743469,0.9742105603218079,0.13898013532161713,0.8320652842521667,0.8701813220977783,-0.02366022951900959,-0.20394141972064972,-0.9148423671722412,0.2671431601047516,0.8719785809516907,0.9529539346694946,0.5805729031562805,0.2006903737783432,-0.16206224262714386,0.7136544585227966,0.8669768571853638,-0.7272327542304993,0.6823471188545227,-0.08246976137161255,0.6037423610687256,-0.08103173971176147,0.8040550351142883,0.870285153388977,0.7835898399353027,0.8065252900123596,-0.28797847032546997,0.17539677023887634,-0.02282721921801567,0.6394599080085754,0.9948364496231079,-0.22579136490821838,-0.47599396109580994,-0.39616313576698303,0.9543033838272095,-0.09435921162366867,0.6677011251449585,0.1760590374469757,-0.19144026935100555,0.7124695777893066,-0.3572692275047302,0.8907052278518677,0.8749537467956543,-0.8001108765602112,-0.23277147114276886,-0.16429221630096436,0.5017504692077637,-0.6786585450172424,-0.14081712067127228,0.4411475360393524,0.9310794472694397,-0.6796771883964539,0.5241444110870361,0.5944046974182129,0.8510175943374634,0.05245993658900261,0.39759206771850586,-0.2539330720901489,-0.34446558356285095,0.6344977617263794,-0.961054801940918,0.17091313004493713,0.09594091773033142,0.7275538444519043,0.3790897727012634,0.33310917019844055,-0.5222008228302002,0.5677300095558167,-0.8462488651275635,0.7952303290367126,0.8749087452888489,-0.42104750871658325,0.24990275502204895,-0.479254812002182,-0.3684627413749695,0.4366389811038971,0.03624812513589859,-0.04010378196835518,-0.2645953595638275,0.12567731738090515,-0.8676101565361023,0.2782590985298157,0.30249547958374023,0.7799679636955261,-0.3698287606239319,-0.27650219202041626,-0.4406851828098297,-0.8290089964866638,0.24337360262870789,0.43185955286026,0.20870617032051086,0.7945604920387268,0.6534825563430786,0.7925193309783936,0.43240734934806824,-0.49736925959587097,0.22919361293315887,-0.4673416018486023,0.848171591758728,-0.5270667672157288,-0.6221066117286682,0.28865712881088257,0.9282053112983704,0.628915548324585,0.6291450262069702,0.358719140291214,0.2307860553264618,-0.691769003868103,0.2806965112686157,-0.7294744849205017,0.3610212206840515,0.6655281186103821,-0.5171341896057129,0.688603937625885,0.4658870995044708,-0.023724112659692764,-0.9870103597640991,-0.21128085255622864,-0.32617008686065674,-0.9323421120643616,0.6993362903594971,-0.32188671827316284,-0.8561243414878845,0.8215318322181702,-0.3033357560634613,-0.868031919002533,0.30794575810432434,-0.20382153987884521,-0.6215555667877197,0.4153648018836975,0.26596036553382874,-0.8666715621948242,-0.6582428812980652,0.21314896643161774,-0.3966902792453766,0.26001206040382385,0.7169339060783386,0.11414109170436859,-0.4982481598854065,0.5037099123001099,-0.29349711537361145,-0.2284296751022339,-0.4592079222202301,-0.8545193672180176,-0.2330494374036789,0.7180414199829102,-0.9131060838699341,-0.3778547942638397,0.5589441657066345,-0.12734238803386688,-0.5059652924537659,0.41065576672554016,0.09562218934297562,-0.7790501117706299,0.6481786966323853,-0.8975212574005127,-0.37258338928222656,0.7915717363357544,-0.22562067210674286,-0.7439428567886353,0.8759743571281433,-0.3397577106952667,0.2139228731393814,0.28357017040252686,-0.3702545166015625,0.9285435676574707,-0.9654089212417603,0.7282109260559082,0.03264310210943222,-0.37165695428848267,-0.40996161103248596,-0.7200481295585632,-0.25438711047172546,-0.20487195253372192,-0.76800936460495,0.43946900963783264,-0.03575725853443146,0.8050091862678528,0.7212164402008057,0.4289191961288452,-0.08858590573072433,0.15388917922973633,0.700284481048584,0.8171795010566711,0.16194866597652435,-0.3967101573944092,-0.44842472672462463,0.9157422184944153,-0.9781450033187866,-0.1473369300365448,-0.030618587508797646,-0.1064889207482338,0.6071374416351318,-0.8392978310585022,0.3276050388813019,0.3979185223579407,0.974227249622345,-0.0026010172441601753,-0.3873087167739868,0.5926454067230225,-0.418803334236145,0.13285960257053375,-0.5917418003082275,0.21521134674549103,0.2964581847190857,0.85712730884552,-0.2111002504825592,-0.35396555066108704,-0.33964961767196655,0.29905417561531067,0.347686231136322,-0.6155681610107422,0.43459758162498474,0.4877128601074219,0.47433918714523315,0.8909282684326172,-0.435874342918396,-0.7144777178764343,-0.08245814591646194,-0.20501704514026642,0.8557767868041992,0.29983970522880554,0.09498611092567444,0.9765622615814209,0.867669939994812,-0.44471868872642517,0.22376906871795654,-0.37457185983657837,-0.32144641876220703,0.6878269910812378,-0.4759400486946106,0.9092344641685486,-0.36287227272987366,0.5101931095123291,0.1635844111442566,-0.2284676879644394,-0.8137924075126648,-0.11016503721475601,0.6389540433883667,-0.2494744211435318,0.8358720541000366,-0.6085027456283569,-0.31804755330085754,0.13919909298419952,0.38071200251579285,-0.29007217288017273,-0.38685253262519836,0.6019304990768433,0.7362844944000244,-0.29244866967201233,-0.2386055439710617,-0.1911158263683319,0.9866120219230652,-0.5255299806594849,0.2522577941417694,-0.15627531707286835,-0.20016400516033173,0.8110049962997437,-0.7109383344650269,-0.18381540477275848,-0.8674848079681396,-0.9959015250205994,0.44028306007385254,-0.4774370789527893,-0.45454052090644836,-0.6612715125083923,-0.28330427408218384,0.9649019241333008,-0.28476667404174805,-0.04623690992593765,-0.40321382880210876,-0.2923738658428192,-0.30109912157058716,0.3563136160373688,-0.800938606262207,-0.5941986441612244,0.16600577533245087,0.7529438734054565,-0.19869519770145416,-0.2563857436180115,-0.3532566428184509,-0.28414827585220337,-0.8058953881263733,-0.3254680633544922,-0.044594913721084595,-0.25893309712409973,0.19253535568714142,-0.09442851692438126,0.09854742884635925,-0.8794440031051636,-0.16745902597904205,-0.27187231183052063,0.528281033039093,0.13440659642219543,-0.7962747812271118,-0.9978563189506531,-0.39068374037742615,0.5057938694953918,-0.5483307242393494,-0.21308568120002747,0.7997949719429016,-0.9481953978538513,-0.328757643699646,0.944013237953186,0.03390147164463997,-0.1277271807193756,-0.7828212976455688,0.21795621514320374,-0.40725529193878174,-0.28918400406837463,-0.07100126892328262,-0.25455302000045776,-0.3991145193576813,-0.3813273012638092,-0.3064146339893341,-0.16930867731571198,0.4752539396286011,-0.8203374147415161,-0.0677274689078331,-0.34204748272895813,-0.27174898982048035,-0.4284023642539978,-0.19892823696136475,-0.18472860753536224,-0.3979630172252655,0.30180421471595764,-0.9573895335197449,0.9407300353050232,0.7534914612770081,0.8171536326408386,-0.1380401849746704,0.29502373933792114,-0.1422593593597412,0.07589578628540039,-0.15543131530284882,-0.1540452241897583,0.5445600152015686,-0.2542293071746826,-0.1422659158706665,0.18099014461040497,-0.1886860877275467,0.21343256533145905,0.5766136050224304,-0.002085179788991809,-0.56326824426651,-0.27731645107269287,-0.1875564306974411,-0.47239336371421814,-0.771912157535553,0.015667634084820747,0.12411841005086899,-0.6687183380126953,-0.8521389961242676,-0.31066954135894775,-0.5018793344497681,-0.9622737169265747,-0.37433865666389465,-0.7668769359588623,0.9885765314102173,-0.9044761657714844,-0.5793405175209045,-0.48359355330467224,-0.642541229724884,0.9152616262435913,-0.5716442465782166,-0.32337304949760437,0.40671244263648987,-0.39608582854270935,0.9483901262283325,-0.5679217576980591,-0.10195416957139969,0.21935054659843445,-0.4517752528190613,-0.3406006097793579,-0.6304643154144287,0.865336537361145,0.7569904923439026,-0.9061422348022461,0.6407083868980408,0.5499534606933594,0.5966605544090271,-0.4105134606361389,-0.27238932251930237,-0.33237510919570923,-0.23766803741455078,-0.3358888030052185,-0.03552783653140068,-0.43348586559295654,-0.2391347736120224,0.4218420088291168,-0.3593809902667999,-0.000978605356067419,0.8407827615737915,-0.20658566057682037,-0.7531179785728455,0.24092891812324524,-0.4679371416568756,0.8100531697273254,-0.33616411685943604,-0.11918137222528458,-0.49806898832321167,-0.8480094075202942,-0.029845034703612328,-0.30459991097450256,-0.03127923235297203,-0.6162492036819458,-0.07387842983007431,0.40571165084838867,-0.15154395997524261,-0.3070409595966339,-0.8848727941513062,-0.2682194113731384,-0.17569662630558014,-0.22358308732509613,0.9417362213134766,0.14762870967388153,0.8843991160392761,0.8032951951026917,0.065826416015625,-0.3257006108760834,-0.04017976298928261,-0.2837699055671692,-0.03155329450964928,-0.8399856686592102,-0.5048068761825562,0.6461268067359924,0.003218746045604348,-0.4367450177669525,-0.5589200258255005,-0.5713281631469727,-0.05775495991110802,-0.5667166709899902],\"z\":[-0.8640955686569214,-0.11299103498458862,-0.5991037487983704,-0.08390289545059204,0.1370220184326172,0.2768026888370514,-0.02262135222554207,-0.27989599108695984,-0.3695850074291229,-0.9546951651573181,0.2217985838651657,0.2784937918186188,-0.5346744060516357,0.30926427245140076,0.048596955835819244,0.712255597114563,0.23681297898292542,-0.6395722031593323,-0.13634438812732697,0.1286608725786209,0.22188764810562134,-0.3528870940208435,0.4045378267765045,-0.15393871068954468,0.017403682693839073,-0.256553053855896,-0.5443734526634216,-0.7512150406837463,-0.6451011896133423,-0.8737400770187378,0.06037634238600731,-0.28588324785232544,0.05876145511865616,-0.1908063292503357,0.1436266005039215,-0.15377414226531982,-0.06004871055483818,-0.17722314596176147,-0.7372536659240723,-0.10345771908760071,0.05100265145301819,-0.19464944303035736,0.04262900725007057,-0.6767758131027222,0.4546358585357666,-0.2942160367965698,0.1125112846493721,-0.7807689905166626,0.10062260180711746,-0.19995412230491638,-0.560891330242157,0.25156620144844055,0.15179038047790527,-0.04869133606553078,-0.23288634419441223,0.06019219383597374,-0.1719423532485962,0.6112557053565979,-0.6313470602035522,-0.33801668882369995,0.139543354511261,0.1701337844133377,0.0659070611000061,-0.09605157375335693,-0.07538226991891861,0.26814737915992737,-0.010982495732605457,-0.01982494816184044,0.2982170581817627,0.21894128620624542,0.06086061894893646,-0.5398743152618408,0.035589221864938736,0.02617849037051201,-0.5481529235839844,-0.3799563944339752,-0.5495104193687439,-0.09582333266735077,-0.09859462827444077,0.20710837841033936,0.16442307829856873,0.07143653184175491,-0.24614183604717255,-0.23137347400188446,0.11278534680604935,-0.0414164699614048,0.06976765394210815,0.1650310754776001,0.08691703528165817,-0.08972339332103729,-0.14950424432754517,0.4129418730735779,-0.3743966221809387,-0.04511565342545509,0.05851202830672264,0.274033784866333,-0.10429221391677856,-0.10054488480091095,0.21713609993457794,-0.30625206232070923,0.5049557089805603,-0.26865118741989136,-0.09897684305906296,-0.18963347375392914,-0.2276233434677124,0.10863389819860458,0.22207960486412048,-0.0200567077845335,-0.30382415652275085,0.38395214080810547,-0.025109482929110527,0.27832916378974915,0.0484258234500885,0.10174324363470078,0.30944836139678955,0.034768372774124146,0.03449077159166336,0.2673572897911072,-0.03615853935480118,0.07309959083795547,-0.18230849504470825,-0.014511416666209698,-0.13281425833702087,-0.24243682622909546,0.09581917524337769,0.0036977571435272694,0.04473983868956566,-0.11601684242486954,0.04205343499779701,-0.15598711371421814,0.18251477181911469,-0.03384154662489891,-0.11237344145774841,-0.7657650113105774,0.3006629943847656,-0.19712811708450317,0.16644203662872314,-0.2576388716697693,0.9004303812980652,-0.16516344249248505,-0.691877543926239,-0.013258171267807484,0.12823599576950073,0.1403060406446457,-0.011460110545158386,-0.07231311500072479,0.09497540444135666,0.015326427295804024,-0.3299531936645508,-0.20929211378097534,-0.0024623980280011892,-0.7814740538597107,0.9501014351844788,-0.17721042037010193,0.45944246649742126,-0.19605712592601776,0.12594984471797943,0.6872427463531494,0.3439018726348877,0.10067523270845413,0.28671586513519287,-0.1326405256986618,-0.31332600116729736,-0.06878404319286346,0.1736045777797699,-0.045769061893224716,0.22130751609802246,0.13513873517513275,0.10772953927516937,-0.2878197431564331,-0.13299359381198883,-0.05713841691613197,0.05262084677815437,-0.08100130409002304,0.029708655551075935,0.12545950710773468,-0.0881526917219162,-0.31237363815307617,-0.4698963463306427,0.5267423391342163,-0.1335141807794571,0.16431103646755219,0.14828172326087952,-0.12587761878967285,0.13306370377540588,0.11649835854768753,0.3567235767841339,-0.4092086851596832,0.1528329700231552,-0.18815873563289642,0.08439722657203674,-0.055010534822940826,-0.4715881943702698,0.2334747314453125,-0.07010365277528763,0.14407776296138763,0.052771709859371185,-0.1278667449951172,0.16801492869853973,0.013955184258520603,-0.056768547743558884,-0.114594466984272,-0.20474933087825775,0.3195585012435913,0.06617151200771332,-0.3742242157459259,-0.10986889153718948,-0.09515894949436188,-0.04276781901717186,-0.8512185215950012,-0.30329838395118713,-0.0016258113319054246,0.002184755401685834,-0.38888800144195557,0.09944109618663788,0.17950712144374847,0.01714165508747101,-0.4660826623439789,0.005388165358453989,0.27117300033569336,0.13338133692741394,-0.17489872872829437,0.10004687309265137,-0.04104628041386604,-0.03669656813144684,-0.1360531747341156,-0.46985164284706116,-0.41298696398735046,-0.3166009485721588,-0.00563696026802063,-0.02302907034754753,0.18224433064460754,0.2840403914451599,-0.25643405318260193,-0.16895681619644165,0.07099465280771255,-0.11351557075977325,-0.19135241210460663,0.08332247287034988,-0.0979357436299324,-0.04220546409487724,-0.24789761006832123,0.16299188137054443,-0.11304032057523727,-0.5016394257545471,-0.08245314657688141,-0.03166481852531433,0.07740899920463562,-0.3452308773994446,0.009597987867891788,0.06468459963798523,-0.06760263442993164,-0.6097412109375,-0.07080895453691483,-0.261313259601593,-0.06833341717720032,-0.009100431576371193,0.09708467125892639,0.014178409241139889,0.0503704696893692,-0.11968687176704407,-0.18483854830265045,0.06391175091266632,-0.19399768114089966,0.03608926758170128,-0.028817560523748398,0.039194345474243164,0.24473004043102264,-0.06498343497514725,0.3823646008968353,-0.006627514958381653,-0.057311803102493286,0.08125470578670502,-0.04318097606301308,-0.09721562266349792,-0.24313826858997345,0.24528825283050537,0.04680979251861572,0.08267251402139664,-0.0764307901263237,0.02194215916097164,-0.21832628548145294,0.17019914090633392,-0.07982128113508224,-0.3637855350971222,0.1483011692762375,-0.09141599386930466,0.33677685260772705,-0.07285495102405548,0.2296106368303299,-0.15257376432418823,-0.331384539604187,-0.09621981531381607,-0.23934370279312134,-0.06079716235399246,-0.18753080070018768,-0.025393061339855194,0.1531723439693451,-0.23207421600818634,0.07453491538763046,0.024860795587301254,0.0270994883030653,-0.07629590481519699,-0.3312062919139862,-0.004463342949748039,-0.10727290064096451,0.03489632532000542,0.052883632481098175,0.11698818951845169,0.04353819414973259,-0.19090233743190765,0.8293822407722473,0.05970022454857826,0.18590374290943146,0.03387168049812317,0.19491299986839294,0.17786362767219543,0.08525532484054565,0.08515896648168564,-0.008034510537981987,0.08698282390832901,-0.28471609950065613,-0.04852470010519028,0.0492372140288353,0.03794234246015549,0.34684911370277405,0.0555633008480072,0.33842238783836365,-0.07432109117507935,0.02470017783343792,-0.05513883754611015,0.10686292499303818,-0.2513963282108307,0.05894692242145538,-0.042783889919519424,-0.023103846237063408,-0.043088916689157486,-0.06068313494324684,0.082523413002491,0.09193425625562668,-0.35581648349761963,-0.008288267068564892,0.088609978556633,-0.4198455810546875,-0.04267359524965286,0.024840544909238815,0.02791426330804825,-0.007405941374599934,-0.10864818841218948,-0.4997476637363434,-0.04252367466688156,-0.00674475310370326,0.05984196811914444,0.027193596586585045,0.046937499195337296,0.10303477197885513,-0.035606078803539276,0.02825121581554413,-0.02679065614938736,-0.08235868066549301,-0.01482762023806572,0.04295704513788223,0.05104229971766472,0.13350701332092285,-0.27504202723503113,-0.16732698678970337,0.20946359634399414,-0.6001116633415222,0.017206300050020218,-0.05331313610076904,-0.1866195648908615,0.09311503916978836,0.09785446524620056,-0.12040376663208008,0.008848489262163639,-0.017601165920495987,-0.000774947926402092,-0.0956721305847168,-0.3818172216415405,-0.12102574110031128,0.11629078537225723,-0.04724733904004097,-0.031515754759311676,0.01031184010207653,0.017530085518956184,-0.12247022241353989,-0.11465383321046829,0.06919248402118683,0.2279323786497116,0.0960632860660553,0.08942419290542603,-0.08944989740848541,0.04586147889494896,-0.20198145508766174,-0.0722711831331253,-0.20417992770671844,0.25719261169433594,0.12699513137340546,-0.41341590881347656,0.5220705270767212,-0.10407272726297379,0.11776632070541382,0.020034726709127426,0.328879177570343,0.26822155714035034,0.015998147428035736,-0.0004732251982204616,-0.08968913555145264,-0.23978854715824127,0.21555158495903015,-0.013614987023174763,0.0708097591996193,0.017535431310534477,-0.03535386547446251,-0.013228931464254856,0.2687092423439026,0.10311079025268555,0.0731879323720932,0.2112257033586502,-0.1682683676481247,-0.5008636713027954,0.14745588600635529,0.1401183158159256,0.0320059210062027,0.26716020703315735,-0.15014243125915527,0.02451871894299984,0.3349684774875641,-0.3959755301475525,0.025012049823999405,0.39837297797203064,0.03670255467295647,0.16448569297790527,0.21675948798656464,0.12064318358898163,0.07453009486198425,0.16494783759117126,0.06855836510658264,-0.00027377341757528484,0.06706906855106354,-0.36326324939727783,0.023783907294273376,-0.48345446586608887,-0.2996082007884979,0.35807982087135315,-0.36858049035072327,0.03739317134022713,-0.3202716112136841,0.03789159655570984,0.06044672057032585,-0.4060687720775604,-0.07456530630588531,-0.0473686084151268,-0.05278073251247406,0.0784304216504097,0.03294718638062477,-0.2460995465517044,0.841273844242096,0.11742614209651947,-0.1459931582212448,-0.022685380652546883,-0.2999369204044342,-0.356425404548645,0.025267768651247025,-0.22287602722644806,0.039802901446819305,-0.5357434153556824,0.0766914114356041,-0.07380340248346329,-0.07642672955989838,-0.02223438397049904,0.15619774162769318,0.4113372564315796,0.08317959308624268,0.018813857808709145,0.15200242400169373,-0.2711707055568695,-0.3729974925518036,-0.05400499701499939,0.10905574262142181,0.05474209412932396,0.32658085227012634,-0.04817427322268486,0.12535643577575684,0.03855754807591438,0.14751926064491272,0.039291419088840485,-0.24306902289390564,0.04777529090642929,-0.10888735949993134,0.3327590823173523,0.09098289161920547,-0.1370549499988556,-0.376160204410553,-0.09249798953533173,-0.1662297248840332,-0.10775645822286606,-0.0501122809946537,-0.1057867631316185],\"type\":\"scatter3d\"}],                        {\"template\":{\"data\":{\"histogram2dcontour\":[{\"type\":\"histogram2dcontour\",\"colorbar\":{\"outlinewidth\":0,\"ticks\":\"\"},\"colorscale\":[[0.0,\"#0d0887\"],[0.1111111111111111,\"#46039f\"],[0.2222222222222222,\"#7201a8\"],[0.3333333333333333,\"#9c179e\"],[0.4444444444444444,\"#bd3786\"],[0.5555555555555556,\"#d8576b\"],[0.6666666666666666,\"#ed7953\"],[0.7777777777777778,\"#fb9f3a\"],[0.8888888888888888,\"#fdca26\"],[1.0,\"#f0f921\"]]}],\"choropleth\":[{\"type\":\"choropleth\",\"colorbar\":{\"outlinewidth\":0,\"ticks\":\"\"}}],\"histogram2d\":[{\"type\":\"histogram2d\",\"colorbar\":{\"outlinewidth\":0,\"ticks\":\"\"},\"colorscale\":[[0.0,\"#0d0887\"],[0.1111111111111111,\"#46039f\"],[0.2222222222222222,\"#7201a8\"],[0.3333333333333333,\"#9c179e\"],[0.4444444444444444,\"#bd3786\"],[0.5555555555555556,\"#d8576b\"],[0.6666666666666666,\"#ed7953\"],[0.7777777777777778,\"#fb9f3a\"],[0.8888888888888888,\"#fdca26\"],[1.0,\"#f0f921\"]]}],\"heatmap\":[{\"type\":\"heatmap\",\"colorbar\":{\"outlinewidth\":0,\"ticks\":\"\"},\"colorscale\":[[0.0,\"#0d0887\"],[0.1111111111111111,\"#46039f\"],[0.2222222222222222,\"#7201a8\"],[0.3333333333333333,\"#9c179e\"],[0.4444444444444444,\"#bd3786\"],[0.5555555555555556,\"#d8576b\"],[0.6666666666666666,\"#ed7953\"],[0.7777777777777778,\"#fb9f3a\"],[0.8888888888888888,\"#fdca26\"],[1.0,\"#f0f921\"]]}],\"heatmapgl\":[{\"type\":\"heatmapgl\",\"colorbar\":{\"outlinewidth\":0,\"ticks\":\"\"},\"colorscale\":[[0.0,\"#0d0887\"],[0.1111111111111111,\"#46039f\"],[0.2222222222222222,\"#7201a8\"],[0.3333333333333333,\"#9c179e\"],[0.4444444444444444,\"#bd3786\"],[0.5555555555555556,\"#d8576b\"],[0.6666666666666666,\"#ed7953\"],[0.7777777777777778,\"#fb9f3a\"],[0.8888888888888888,\"#fdca26\"],[1.0,\"#f0f921\"]]}],\"contourcarpet\":[{\"type\":\"contourcarpet\",\"colorbar\":{\"outlinewidth\":0,\"ticks\":\"\"}}],\"contour\":[{\"type\":\"contour\",\"colorbar\":{\"outlinewidth\":0,\"ticks\":\"\"},\"colorscale\":[[0.0,\"#0d0887\"],[0.1111111111111111,\"#46039f\"],[0.2222222222222222,\"#7201a8\"],[0.3333333333333333,\"#9c179e\"],[0.4444444444444444,\"#bd3786\"],[0.5555555555555556,\"#d8576b\"],[0.6666666666666666,\"#ed7953\"],[0.7777777777777778,\"#fb9f3a\"],[0.8888888888888888,\"#fdca26\"],[1.0,\"#f0f921\"]]}],\"surface\":[{\"type\":\"surface\",\"colorbar\":{\"outlinewidth\":0,\"ticks\":\"\"},\"colorscale\":[[0.0,\"#0d0887\"],[0.1111111111111111,\"#46039f\"],[0.2222222222222222,\"#7201a8\"],[0.3333333333333333,\"#9c179e\"],[0.4444444444444444,\"#bd3786\"],[0.5555555555555556,\"#d8576b\"],[0.6666666666666666,\"#ed7953\"],[0.7777777777777778,\"#fb9f3a\"],[0.8888888888888888,\"#fdca26\"],[1.0,\"#f0f921\"]]}],\"mesh3d\":[{\"type\":\"mesh3d\",\"colorbar\":{\"outlinewidth\":0,\"ticks\":\"\"}}],\"scatter\":[{\"fillpattern\":{\"fillmode\":\"overlay\",\"size\":10,\"solidity\":0.2},\"type\":\"scatter\"}],\"parcoords\":[{\"type\":\"parcoords\",\"line\":{\"colorbar\":{\"outlinewidth\":0,\"ticks\":\"\"}}}],\"scatterpolargl\":[{\"type\":\"scatterpolargl\",\"marker\":{\"colorbar\":{\"outlinewidth\":0,\"ticks\":\"\"}}}],\"bar\":[{\"error_x\":{\"color\":\"#2a3f5f\"},\"error_y\":{\"color\":\"#2a3f5f\"},\"marker\":{\"line\":{\"color\":\"#E5ECF6\",\"width\":0.5},\"pattern\":{\"fillmode\":\"overlay\",\"size\":10,\"solidity\":0.2}},\"type\":\"bar\"}],\"scattergeo\":[{\"type\":\"scattergeo\",\"marker\":{\"colorbar\":{\"outlinewidth\":0,\"ticks\":\"\"}}}],\"scatterpolar\":[{\"type\":\"scatterpolar\",\"marker\":{\"colorbar\":{\"outlinewidth\":0,\"ticks\":\"\"}}}],\"histogram\":[{\"marker\":{\"pattern\":{\"fillmode\":\"overlay\",\"size\":10,\"solidity\":0.2}},\"type\":\"histogram\"}],\"scattergl\":[{\"type\":\"scattergl\",\"marker\":{\"colorbar\":{\"outlinewidth\":0,\"ticks\":\"\"}}}],\"scatter3d\":[{\"type\":\"scatter3d\",\"line\":{\"colorbar\":{\"outlinewidth\":0,\"ticks\":\"\"}},\"marker\":{\"colorbar\":{\"outlinewidth\":0,\"ticks\":\"\"}}}],\"scattermapbox\":[{\"type\":\"scattermapbox\",\"marker\":{\"colorbar\":{\"outlinewidth\":0,\"ticks\":\"\"}}}],\"scatterternary\":[{\"type\":\"scatterternary\",\"marker\":{\"colorbar\":{\"outlinewidth\":0,\"ticks\":\"\"}}}],\"scattercarpet\":[{\"type\":\"scattercarpet\",\"marker\":{\"colorbar\":{\"outlinewidth\":0,\"ticks\":\"\"}}}],\"carpet\":[{\"aaxis\":{\"endlinecolor\":\"#2a3f5f\",\"gridcolor\":\"white\",\"linecolor\":\"white\",\"minorgridcolor\":\"white\",\"startlinecolor\":\"#2a3f5f\"},\"baxis\":{\"endlinecolor\":\"#2a3f5f\",\"gridcolor\":\"white\",\"linecolor\":\"white\",\"minorgridcolor\":\"white\",\"startlinecolor\":\"#2a3f5f\"},\"type\":\"carpet\"}],\"table\":[{\"cells\":{\"fill\":{\"color\":\"#EBF0F8\"},\"line\":{\"color\":\"white\"}},\"header\":{\"fill\":{\"color\":\"#C8D4E3\"},\"line\":{\"color\":\"white\"}},\"type\":\"table\"}],\"barpolar\":[{\"marker\":{\"line\":{\"color\":\"#E5ECF6\",\"width\":0.5},\"pattern\":{\"fillmode\":\"overlay\",\"size\":10,\"solidity\":0.2}},\"type\":\"barpolar\"}],\"pie\":[{\"automargin\":true,\"type\":\"pie\"}]},\"layout\":{\"autotypenumbers\":\"strict\",\"colorway\":[\"#636efa\",\"#EF553B\",\"#00cc96\",\"#ab63fa\",\"#FFA15A\",\"#19d3f3\",\"#FF6692\",\"#B6E880\",\"#FF97FF\",\"#FECB52\"],\"font\":{\"color\":\"#2a3f5f\"},\"hovermode\":\"closest\",\"hoverlabel\":{\"align\":\"left\"},\"paper_bgcolor\":\"white\",\"plot_bgcolor\":\"#E5ECF6\",\"polar\":{\"bgcolor\":\"#E5ECF6\",\"angularaxis\":{\"gridcolor\":\"white\",\"linecolor\":\"white\",\"ticks\":\"\"},\"radialaxis\":{\"gridcolor\":\"white\",\"linecolor\":\"white\",\"ticks\":\"\"}},\"ternary\":{\"bgcolor\":\"#E5ECF6\",\"aaxis\":{\"gridcolor\":\"white\",\"linecolor\":\"white\",\"ticks\":\"\"},\"baxis\":{\"gridcolor\":\"white\",\"linecolor\":\"white\",\"ticks\":\"\"},\"caxis\":{\"gridcolor\":\"white\",\"linecolor\":\"white\",\"ticks\":\"\"}},\"coloraxis\":{\"colorbar\":{\"outlinewidth\":0,\"ticks\":\"\"}},\"colorscale\":{\"sequential\":[[0.0,\"#0d0887\"],[0.1111111111111111,\"#46039f\"],[0.2222222222222222,\"#7201a8\"],[0.3333333333333333,\"#9c179e\"],[0.4444444444444444,\"#bd3786\"],[0.5555555555555556,\"#d8576b\"],[0.6666666666666666,\"#ed7953\"],[0.7777777777777778,\"#fb9f3a\"],[0.8888888888888888,\"#fdca26\"],[1.0,\"#f0f921\"]],\"sequentialminus\":[[0.0,\"#0d0887\"],[0.1111111111111111,\"#46039f\"],[0.2222222222222222,\"#7201a8\"],[0.3333333333333333,\"#9c179e\"],[0.4444444444444444,\"#bd3786\"],[0.5555555555555556,\"#d8576b\"],[0.6666666666666666,\"#ed7953\"],[0.7777777777777778,\"#fb9f3a\"],[0.8888888888888888,\"#fdca26\"],[1.0,\"#f0f921\"]],\"diverging\":[[0,\"#8e0152\"],[0.1,\"#c51b7d\"],[0.2,\"#de77ae\"],[0.3,\"#f1b6da\"],[0.4,\"#fde0ef\"],[0.5,\"#f7f7f7\"],[0.6,\"#e6f5d0\"],[0.7,\"#b8e186\"],[0.8,\"#7fbc41\"],[0.9,\"#4d9221\"],[1,\"#276419\"]]},\"xaxis\":{\"gridcolor\":\"white\",\"linecolor\":\"white\",\"ticks\":\"\",\"title\":{\"standoff\":15},\"zerolinecolor\":\"white\",\"automargin\":true,\"zerolinewidth\":2},\"yaxis\":{\"gridcolor\":\"white\",\"linecolor\":\"white\",\"ticks\":\"\",\"title\":{\"standoff\":15},\"zerolinecolor\":\"white\",\"automargin\":true,\"zerolinewidth\":2},\"scene\":{\"xaxis\":{\"backgroundcolor\":\"#E5ECF6\",\"gridcolor\":\"white\",\"linecolor\":\"white\",\"showbackground\":true,\"ticks\":\"\",\"zerolinecolor\":\"white\",\"gridwidth\":2},\"yaxis\":{\"backgroundcolor\":\"#E5ECF6\",\"gridcolor\":\"white\",\"linecolor\":\"white\",\"showbackground\":true,\"ticks\":\"\",\"zerolinecolor\":\"white\",\"gridwidth\":2},\"zaxis\":{\"backgroundcolor\":\"#E5ECF6\",\"gridcolor\":\"white\",\"linecolor\":\"white\",\"showbackground\":true,\"ticks\":\"\",\"zerolinecolor\":\"white\",\"gridwidth\":2}},\"shapedefaults\":{\"line\":{\"color\":\"#2a3f5f\"}},\"annotationdefaults\":{\"arrowcolor\":\"#2a3f5f\",\"arrowhead\":0,\"arrowwidth\":1},\"geo\":{\"bgcolor\":\"white\",\"landcolor\":\"#E5ECF6\",\"subunitcolor\":\"white\",\"showland\":true,\"showlakes\":true,\"lakecolor\":\"white\"},\"title\":{\"x\":0.05},\"mapbox\":{\"style\":\"light\"}}},\"scene\":{\"domain\":{\"x\":[0.0,1.0],\"y\":[0.0,1.0]},\"xaxis\":{\"title\":{\"text\":\"x\"}},\"yaxis\":{\"title\":{\"text\":\"y\"}},\"zaxis\":{\"title\":{\"text\":\"z\"}}},\"legend\":{\"tracegroupgap\":0},\"margin\":{\"t\":60}},                        {\"responsive\": true}                    ).then(function(){\n",
       "                            \n",
       "var gd = document.getElementById('0398d9e6-3ad3-4f7b-b71a-25981061ac72');\n",
       "var x = new MutationObserver(function (mutations, observer) {{\n",
       "        var display = window.getComputedStyle(gd).display;\n",
       "        if (!display || display === 'none') {{\n",
       "            console.log([gd, 'removed!']);\n",
       "            Plotly.purge(gd);\n",
       "            observer.disconnect();\n",
       "        }}\n",
       "}});\n",
       "\n",
       "// Listen for the removal of the full notebook cells\n",
       "var notebookContainer = gd.closest('#notebook-container');\n",
       "if (notebookContainer) {{\n",
       "    x.observe(notebookContainer, {childList: true});\n",
       "}}\n",
       "\n",
       "// Listen for the clearing of the current output cell\n",
       "var outputEl = gd.closest('.output');\n",
       "if (outputEl) {{\n",
       "    x.observe(outputEl, {childList: true});\n",
       "}}\n",
       "\n",
       "                        })                };                });            </script>        </div>"
      ]
     },
     "metadata": {},
     "output_type": "display_data"
    }
   ],
   "source": [
    "spherized_emb = np.array(word_emb_df['normalized'].tolist())\n",
    "\n",
    "fig = px.scatter_3d(\n",
    "    data_frame=word_emb_df,\n",
    "    x=spherized_emb[:VOCAB_SIZE-1, 0],\n",
    "    y=spherized_emb[:VOCAB_SIZE-1, 1],\n",
    "    z=spherized_emb[:VOCAB_SIZE-1, 2],\n",
    "    hover_data=['word'] \n",
    ")\n",
    "\n",
    "fig.show()"
   ]
  },
  {
   "cell_type": "code",
   "execution_count": 65,
   "id": "cdaaed96",
   "metadata": {},
   "outputs": [
    {
     "name": "stdout",
     "output_type": "stream",
     "text": [
      "['I loved the phone', 'I hate ceasar salad', 'Everything was cold', 'burger was juicy', 'Everything was horrible', 'the host seated us immediately', 'they gave us free chocolate cake', 'not sure about the flowers on the table']\n",
      "I loved the phone\n",
      "[0.99841607]\n",
      "\n",
      "\n",
      "I hate ceasar salad\n",
      "[0.00080779]\n",
      "\n",
      "\n",
      "Everything was cold\n",
      "[0.49635372]\n",
      "\n",
      "\n",
      "burger was juicy\n",
      "[0.0122986]\n",
      "\n",
      "\n",
      "Everything was horrible\n",
      "[0.001]\n",
      "\n",
      "\n",
      "the host seated us immediately\n",
      "[0.99510455]\n",
      "\n",
      "\n",
      "they gave us free chocolate cake\n",
      "[0.998548]\n",
      "\n",
      "\n",
      "not sure about the flowers on the table\n",
      "[0.00254988]\n",
      "\n",
      "\n"
     ]
    }
   ],
   "source": [
    "# Use the model to predict a review   \n",
    "fake_reviews = ['I loved the phone', 'I hate ceasar salad', \n",
    "                'Everything was cold',\n",
    "                'burger was juicy', \n",
    "                'Everything was horrible', \n",
    "                'the host seated us immediately',\n",
    "                'they gave us free chocolate cake', \n",
    "                'not sure about the flowers on the table',\n",
    "               ]\n",
    "\n",
    "print(fake_reviews) \n",
    "\n",
    "# Create the sequences\n",
    "sample_sequences = tokenizer.texts_to_sequences(fake_reviews)\n",
    "fakes_padded = pad_sequences(sample_sequences, maxlen=MAX_LENGTH)           \n",
    "\n",
    "\n",
    "classes = model.predict(fakes_padded)\n",
    "\n",
    "# The closer the class is to 1, the more positive the review is deemed to be\n",
    "for x in range(len(fake_reviews)):\n",
    "    print(fake_reviews[x])\n",
    "    print(classes[x])\n",
    "    print('\\n')"
   ]
  },
  {
   "cell_type": "code",
   "execution_count": null,
   "id": "328b926e",
   "metadata": {},
   "outputs": [],
   "source": []
  },
  {
   "cell_type": "code",
   "execution_count": null,
   "id": "cfcd2355",
   "metadata": {},
   "outputs": [],
   "source": []
  }
 ],
 "metadata": {
  "kernelspec": {
   "display_name": "Python 3 (ipykernel)",
   "language": "python",
   "name": "python3"
  },
  "language_info": {
   "codemirror_mode": {
    "name": "ipython",
    "version": 3
   },
   "file_extension": ".py",
   "mimetype": "text/x-python",
   "name": "python",
   "nbconvert_exporter": "python",
   "pygments_lexer": "ipython3",
   "version": "3.7.3"
  }
 },
 "nbformat": 4,
 "nbformat_minor": 5
}
